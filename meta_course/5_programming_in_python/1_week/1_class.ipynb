{
 "cells": [
  {
   "cell_type": "markdown",
   "metadata": {},
   "source": [
    "### IF and MAtch Statements:"
   ]
  },
  {
   "cell_type": "code",
   "execution_count": 2,
   "metadata": {},
   "outputs": [
    {
     "name": "stdout",
     "output_type": "stream",
     "text": [
      "20.0\n"
     ]
    }
   ],
   "source": [
    "http_status = 200\n",
    "\n",
    "if http_status == 200 or http_status == 201:\n",
    "    print('Sucess')\n",
    "elif http_status == 400:\n",
    "    print('Not Found')\n",
    "elif http_status == 500 or http_status == 501:\n",
    "    print('Server Error')\n",
    "else:\n",
    "    print('Unknown')\n",
    "\n",
    "# Match Statement - Is a more clean way to wright code when the 'if' statement get to big and can be mess\n",
    "\n",
    "match http_status:\n",
    "    case 200 | 201:\n",
    "        print('Sucess')\n",
    "    case 400:\n",
    "        print('Not Found')\n",
    "    case 500 | 501:\n",
    "        print('Server Error')\n",
    "    case _: # the last case it's equivalent of the final 'else' in the 'if' statement\n",
    "        print('Unknown')"
   ]
  },
  {
   "cell_type": "markdown",
   "metadata": {},
   "source": [
    "### FOR loop - The 'for' loop runs the sequence defined after the 'in' step by step:"
   ]
  },
  {
   "cell_type": "code",
   "execution_count": null,
   "metadata": {},
   "outputs": [],
   "source": [
    "# Remember that every string is a sequence of letters and can be accessed using indexes\n",
    "# Looping is used to interate through the sequence (str,list and tuples) and access each item inside the sequence.\n",
    "\n",
    "for i in range(10): # A range function go from zero until the number that you defined -1 \n",
    "    print('Looping..', i)"
   ]
  },
  {
   "cell_type": "code",
   "execution_count": null,
   "metadata": {},
   "outputs": [],
   "source": [
    "favorites = ['Creme Brulee','Apple Pie','Churros','Tiramisú','Chocolate Cake']\n",
    "for u in favorites:\n",
    "    print('A sobremesa favorita é: ', u)"
   ]
  },
  {
   "cell_type": "code",
   "execution_count": null,
   "metadata": {},
   "outputs": [],
   "source": [
    "# To get the index of the actual iteration in the 'for' loop you should make some modifications:\n",
    "favorites = ['Creme Brulee','Apple Pie','Churros','Tiramisú','Chocolate Cake']\n",
    "\n",
    "for index,u in enumerate(favorites):\n",
    "    print(index , ' - a sobremesa favorita é: ', u)"
   ]
  },
  {
   "cell_type": "code",
   "execution_count": null,
   "metadata": {},
   "outputs": [],
   "source": [
    "#BREAK - A Loop control statement\n",
    "\n",
    "favorites = ['Creme Brulee', 'Apple Pie', 'Churros', 'Tiramisú', 'Chocolate Cake']\n",
    "\n",
    "for dessert in favorites:\n",
    "    if dessert == 'Pudding':\n",
    "        print('Yes one of my favorite desserts is', dessert)\n",
    "        break # STOP the 'for' loop\n",
    "else:\n",
    "    print('No sorry, not a dessert on my list')\n"
   ]
  },
  {
   "cell_type": "code",
   "execution_count": null,
   "metadata": {},
   "outputs": [],
   "source": [
    "#CONTINUE - A Loop control statement\n",
    "\n",
    "favorites = ['Creme Brulee', 'Apple Pie', 'Churros', 'Tiramisú', 'Chocolate Cake']\n",
    "\n",
    "for dessert in favorites:\n",
    "    if dessert == 'Churros':\n",
    "        continue # The continue works by skipping this iteraction but continuing to run the loop\n",
    "    print('Other desserts I like are', dessert) "
   ]
  },
  {
   "cell_type": "code",
   "execution_count": null,
   "metadata": {},
   "outputs": [],
   "source": [
    "#PASS - A Loop control statement\n",
    "favorites = ['Creme Brulee', 'Apple Pie', 'Churros', 'Tiramisú', 'Chocolate Cake']\n",
    "\n",
    "for dessert in favorites:\n",
    "    if dessert == 'Churros':\n",
    "        pass # Just ignore that the 'if' has a match an continue to run\n",
    "    print('Other desserts I like are', dessert) "
   ]
  },
  {
   "cell_type": "markdown",
   "metadata": {},
   "source": [
    "### While loop - Make the loop if the condition is True - The while depends more of your commands to work:"
   ]
  },
  {
   "cell_type": "code",
   "execution_count": null,
   "metadata": {},
   "outputs": [],
   "source": [
    "favorites = ['Creme Brulee','Apple Pie','Churros','Tiramisú','Chocolate Cake']\n",
    "count = 0\n",
    "\n",
    "while count < len(favorites):\n",
    "    print('I like this desert: ',favorites[count])\n",
    "    count +=1 ## To show the desert in the next index the count should be incresed in every iteraction"
   ]
  },
  {
   "cell_type": "markdown",
   "metadata": {},
   "source": [
    "### Nested FOR loop"
   ]
  },
  {
   "cell_type": "code",
   "execution_count": null,
   "metadata": {},
   "outputs": [],
   "source": [
    "import time\n",
    "\n",
    "start_time = time.time()\n",
    "\n",
    "for x in range (100): #outer loop\n",
    "    print(x)\n",
    "    for y in range(1000): # inner loop\n",
    "        print(y)\n",
    "\n",
    "print(round(time.time() - start_time, 3)) #This is a good practice to get the feedback about the runtime of this part of the code\n",
    "\n",
    "# For each item in the first range the function will print range(10). Ex: 0 with [0,1,2,3,4,5,6,7,8,9] -> 1 with [0,1,2,3,4,5,6,7,8,9] ...\n",
    "# It means he should run all the sequence in the inner loop with each 'for' outer loop;"
   ]
  },
  {
   "cell_type": "markdown",
   "metadata": {},
   "source": [
    "Exercises:\n"
   ]
  },
  {
   "cell_type": "code",
   "execution_count": null,
   "metadata": {},
   "outputs": [],
   "source": [
    "num_list = [33,42,5,66,77,22,16,79,36,62,78,43,88,39,53,67,89,11]\n",
    "\n",
    "# 1.   Under the num_list create a new for loop and print out each value on the list in sequential order.\n",
    "\n",
    "\n",
    "for i in num_list:\n",
    "    print(i)"
   ]
  },
  {
   "cell_type": "code",
   "execution_count": null,
   "metadata": {},
   "outputs": [],
   "source": [
    "# 2.  Inside the for loop, create a condition that will look for all numbers that are greater than 45 and print out only numbers that meet that condition\n",
    "\n",
    "for i in num_list:\n",
    "    if i > 45: \n",
    "        print(i) # Print if the number met the conditions (greater than 45)\n",
    "    else:\n",
    "        pass"
   ]
  },
  {
   "cell_type": "code",
   "execution_count": null,
   "metadata": {},
   "outputs": [],
   "source": [
    "# 3.  Change the print statement to “Over 45” and add an else condition with a print statement of “Under 45”.\n",
    "\n",
    "for i in num_list:\n",
    "    if i > 45: \n",
    "        print(i, ' is Over 45') # Print if the number met the conditions (greater than 45)\n",
    "    elif i == 45:\n",
    "        print(i ,' is 45')\n",
    "    else:\n",
    "        print(i ,' is Under 45')"
   ]
  },
  {
   "cell_type": "code",
   "execution_count": 13,
   "metadata": {},
   "outputs": [
    {
     "name": "stdout",
     "output_type": "stream",
     "text": [
      "Number  36  found at position:  8\n"
     ]
    }
   ],
   "source": [
    "# 4. Update the for loop to use the enumerate function so you can get and use the index. Alter the condition to look for number 36 and print out the following:\n",
    "# ‘Number found at position: ‘, index number.\n",
    "\n",
    "for index, i in enumerate(num_list):\n",
    "    if i == 36: \n",
    "        print('Number ',i ,' found at position: ', index) \n",
    "    else:\n",
    "        pass"
   ]
  },
  {
   "cell_type": "code",
   "execution_count": 22,
   "metadata": {},
   "outputs": [
    {
     "name": "stdout",
     "output_type": "stream",
     "text": [
      "Number found at  8\n",
      "Quantidade de repetições:  9\n",
      "Tempo de execução:  0.001002\n"
     ]
    }
   ],
   "source": [
    "# 5.  Next, create a new variable called count and assign it a value of 0 and place it outside the for loop. Inside the for loop increment the counter by 1.\n",
    "# Add a print statement outside the for loop to print the value of the count variable.\n",
    "# Finally, add a break statement directly after the print statement inside the if condition for finding the number. \n",
    "\n",
    "import time \n",
    "\n",
    "start_time2 = time.time()\n",
    "count = 0\n",
    "\n",
    "for index, i in enumerate(num_list):\n",
    "    count += 1\n",
    "    if i == 36:\n",
    "        print('Number found at ', index)\n",
    "        break\n",
    "\n",
    "runtime = round(time.time() - start_time2, 6) \n",
    "\n",
    "print('Quantidade de repetições: ', count)\n",
    "print('Tempo de execução: ', runtime)"
   ]
  }
 ],
 "metadata": {
  "kernelspec": {
   "display_name": "Python 3.10.4 64-bit",
   "language": "python",
   "name": "python3"
  },
  "language_info": {
   "codemirror_mode": {
    "name": "ipython",
    "version": 3
   },
   "file_extension": ".py",
   "mimetype": "text/x-python",
   "name": "python",
   "nbconvert_exporter": "python",
   "pygments_lexer": "ipython3",
   "version": "3.10.4"
  },
  "orig_nbformat": 4,
  "vscode": {
   "interpreter": {
    "hash": "c172f04bf2abf09c84be7d053ce294f511e0ab0bd5a6805bf62779ab90bd0801"
   }
  }
 },
 "nbformat": 4,
 "nbformat_minor": 2
}
