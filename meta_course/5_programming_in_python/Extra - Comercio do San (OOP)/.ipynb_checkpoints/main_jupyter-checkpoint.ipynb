{
 "cells": [
  {
   "cell_type": "code",
   "execution_count": 1,
   "metadata": {},
   "outputs": [],
   "source": [
    "from SanStore import Produtos, Pedidos, Clientes, Computadores\n",
    "import pandas as pd"
   ]
  },
  {
   "cell_type": "code",
   "execution_count": 2,
   "metadata": {
    "scrolled": true
   },
   "outputs": [
    {
     "name": "stdout",
     "output_type": "stream",
     "text": [
      "(RETORNO) Produto (Iphone 10) criado com sucesso.\n",
      "(RETORNO) Produto (Camiseta do Brasil) criado com sucesso.\n",
      "(RETORNO) Produto (Televisão LED de 55) criado com sucesso.\n",
      "(RETORNO) Produto (Liquidificador) criado com sucesso.\n",
      "(RETORNO) Produto (Torradeira) criado com sucesso.\n",
      "(RETORNO) Produto (Máquina de Café) criado com sucesso.\n",
      "(RETORNO) Produto (Panelas) criado com sucesso.\n"
     ]
    }
   ],
   "source": [
    "# Produtos:\n",
    "p1 = Produtos(nome= 'Iphone 10', preco=4500,quantidade=40,aviso_de_quantidade=20)\n",
    "p2 = Produtos(nome= 'Camiseta do Brasil', preco=50,quantidade=10,aviso_de_quantidade=5)\n",
    "p3 = Produtos(nome= 'Televisão LED de 55', preco=5000,quantidade=20,aviso_de_quantidade=5)\n",
    "p4 = Produtos(nome= 'Liquidificador', preco=200,quantidade=50,aviso_de_quantidade=10)\n",
    "p5 = Produtos(nome= 'Torradeira', preco=100,quantidade=40,aviso_de_quantidade=15)\n",
    "p6 = Produtos(nome= 'Máquina de Café', preco=250,quantidade=30,aviso_de_quantidade=3)\n",
    "p7 = Produtos(nome= 'Panelas', preco=50,quantidade=35,aviso_de_quantidade=7)"
   ]
  },
  {
   "cell_type": "code",
   "execution_count": 3,
   "metadata": {
    "scrolled": true
   },
   "outputs": [
    {
     "name": "stdout",
     "output_type": "stream",
     "text": [
      "[<SanStore.Produtos object at 0x000001ED608F1040>, <SanStore.Produtos object at 0x000001ED608EBEB0>, <SanStore.Produtos object at 0x000001ED608F1370>, <SanStore.Produtos object at 0x000001ED608F13A0>, <SanStore.Produtos object at 0x000001ED62C7AF70>, <SanStore.Produtos object at 0x000001ED62C7A130>, <SanStore.Produtos object at 0x000001ED62C7A250>]\n"
     ]
    }
   ],
   "source": [
    "print(Produtos.__dict__['list_produtos_obj'])"
   ]
  },
  {
   "cell_type": "code",
   "execution_count": 4,
   "metadata": {
    "scrolled": true
   },
   "outputs": [
    {
     "data": {
      "text/plain": [
       "[{'nome': 'Iphone 10',\n",
       "  'quantidade': 40,\n",
       "  'preco': 4500,\n",
       "  'aviso_de_quantidade': 20},\n",
       " {'nome': 'Camiseta do Brasil',\n",
       "  'quantidade': 10,\n",
       "  'preco': 50,\n",
       "  'aviso_de_quantidade': 5},\n",
       " {'nome': 'Televisão LED de 55',\n",
       "  'quantidade': 20,\n",
       "  'preco': 5000,\n",
       "  'aviso_de_quantidade': 5},\n",
       " {'nome': 'Liquidificador',\n",
       "  'quantidade': 50,\n",
       "  'preco': 200,\n",
       "  'aviso_de_quantidade': 10},\n",
       " {'nome': 'Torradeira',\n",
       "  'quantidade': 40,\n",
       "  'preco': 100,\n",
       "  'aviso_de_quantidade': 15},\n",
       " {'nome': 'Máquina de Café',\n",
       "  'quantidade': 30,\n",
       "  'preco': 250,\n",
       "  'aviso_de_quantidade': 3},\n",
       " {'nome': 'Panelas', 'quantidade': 35, 'preco': 50, 'aviso_de_quantidade': 7}]"
      ]
     },
     "execution_count": 4,
     "metadata": {},
     "output_type": "execute_result"
    }
   ],
   "source": [
    "Produtos.ListOfDicts_produtos()"
   ]
  },
  {
   "cell_type": "code",
   "execution_count": 5,
   "metadata": {},
   "outputs": [
    {
     "data": {
      "text/html": [
       "<div>\n",
       "<style scoped>\n",
       "    .dataframe tbody tr th:only-of-type {\n",
       "        vertical-align: middle;\n",
       "    }\n",
       "\n",
       "    .dataframe tbody tr th {\n",
       "        vertical-align: top;\n",
       "    }\n",
       "\n",
       "    .dataframe thead th {\n",
       "        text-align: right;\n",
       "    }\n",
       "</style>\n",
       "<table border=\"1\" class=\"dataframe\">\n",
       "  <thead>\n",
       "    <tr style=\"text-align: right;\">\n",
       "      <th></th>\n",
       "      <th>nome</th>\n",
       "      <th>quantidade</th>\n",
       "      <th>preco</th>\n",
       "      <th>aviso_de_quantidade</th>\n",
       "    </tr>\n",
       "  </thead>\n",
       "  <tbody>\n",
       "    <tr>\n",
       "      <th>0</th>\n",
       "      <td>Iphone 10</td>\n",
       "      <td>40</td>\n",
       "      <td>4500</td>\n",
       "      <td>20</td>\n",
       "    </tr>\n",
       "    <tr>\n",
       "      <th>1</th>\n",
       "      <td>Camiseta do Brasil</td>\n",
       "      <td>10</td>\n",
       "      <td>50</td>\n",
       "      <td>5</td>\n",
       "    </tr>\n",
       "    <tr>\n",
       "      <th>2</th>\n",
       "      <td>Televisão LED de 55</td>\n",
       "      <td>20</td>\n",
       "      <td>5000</td>\n",
       "      <td>5</td>\n",
       "    </tr>\n",
       "    <tr>\n",
       "      <th>3</th>\n",
       "      <td>Liquidificador</td>\n",
       "      <td>50</td>\n",
       "      <td>200</td>\n",
       "      <td>10</td>\n",
       "    </tr>\n",
       "    <tr>\n",
       "      <th>4</th>\n",
       "      <td>Torradeira</td>\n",
       "      <td>40</td>\n",
       "      <td>100</td>\n",
       "      <td>15</td>\n",
       "    </tr>\n",
       "    <tr>\n",
       "      <th>5</th>\n",
       "      <td>Máquina de Café</td>\n",
       "      <td>30</td>\n",
       "      <td>250</td>\n",
       "      <td>3</td>\n",
       "    </tr>\n",
       "    <tr>\n",
       "      <th>6</th>\n",
       "      <td>Panelas</td>\n",
       "      <td>35</td>\n",
       "      <td>50</td>\n",
       "      <td>7</td>\n",
       "    </tr>\n",
       "  </tbody>\n",
       "</table>\n",
       "</div>"
      ],
      "text/plain": [
       "                  nome  quantidade  preco  aviso_de_quantidade\n",
       "0            Iphone 10          40   4500                   20\n",
       "1   Camiseta do Brasil          10     50                    5\n",
       "2  Televisão LED de 55          20   5000                    5\n",
       "3       Liquidificador          50    200                   10\n",
       "4           Torradeira          40    100                   15\n",
       "5      Máquina de Café          30    250                    3\n",
       "6              Panelas          35     50                    7"
      ]
     },
     "execution_count": 5,
     "metadata": {},
     "output_type": "execute_result"
    }
   ],
   "source": [
    "Produtos.dataframe_produtos()"
   ]
  },
  {
   "cell_type": "code",
   "execution_count": 6,
   "metadata": {},
   "outputs": [
    {
     "name": "stdout",
     "output_type": "stream",
     "text": [
      "(RETORNO) 10 unidades adicinadas ao produto: Camiseta do Brasil.\n",
      "(RETORNO) 5 unidades removidas do produto: Televisão LED de 55.\n",
      "(RETORNO) Produto removido.\n"
     ]
    },
    {
     "data": {
      "text/html": [
       "<div>\n",
       "<style scoped>\n",
       "    .dataframe tbody tr th:only-of-type {\n",
       "        vertical-align: middle;\n",
       "    }\n",
       "\n",
       "    .dataframe tbody tr th {\n",
       "        vertical-align: top;\n",
       "    }\n",
       "\n",
       "    .dataframe thead th {\n",
       "        text-align: right;\n",
       "    }\n",
       "</style>\n",
       "<table border=\"1\" class=\"dataframe\">\n",
       "  <thead>\n",
       "    <tr style=\"text-align: right;\">\n",
       "      <th></th>\n",
       "      <th>nome</th>\n",
       "      <th>quantidade</th>\n",
       "      <th>preco</th>\n",
       "      <th>aviso_de_quantidade</th>\n",
       "    </tr>\n",
       "  </thead>\n",
       "  <tbody>\n",
       "    <tr>\n",
       "      <th>0</th>\n",
       "      <td>Camiseta do Brasil</td>\n",
       "      <td>20</td>\n",
       "      <td>50</td>\n",
       "      <td>5</td>\n",
       "    </tr>\n",
       "    <tr>\n",
       "      <th>1</th>\n",
       "      <td>Televisão LED de 55</td>\n",
       "      <td>15</td>\n",
       "      <td>5000</td>\n",
       "      <td>5</td>\n",
       "    </tr>\n",
       "    <tr>\n",
       "      <th>2</th>\n",
       "      <td>Liquidificador</td>\n",
       "      <td>50</td>\n",
       "      <td>200</td>\n",
       "      <td>10</td>\n",
       "    </tr>\n",
       "    <tr>\n",
       "      <th>3</th>\n",
       "      <td>Torradeira</td>\n",
       "      <td>40</td>\n",
       "      <td>100</td>\n",
       "      <td>15</td>\n",
       "    </tr>\n",
       "    <tr>\n",
       "      <th>4</th>\n",
       "      <td>Máquina de Café</td>\n",
       "      <td>30</td>\n",
       "      <td>250</td>\n",
       "      <td>3</td>\n",
       "    </tr>\n",
       "    <tr>\n",
       "      <th>5</th>\n",
       "      <td>Panelas</td>\n",
       "      <td>35</td>\n",
       "      <td>50</td>\n",
       "      <td>7</td>\n",
       "    </tr>\n",
       "  </tbody>\n",
       "</table>\n",
       "</div>"
      ],
      "text/plain": [
       "                  nome  quantidade  preco  aviso_de_quantidade\n",
       "0   Camiseta do Brasil          20     50                    5\n",
       "1  Televisão LED de 55          15   5000                    5\n",
       "2       Liquidificador          50    200                   10\n",
       "3           Torradeira          40    100                   15\n",
       "4      Máquina de Café          30    250                    3\n",
       "5              Panelas          35     50                    7"
      ]
     },
     "execution_count": 6,
     "metadata": {},
     "output_type": "execute_result"
    }
   ],
   "source": [
    "p2.adicionar_quantidade(10) # add 10 und - camisetas do Brasil\n",
    "p3.remover_quantidade(5) # remove 5 und - Televisão LED de 55\t\n",
    "p1.deletar_produto() # del - Iphone 10\n",
    "Produtos.dataframe_produtos()"
   ]
  },
  {
   "cell_type": "code",
   "execution_count": 7,
   "metadata": {},
   "outputs": [
    {
     "name": "stdout",
     "output_type": "stream",
     "text": [
      "(RETORNO) Camiseta do Brasil: preço modificado de R$ 50 para R$ 65\n",
      "(RETORNO) Camiseta do Brasil: aviso de estoque baixo modificado de 5 para o 15 com sucesso.\n",
      "(RETORNO) Televisão LED de 55: desconto de 15% aplicado ->  Valor com desconto aplicado: R$ 4250.0.\n"
     ]
    },
    {
     "data": {
      "text/html": [
       "<div>\n",
       "<style scoped>\n",
       "    .dataframe tbody tr th:only-of-type {\n",
       "        vertical-align: middle;\n",
       "    }\n",
       "\n",
       "    .dataframe tbody tr th {\n",
       "        vertical-align: top;\n",
       "    }\n",
       "\n",
       "    .dataframe thead th {\n",
       "        text-align: right;\n",
       "    }\n",
       "</style>\n",
       "<table border=\"1\" class=\"dataframe\">\n",
       "  <thead>\n",
       "    <tr style=\"text-align: right;\">\n",
       "      <th></th>\n",
       "      <th>nome</th>\n",
       "      <th>quantidade</th>\n",
       "      <th>preco</th>\n",
       "      <th>aviso_de_quantidade</th>\n",
       "    </tr>\n",
       "  </thead>\n",
       "  <tbody>\n",
       "    <tr>\n",
       "      <th>0</th>\n",
       "      <td>Camiseta do Brasil</td>\n",
       "      <td>20</td>\n",
       "      <td>65.0</td>\n",
       "      <td>15</td>\n",
       "    </tr>\n",
       "    <tr>\n",
       "      <th>1</th>\n",
       "      <td>Televisão LED de 55</td>\n",
       "      <td>15</td>\n",
       "      <td>4250.0</td>\n",
       "      <td>5</td>\n",
       "    </tr>\n",
       "    <tr>\n",
       "      <th>2</th>\n",
       "      <td>Liquidificador</td>\n",
       "      <td>50</td>\n",
       "      <td>200.0</td>\n",
       "      <td>10</td>\n",
       "    </tr>\n",
       "    <tr>\n",
       "      <th>3</th>\n",
       "      <td>Torradeira</td>\n",
       "      <td>40</td>\n",
       "      <td>100.0</td>\n",
       "      <td>15</td>\n",
       "    </tr>\n",
       "    <tr>\n",
       "      <th>4</th>\n",
       "      <td>Máquina de Café</td>\n",
       "      <td>30</td>\n",
       "      <td>250.0</td>\n",
       "      <td>3</td>\n",
       "    </tr>\n",
       "    <tr>\n",
       "      <th>5</th>\n",
       "      <td>Panelas</td>\n",
       "      <td>35</td>\n",
       "      <td>50.0</td>\n",
       "      <td>7</td>\n",
       "    </tr>\n",
       "  </tbody>\n",
       "</table>\n",
       "</div>"
      ],
      "text/plain": [
       "                  nome  quantidade   preco  aviso_de_quantidade\n",
       "0   Camiseta do Brasil          20    65.0                   15\n",
       "1  Televisão LED de 55          15  4250.0                    5\n",
       "2       Liquidificador          50   200.0                   10\n",
       "3           Torradeira          40   100.0                   15\n",
       "4      Máquina de Café          30   250.0                    3\n",
       "5              Panelas          35    50.0                    7"
      ]
     },
     "execution_count": 7,
     "metadata": {},
     "output_type": "execute_result"
    }
   ],
   "source": [
    "# Atualizar Camiseta do brasil:\n",
    "p2.atualizar_preco(65)\n",
    "p2.atualizar_aviso(15)\n",
    "p3.aplicar_desconto(15) # aplicar desconto de 15%\n",
    "Produtos.dataframe_produtos()"
   ]
  },
  {
   "cell_type": "code",
   "execution_count": 8,
   "metadata": {
    "scrolled": true
   },
   "outputs": [
    {
     "data": {
      "text/plain": [
       "'nome;quantidade;preco;aviso_de_quantidade\\r\\nCamiseta do Brasil;20;65.0;15\\r\\nTelevisão LED de 55;15;4250.0;5\\r\\nLiquidificador;50;200.0;10\\r\\nTorradeira;40;100.0;15\\r\\nMáquina de Café;30;250.0;3\\r\\nPanelas;35;50.0;7\\r\\n'"
      ]
     },
     "execution_count": 8,
     "metadata": {},
     "output_type": "execute_result"
    }
   ],
   "source": [
    "Produtos.csv_produtos()"
   ]
  },
  {
   "cell_type": "code",
   "execution_count": 9,
   "metadata": {
    "scrolled": true
   },
   "outputs": [
    {
     "name": "stdout",
     "output_type": "stream",
     "text": [
      "Cliente (Robson) criado com sucesso.\n",
      "Cliente (Jarbas) criado com sucesso.\n",
      "Cliente (Pedro) criado com sucesso.\n",
      "Cliente (Bob) criado com sucesso.\n",
      "Cliente (Nelson) criado com sucesso.\n"
     ]
    }
   ],
   "source": [
    "# Clientes:\n",
    "c1 = Clientes('Robson', 25, '098.875.522-54')\n",
    "c2 = Clientes('Jarbas', 35, '097.775.582-54')\n",
    "c3 = Clientes('Pedro', 27, '09777558254')\n",
    "c4 = Clientes('Bob', 29, '448588752-54')\n",
    "c5 = Clientes('Nelson', 58, '098.698.662-54')\n",
    "\n",
    "# perceba que o variável que recebe o cpf o modifica para que se adeque ao que foi pedido."
   ]
  },
  {
   "cell_type": "code",
   "execution_count": 10,
   "metadata": {},
   "outputs": [
    {
     "data": {
      "text/html": [
       "<div>\n",
       "<style scoped>\n",
       "    .dataframe tbody tr th:only-of-type {\n",
       "        vertical-align: middle;\n",
       "    }\n",
       "\n",
       "    .dataframe tbody tr th {\n",
       "        vertical-align: top;\n",
       "    }\n",
       "\n",
       "    .dataframe thead th {\n",
       "        text-align: right;\n",
       "    }\n",
       "</style>\n",
       "<table border=\"1\" class=\"dataframe\">\n",
       "  <thead>\n",
       "    <tr style=\"text-align: right;\">\n",
       "      <th></th>\n",
       "      <th>nome</th>\n",
       "      <th>idade</th>\n",
       "      <th>_cpf</th>\n",
       "    </tr>\n",
       "  </thead>\n",
       "  <tbody>\n",
       "    <tr>\n",
       "      <th>0</th>\n",
       "      <td>Robson</td>\n",
       "      <td>25</td>\n",
       "      <td>09887552254</td>\n",
       "    </tr>\n",
       "    <tr>\n",
       "      <th>1</th>\n",
       "      <td>Jarbas</td>\n",
       "      <td>35</td>\n",
       "      <td>09777558254</td>\n",
       "    </tr>\n",
       "    <tr>\n",
       "      <th>2</th>\n",
       "      <td>Pedro</td>\n",
       "      <td>27</td>\n",
       "      <td>09777558254</td>\n",
       "    </tr>\n",
       "    <tr>\n",
       "      <th>3</th>\n",
       "      <td>Bob</td>\n",
       "      <td>29</td>\n",
       "      <td>44858875254</td>\n",
       "    </tr>\n",
       "    <tr>\n",
       "      <th>4</th>\n",
       "      <td>Nelson</td>\n",
       "      <td>58</td>\n",
       "      <td>09869866254</td>\n",
       "    </tr>\n",
       "  </tbody>\n",
       "</table>\n",
       "</div>"
      ],
      "text/plain": [
       "     nome  idade         _cpf\n",
       "0  Robson     25  09887552254\n",
       "1  Jarbas     35  09777558254\n",
       "2   Pedro     27  09777558254\n",
       "3     Bob     29  44858875254\n",
       "4  Nelson     58  09869866254"
      ]
     },
     "execution_count": 10,
     "metadata": {},
     "output_type": "execute_result"
    }
   ],
   "source": [
    "Clientes.dataframe_clientes()"
   ]
  },
  {
   "cell_type": "code",
   "execution_count": 11,
   "metadata": {},
   "outputs": [
    {
     "name": "stdout",
     "output_type": "stream",
     "text": [
      "O sorteado foi Bob portador do CPF: 44858875254\n"
     ]
    }
   ],
   "source": [
    "Clientes.sortear_cliente()"
   ]
  },
  {
   "cell_type": "code",
   "execution_count": 12,
   "metadata": {},
   "outputs": [
    {
     "data": {
      "text/html": [
       "<div>\n",
       "<style scoped>\n",
       "    .dataframe tbody tr th:only-of-type {\n",
       "        vertical-align: middle;\n",
       "    }\n",
       "\n",
       "    .dataframe tbody tr th {\n",
       "        vertical-align: top;\n",
       "    }\n",
       "\n",
       "    .dataframe thead th {\n",
       "        text-align: right;\n",
       "    }\n",
       "</style>\n",
       "<table border=\"1\" class=\"dataframe\">\n",
       "  <thead>\n",
       "    <tr style=\"text-align: right;\">\n",
       "      <th></th>\n",
       "      <th>nome</th>\n",
       "      <th>idade</th>\n",
       "      <th>_cpf</th>\n",
       "    </tr>\n",
       "  </thead>\n",
       "  <tbody>\n",
       "    <tr>\n",
       "      <th>0</th>\n",
       "      <td>Jarbas</td>\n",
       "      <td>35</td>\n",
       "      <td>09777558254</td>\n",
       "    </tr>\n",
       "    <tr>\n",
       "      <th>1</th>\n",
       "      <td>Pedro</td>\n",
       "      <td>27</td>\n",
       "      <td>09777558254</td>\n",
       "    </tr>\n",
       "    <tr>\n",
       "      <th>2</th>\n",
       "      <td>Bob</td>\n",
       "      <td>29</td>\n",
       "      <td>44858875254</td>\n",
       "    </tr>\n",
       "    <tr>\n",
       "      <th>3</th>\n",
       "      <td>Nelson</td>\n",
       "      <td>58</td>\n",
       "      <td>09869866254</td>\n",
       "    </tr>\n",
       "  </tbody>\n",
       "</table>\n",
       "</div>"
      ],
      "text/plain": [
       "     nome  idade         _cpf\n",
       "0  Jarbas     35  09777558254\n",
       "1   Pedro     27  09777558254\n",
       "2     Bob     29  44858875254\n",
       "3  Nelson     58  09869866254"
      ]
     },
     "execution_count": 12,
     "metadata": {},
     "output_type": "execute_result"
    }
   ],
   "source": [
    "# Remover cliente:\n",
    "c1.remover_cliente() # Remover o 'Robson'\n",
    "Clientes.dataframe_clientes()"
   ]
  },
  {
   "cell_type": "code",
   "execution_count": 13,
   "metadata": {},
   "outputs": [
    {
     "name": "stdout",
     "output_type": "stream",
     "text": [
      "True\n",
      "True \n",
      "\n",
      "False\n",
      "False\n"
     ]
    }
   ],
   "source": [
    "# __eq__ : - Quais as colunas que deverão ser comparadas para definir a igualdade?\n",
    "\n",
    "print(c2 == c3) # O cpf cadastrado em c3 é igual ao cpf em c2\n",
    "print(c2.__eq__(c3), '\\n')\n",
    "\n",
    "# Nesse caso a função print é equivalente a self.__eq___(other):\n",
    "\n",
    "print(c3 == c4)\n",
    "print(c3.__eq__(c4))"
   ]
  },
  {
   "cell_type": "code",
   "execution_count": 14,
   "metadata": {},
   "outputs": [
    {
     "name": "stdout",
     "output_type": "stream",
     "text": [
      "(AVISO) Camiseta do Brasil com o estoque baixo (15 und).\n",
      "(RETORNO) 5 unidades removidas do produto: Camiseta do Brasil.\n",
      "(RETORNO) Pedido realizado.\n",
      "\n",
      "\n",
      "(RETORNO) 7 unidades removidas do produto: Televisão LED de 55.\n",
      "(RETORNO) Pedido realizado.\n"
     ]
    }
   ],
   "source": [
    "pe1 = Pedidos(5, p2,c2)\n",
    "print('\\n')\n",
    "pe2 = Pedidos(7, p3,c3)"
   ]
  },
  {
   "cell_type": "code",
   "execution_count": 15,
   "metadata": {},
   "outputs": [
    {
     "data": {
      "text/html": [
       "<div>\n",
       "<style scoped>\n",
       "    .dataframe tbody tr th:only-of-type {\n",
       "        vertical-align: middle;\n",
       "    }\n",
       "\n",
       "    .dataframe tbody tr th {\n",
       "        vertical-align: top;\n",
       "    }\n",
       "\n",
       "    .dataframe thead th {\n",
       "        text-align: right;\n",
       "    }\n",
       "</style>\n",
       "<table border=\"1\" class=\"dataframe\">\n",
       "  <thead>\n",
       "    <tr style=\"text-align: right;\">\n",
       "      <th></th>\n",
       "      <th>dataHora</th>\n",
       "      <th>Cliente</th>\n",
       "      <th>nomeCliente</th>\n",
       "      <th>Produto</th>\n",
       "      <th>nomeProduto</th>\n",
       "      <th>quantidade</th>\n",
       "      <th>total</th>\n",
       "    </tr>\n",
       "  </thead>\n",
       "  <tbody>\n",
       "    <tr>\n",
       "      <th>0</th>\n",
       "      <td>2022-11-30 08:39:06</td>\n",
       "      <td>&lt;SanStore.Clientes object at 0x000001ED62CCE8B0&gt;</td>\n",
       "      <td>Jarbas</td>\n",
       "      <td>&lt;SanStore.Produtos object at 0x000001ED608EBEB0&gt;</td>\n",
       "      <td>Camiseta do Brasil</td>\n",
       "      <td>5</td>\n",
       "      <td>325.0</td>\n",
       "    </tr>\n",
       "    <tr>\n",
       "      <th>1</th>\n",
       "      <td>2022-11-30 08:39:06</td>\n",
       "      <td>&lt;SanStore.Clientes object at 0x000001ED62CCEDC0&gt;</td>\n",
       "      <td>Pedro</td>\n",
       "      <td>&lt;SanStore.Produtos object at 0x000001ED608F1370&gt;</td>\n",
       "      <td>Televisão LED de 55</td>\n",
       "      <td>7</td>\n",
       "      <td>29750.0</td>\n",
       "    </tr>\n",
       "  </tbody>\n",
       "</table>\n",
       "</div>"
      ],
      "text/plain": [
       "              dataHora                                           Cliente  \\\n",
       "0  2022-11-30 08:39:06  <SanStore.Clientes object at 0x000001ED62CCE8B0>   \n",
       "1  2022-11-30 08:39:06  <SanStore.Clientes object at 0x000001ED62CCEDC0>   \n",
       "\n",
       "  nomeCliente                                           Produto  \\\n",
       "0      Jarbas  <SanStore.Produtos object at 0x000001ED608EBEB0>   \n",
       "1       Pedro  <SanStore.Produtos object at 0x000001ED608F1370>   \n",
       "\n",
       "           nomeProduto  quantidade    total  \n",
       "0   Camiseta do Brasil           5    325.0  \n",
       "1  Televisão LED de 55           7  29750.0  "
      ]
     },
     "execution_count": 15,
     "metadata": {},
     "output_type": "execute_result"
    }
   ],
   "source": [
    "Pedidos.dataframe_pedidos()"
   ]
  },
  {
   "cell_type": "code",
   "execution_count": 16,
   "metadata": {},
   "outputs": [
    {
     "name": "stdout",
     "output_type": "stream",
     "text": [
      "(RETORNO) Produto (HP - Fusion 2344) criado com sucesso.\n",
      "\n",
      "[<SanStore.Produtos object at 0x000001ED608EBEB0>, <SanStore.Produtos object at 0x000001ED608F1370>, <SanStore.Produtos object at 0x000001ED608F13A0>, <SanStore.Produtos object at 0x000001ED62C7AF70>, <SanStore.Produtos object at 0x000001ED62C7A130>, <SanStore.Produtos object at 0x000001ED62C7A250>, <SanStore.Computadores object at 0x000001ED62CEAD00>]\n"
     ]
    },
    {
     "data": {
      "text/html": [
       "<div>\n",
       "<style scoped>\n",
       "    .dataframe tbody tr th:only-of-type {\n",
       "        vertical-align: middle;\n",
       "    }\n",
       "\n",
       "    .dataframe tbody tr th {\n",
       "        vertical-align: top;\n",
       "    }\n",
       "\n",
       "    .dataframe thead th {\n",
       "        text-align: right;\n",
       "    }\n",
       "</style>\n",
       "<table border=\"1\" class=\"dataframe\">\n",
       "  <thead>\n",
       "    <tr style=\"text-align: right;\">\n",
       "      <th></th>\n",
       "      <th>nome</th>\n",
       "      <th>quantidade</th>\n",
       "      <th>preco</th>\n",
       "      <th>aviso_de_quantidade</th>\n",
       "    </tr>\n",
       "  </thead>\n",
       "  <tbody>\n",
       "    <tr>\n",
       "      <th>0</th>\n",
       "      <td>Camiseta do Brasil</td>\n",
       "      <td>15</td>\n",
       "      <td>65.0</td>\n",
       "      <td>15</td>\n",
       "    </tr>\n",
       "    <tr>\n",
       "      <th>1</th>\n",
       "      <td>Televisão LED de 55</td>\n",
       "      <td>8</td>\n",
       "      <td>4250.0</td>\n",
       "      <td>5</td>\n",
       "    </tr>\n",
       "    <tr>\n",
       "      <th>2</th>\n",
       "      <td>Liquidificador</td>\n",
       "      <td>50</td>\n",
       "      <td>200.0</td>\n",
       "      <td>10</td>\n",
       "    </tr>\n",
       "    <tr>\n",
       "      <th>3</th>\n",
       "      <td>Torradeira</td>\n",
       "      <td>40</td>\n",
       "      <td>100.0</td>\n",
       "      <td>15</td>\n",
       "    </tr>\n",
       "    <tr>\n",
       "      <th>4</th>\n",
       "      <td>Máquina de Café</td>\n",
       "      <td>30</td>\n",
       "      <td>250.0</td>\n",
       "      <td>3</td>\n",
       "    </tr>\n",
       "    <tr>\n",
       "      <th>5</th>\n",
       "      <td>Panelas</td>\n",
       "      <td>35</td>\n",
       "      <td>50.0</td>\n",
       "      <td>7</td>\n",
       "    </tr>\n",
       "    <tr>\n",
       "      <th>6</th>\n",
       "      <td>HP - Fusion 2344</td>\n",
       "      <td>10</td>\n",
       "      <td>3000.0</td>\n",
       "      <td>3</td>\n",
       "    </tr>\n",
       "  </tbody>\n",
       "</table>\n",
       "</div>"
      ],
      "text/plain": [
       "                  nome  quantidade   preco  aviso_de_quantidade\n",
       "0   Camiseta do Brasil          15    65.0                   15\n",
       "1  Televisão LED de 55           8  4250.0                    5\n",
       "2       Liquidificador          50   200.0                   10\n",
       "3           Torradeira          40   100.0                   15\n",
       "4      Máquina de Café          30   250.0                    3\n",
       "5              Panelas          35    50.0                    7\n",
       "6     HP - Fusion 2344          10  3000.0                    3"
      ]
     },
     "execution_count": 16,
     "metadata": {},
     "output_type": "execute_result"
    }
   ],
   "source": [
    "comp1 = Computadores(nome='HP - Fusion 2344', preco= 3000, quantidade= 10, aviso_de_quantidade= 3, ram= '16gb', placa_video=True ,processador='Intel Core 2 Due')\n",
    "print()\n",
    "\n",
    "print(Produtos.__dict__['list_produtos_obj']) # Um objeto pertencente à classe de computadores tambem está dentro da lista de produtos.\n",
    "\n",
    "Produtos.dataframe_produtos() \n",
    "# Ao analizar o dataframe de Produtos:\n",
    "# percebemos que, apesar do objeto 'Hp - Fusion 2344' possuir mais atributos do que o mostrado, apenas os colunas comuns à Classe Produtos são mostrados no dataframe "
   ]
  },
  {
   "cell_type": "code",
   "execution_count": 17,
   "metadata": {},
   "outputs": [
    {
     "data": {
      "text/html": [
       "<div>\n",
       "<style scoped>\n",
       "    .dataframe tbody tr th:only-of-type {\n",
       "        vertical-align: middle;\n",
       "    }\n",
       "\n",
       "    .dataframe tbody tr th {\n",
       "        vertical-align: top;\n",
       "    }\n",
       "\n",
       "    .dataframe thead th {\n",
       "        text-align: right;\n",
       "    }\n",
       "</style>\n",
       "<table border=\"1\" class=\"dataframe\">\n",
       "  <thead>\n",
       "    <tr style=\"text-align: right;\">\n",
       "      <th></th>\n",
       "      <th>nome</th>\n",
       "      <th>quantidade</th>\n",
       "      <th>preco</th>\n",
       "      <th>aviso_de_quantidade</th>\n",
       "      <th>ram</th>\n",
       "      <th>placa_video</th>\n",
       "      <th>processador</th>\n",
       "    </tr>\n",
       "  </thead>\n",
       "  <tbody>\n",
       "    <tr>\n",
       "      <th>0</th>\n",
       "      <td>HP - Fusion 2344</td>\n",
       "      <td>10</td>\n",
       "      <td>3000</td>\n",
       "      <td>3</td>\n",
       "      <td>16gb</td>\n",
       "      <td>True</td>\n",
       "      <td>Intel Core 2 Due</td>\n",
       "    </tr>\n",
       "  </tbody>\n",
       "</table>\n",
       "</div>"
      ],
      "text/plain": [
       "               nome  quantidade  preco  aviso_de_quantidade   ram  \\\n",
       "0  HP - Fusion 2344          10   3000                    3  16gb   \n",
       "\n",
       "   placa_video       processador  \n",
       "0         True  Intel Core 2 Due  "
      ]
     },
     "execution_count": 17,
     "metadata": {},
     "output_type": "execute_result"
    }
   ],
   "source": [
    "Computadores.dataframe_computadores()\n",
    "# Já quando o dataframe pertence a classe dos computadores todos as suas colunas são mostradas"
   ]
  }
 ],
 "metadata": {
  "kernelspec": {
   "display_name": "Python 3 (ipykernel)",
   "language": "python",
   "name": "python3"
  },
  "language_info": {
   "codemirror_mode": {
    "name": "ipython",
    "version": 3
   },
   "file_extension": ".py",
   "mimetype": "text/x-python",
   "name": "python",
   "nbconvert_exporter": "python",
   "pygments_lexer": "ipython3",
   "version": "3.9.12"
  },
  "vscode": {
   "interpreter": {
    "hash": "c172f04bf2abf09c84be7d053ce294f511e0ab0bd5a6805bf62779ab90bd0801"
   }
  }
 },
 "nbformat": 4,
 "nbformat_minor": 2
}
