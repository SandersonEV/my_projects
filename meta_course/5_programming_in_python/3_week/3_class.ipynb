{
 "cells": [
  {
   "cell_type": "markdown",
   "metadata": {},
   "source": [
    " -------------------    This are classes from the week 3 from Meta database enginner course. here you'll find:\n",
    "\n",
    "- Procedural programming = It's like write step by step executions\n",
    "- Functional Programming\n",
    "- Object Oriented Programming\n",
    "\n",
    "D - Don't\n",
    "R - Repeat\n",
    "Y - Yourself\n",
    "\n",
    "(Create functions that can be reused)"
   ]
  },
  {
   "cell_type": "markdown",
   "metadata": {},
   "source": [
    "### Ex 1"
   ]
  },
  {
   "cell_type": "code",
   "execution_count": 1,
   "metadata": {},
   "outputs": [],
   "source": [
    "# Creating two functions:\n",
    "# 1. Calculate the total bill from the 'Food_bill'\n",
    "# 2. Calculate the tax \n",
    "\n",
    "food_bill = {\n",
    "    'juice': 3.99,\n",
    "    'breadsticks': 4.55,\n",
    "    'salad': 11.99,\n",
    "    'chicken': 22.00,\n",
    "    'tea': 2.00\n",
    "}\n",
    "\n",
    "# This function is used to calculate the total bill:\n",
    "\n",
    "def bill_total(bill):\n",
    "    total = 0.00\n",
    "    for k, v in bill.items():\n",
    "        total += v\n",
    "    return total\n",
    "\n",
    "# This one is to calculate the tax of the bill:\n",
    "\n",
    "def calculate_tax(percent, bill_total):\n",
    "    return round((percent * bill_total) / 100.0, 2)"
   ]
  },
  {
   "cell_type": "code",
   "execution_count": 5,
   "metadata": {},
   "outputs": [
    {
     "name": "stdout",
     "output_type": "stream",
     "text": [
      "Somatório:  44.53\n",
      "Taxa     :  6.68\n",
      "----------------- \n",
      " Total   :  51.21\n"
     ]
    }
   ],
   "source": [
    "#Call functions to get the total:\n",
    "\n",
    "food_total = bill_total(food_bill)\n",
    "tax_total = calculate_tax(15, food_total)\n",
    "\n",
    "print('Somatório: ', food_total)\n",
    "print('Taxa     : ', tax_total)\n",
    "\n",
    "print('-----------------','\\n','Total   : ', food_total + tax_total)\n"
   ]
  },
  {
   "cell_type": "markdown",
   "metadata": {},
   "source": [
    "### Ex 2:"
   ]
  },
  {
   "cell_type": "code",
   "execution_count": 8,
   "metadata": {},
   "outputs": [],
   "source": [
    "# Create a function to check if the string is a Palindrome:\n",
    "\n",
    "def isPalindrome(stri):\n",
    "    return stri[::-1] == stri"
   ]
  },
  {
   "cell_type": "code",
   "execution_count": 13,
   "metadata": {},
   "outputs": [
    {
     "name": "stdout",
     "output_type": "stream",
     "text": [
      "True \n",
      "\n",
      "False\n"
     ]
    }
   ],
   "source": [
    "# test:\n",
    "\n",
    "print(isPalindrome('racecar'), '\\n')\n",
    "print(isPalindrome('sand'))"
   ]
  },
  {
   "cell_type": "markdown",
   "metadata": {},
   "source": [
    "Big-O notation\n",
    "\n",
    "- Big-O:\n",
    "Everything we do needs to be measured. Why you might ask? To make something better you need a metric to start from. If a car company needs to make a faster car they need to know the top speed of the existing car to improve on it. In computer science, Big-O notation is the most fundamental tool to measure the cost of an algorithm. It describes the complexity of the code using algebraic terms.\n",
    "\n"
   ]
  },
  {
   "cell_type": "markdown",
   "metadata": {},
   "source": [
    "### Functional Programming\n",
    " - Traditional function - data from outside scope is manipulated in inside scope of the function\n",
    " - Pure Functiion - the data needed from the outside scope is inputed into the function and copied if needed"
   ]
  },
  {
   "cell_type": "markdown",
   "metadata": {},
   "source": [
    "#### Traditional to Pure Function 1:"
   ]
  },
  {
   "cell_type": "code",
   "execution_count": 17,
   "metadata": {},
   "outputs": [
    {
     "name": "stdout",
     "output_type": "stream",
     "text": [
      "[1, 2, 3, 4]\n"
     ]
    }
   ],
   "source": [
    "# Traditional function :\n",
    "\n",
    "#global_scope\n",
    "global_list = [1,2,3]\n",
    "\n",
    "def add_to(item):\n",
    "    \n",
    "    return global_list.append(item) # This is a traditional function because alters a list out of the function\n",
    "\n",
    "add_to(4)\n",
    "\n",
    "print(global_list)"
   ]
  },
  {
   "cell_type": "code",
   "execution_count": 27,
   "metadata": {},
   "outputs": [
    {
     "name": "stdout",
     "output_type": "stream",
     "text": [
      "[1, 2, 3] \n",
      "\n",
      "[1, 2, 3, 5]\n"
     ]
    }
   ],
   "source": [
    "# To be a Pure Function we should copy the list to inside of the function:\n",
    "\n",
    "global_list2 = [1,2,3]\n",
    "\n",
    "def add_to2(lst, item): # pass the list from out function to in\n",
    "\n",
    "    nl = lst.copy() #make a copy from the original list\n",
    "    nl.append(item) # add the item in the list coppied\n",
    "\n",
    "    return nl\n",
    "\n",
    "add_to2(global_list2,5) # call the function\n",
    "\n",
    "print(global_list2, '\\n') # You can see that the list 'global_list2' does not change\n",
    "\n",
    "print(add_to2(global_list2,5)) # function output - return: new list "
   ]
  },
  {
   "cell_type": "markdown",
   "metadata": {},
   "source": [
    "#### Traditional to Pure Function 2:"
   ]
  },
  {
   "cell_type": "code",
   "execution_count": 28,
   "metadata": {},
   "outputs": [
    {
     "name": "stdout",
     "output_type": "stream",
     "text": [
      "[1, 2, 3, 6]\n"
     ]
    }
   ],
   "source": [
    "# A traditional function alter the global list:\n",
    "\n",
    "my_list1 = [1,2,3]\n",
    "\n",
    "def add_to_list1(item):\n",
    "    return my_list1.append(item)\n",
    "\n",
    "add_to_list1(6)\n",
    "print(my_list1)    "
   ]
  },
  {
   "cell_type": "code",
   "execution_count": 29,
   "metadata": {},
   "outputs": [
    {
     "name": "stdout",
     "output_type": "stream",
     "text": [
      "[1, 2, 3, 4, 5, 9]\n"
     ]
    }
   ],
   "source": [
    "# Converting in a Pure Function:\n",
    "\n",
    "my_list2 = [1,2,3,4,5]\n",
    "\n",
    "def add_to_list2(list,item): # We need to input the original list to pass to the function.\n",
    "\n",
    "    lst_copy = list.copy() # make a copy of the list\n",
    "    lst_copy.append(item)\n",
    "\n",
    "    return lst_copy\n",
    "\n",
    "result_append = add_to_list2(my_list2, 9) # Input the result of the function into a variable\n",
    "\n",
    "print(result_append) # print the result of the function"
   ]
  },
  {
   "cell_type": "code",
   "execution_count": 31,
   "metadata": {},
   "outputs": [
    {
     "name": "stdout",
     "output_type": "stream",
     "text": [
      "[6, 7, 8, 9] \n",
      "\n",
      "[6, 7, 8, 9] \n",
      "\n"
     ]
    }
   ],
   "source": [
    "# OBS: If we don't use the copy() function to make a copy of the list, the .append(item) function will alter the original list and will not create a new one.\n",
    "my_list2 = [6,7,8]\n",
    "\n",
    "def add_to_list2(list,item):\n",
    "\n",
    "    list.append(item) # The append is working on the original list\n",
    "\n",
    "    return list # list = my_list2 so the changes were made on the original list and not in a copy. so both lists are the same and the output too\n",
    "\n",
    "result_append = add_to_list2(my_list2, 9) \n",
    "\n",
    "print(result_append, '\\n')  # out: [6, 7, 8, 9]\n",
    "print(my_list2, '\\n') # out: [6, 7, 8, 9]"
   ]
  },
  {
   "cell_type": "markdown",
   "metadata": {},
   "source": [
    "#### Recursion: a function who call itself.\n",
    "- Repetitive problems\n",
    "- Complex Structures\n",
    "-------------------------------\n",
    "def example(obj):\n",
    "    #some logic\n",
    "    ...\n",
    "    return example(obj)\n",
    "    ...\n",
    "    \n",
    "- This function act as a loop."
   ]
  },
  {
   "cell_type": "code",
   "execution_count": 38,
   "metadata": {},
   "outputs": [
    {
     "name": "stdout",
     "output_type": "stream",
     "text": [
      "120\n"
     ]
    }
   ],
   "source": [
    "# Looping solution\n",
    "\n",
    "def find_factorial_by_looping(n):\n",
    "    if n < 0:\n",
    "        return 0\n",
    "    else:\n",
    "        factorial = 1\n",
    "        for i in range(1, n+1):\n",
    "            factorial = factorial * i\n",
    "        return factorial\n",
    "\n",
    "print(find_factorial_by_looping(5))\n",
    "    "
   ]
  },
  {
   "cell_type": "code",
   "execution_count": 39,
   "metadata": {},
   "outputs": [
    {
     "name": "stdout",
     "output_type": "stream",
     "text": [
      "120\n"
     ]
    }
   ],
   "source": [
    "# Recursive Solution:\n",
    "\n",
    "def find_factorial_recursive(n):\n",
    "    if n == 1:\n",
    "        return 1 # The one stop the loop (stop the call of the function)\n",
    "    else:\n",
    "        return n * find_factorial_recursive(n - 1) # When the function call himself, he creates a loop. \n",
    "\n",
    "print(find_factorial_recursive(5))\n",
    "\n",
    "\n",
    "''' Explanation of what is happening:\n",
    "= 5 * find_factorial_recursive(4)\n",
    "= 5 * (4 * find_factorial_recursive(3))\n",
    "= 5 * (4 * (3 * find_factorial_recursive(2)))\n",
    "= 5 * (4 * (3 * ( 2 * find_factorial_recursive(1)))) # 5 * (4 * (3 * (2 * 1))) = 120\n",
    "'''"
   ]
  },
  {
   "cell_type": "markdown",
   "metadata": {},
   "source": [
    "### Ways to reverse a string:"
   ]
  },
  {
   "cell_type": "code",
   "execution_count": 1,
   "metadata": {},
   "outputs": [
    {
     "name": "stdout",
     "output_type": "stream",
     "text": [
      "esrever \n",
      "\n",
      "esrever \n",
      "\n",
      "esrever \n",
      "\n",
      "esrever\n"
     ]
    }
   ],
   "source": [
    "to_reverse = 'reverse'\n",
    "\n",
    "# 1 - The simplest way\n",
    "def string_reverse1(string_in):\n",
    "\n",
    "    reversed = string_in[::-1]\n",
    "\n",
    "    return reversed\n",
    "\n",
    "print(string_reverse1(to_reverse), '\\n')\n",
    "\n",
    "# 2 - Appending chars in reverse order with For loop -----------------------------------\n",
    "def string_reverse2(string_in):\n",
    "\n",
    "    reversed = ''\n",
    "\n",
    "    for x in string_in: # A string is a sequence too.\n",
    "\n",
    "        reversed = x + reversed # the \"x\" is always on the back of the 'reversed' maked in the previous iteration, this creates the string reversed.\n",
    "        \n",
    "    return reversed\n",
    "\n",
    "print(string_reverse2(to_reverse), '\\n')\n",
    "\n",
    "\n",
    "# 3 - Using the while loop: --------------------------------------------------------\n",
    "def string_reverse3(string_in):\n",
    "\n",
    "    reversed = ''\n",
    "    lenght = len(string_in) - 1 # We're getting the lenght and we'll use this to get the letter in the index, so the start is from zero and len() starts from 1.\n",
    "\n",
    "    while lenght >= 0:\n",
    "\n",
    "        reversed = reversed + string_in[lenght]\n",
    "        lenght -= 1\n",
    "\n",
    "    return reversed\n",
    "\n",
    "print(string_reverse3(to_reverse), '\\n')\n",
    "\n",
    "# 4 - Using Recursion - Create a loop with a function in a function\n",
    "\n",
    "def string_reverse4(string_in):\n",
    "    if len(string_in) == 0:\n",
    "        return string_in\n",
    "    else:\n",
    "        return string_reverse4(string_in[1:]) + string_in[0]\n",
    "\n",
    "print(string_reverse4(to_reverse))"
   ]
  },
  {
   "cell_type": "markdown",
   "metadata": {},
   "source": [
    "### Map and Filter: Process a list with the map and filter functions."
   ]
  },
  {
   "cell_type": "code",
   "execution_count": 7,
   "metadata": {},
   "outputs": [
    {
     "name": "stdout",
     "output_type": "stream",
     "text": [
      "<map object at 0x0000016F93F3E680>\n",
      "None\n",
      "None\n",
      "None\n",
      "Capuccino\n",
      "Cortado\n",
      "None\n",
      "\n",
      "\n",
      "<filter object at 0x0000016F93F3F700>\n",
      "Capuccino\n",
      "Cortado\n"
     ]
    }
   ],
   "source": [
    "# Find the coffes that initiates with letter C.\n",
    "\n",
    "menu = ['Espresso', 'Mocha', 'Latte', 'Capuccino', 'Cortado', 'Americano']\n",
    "\n",
    "def find_coffe(coffe): \n",
    "    if coffe[0] == 'C':\n",
    "        return coffe\n",
    "\n",
    "# MAP function:\n",
    "\n",
    "map_coffe = map(find_coffe, menu) # The map() function iterates with every item inside of the list and always shows a result (and none if do not match)\n",
    "print(map_coffe)\n",
    "for x in map_coffe:\n",
    "    print (x)\n",
    "print('\\n')\n",
    "\n",
    "# Filter function:\n",
    "\n",
    "filter_coffe = filter(find_coffe, menu) # the filter() function only show the matches.\n",
    "print(filter_coffe)\n",
    "for x in filter_coffe:\n",
    "    print(x)"
   ]
  },
  {
   "cell_type": "markdown",
   "metadata": {},
   "source": [
    "### Comprehensions: a way to create a new sequence from an already existing sequence."
   ]
  },
  {
   "cell_type": "code",
   "execution_count": 8,
   "metadata": {},
   "outputs": [
    {
     "name": "stdout",
     "output_type": "stream",
     "text": [
      "Updating the list:  [5, 6, 8, 10, 14, 16, 20, 22, 26, 32, 34]\n",
      "Creating new list:  [10, 12, 16, 20, 28, 32, 40, 44, 52, 64, 68]\n",
      "Divisible by four [12, 16, 20, 28, 32, 40, 44, 52, 64, 68]\n",
      "Divisible by four minus one:  [11, 15, 19, 27, 31, 39, 43, 51, 63, 67]\n",
      "Nines:  [0, 9, 18, 27, 36, 45, 54, 63, 72, 81, 90, 99]\n"
     ]
    }
   ],
   "source": [
    "# List comprehension:\n",
    "\n",
    "data = [2,3,5,7,11,13,17,19,23,29,31]\n",
    "\n",
    "# Ex1: List comprehension: updating the same list\n",
    "data = [x+3 for x in data] \n",
    "print(\"Updating the list: \", data)\n",
    "\n",
    "# Ex2: List comprehension: creating a different list with updated values\n",
    "new_data = [x*2 for x in data]\n",
    "print(\"Creating new list: \", new_data)\n",
    "\n",
    "# Ex3: With an if-condition: Multiples of four:\n",
    "fourx = [x for x in new_data if x%4 == 0 ] # Creates a New list using only values divisible by 4\n",
    "print(\"Divisible by four\", fourx)\n",
    "\n",
    "# Ex4: Alternatively, we can update the list with the if condition as well\n",
    "fourxsub = [x-1 for x in new_data if x%4 == 0 ]\n",
    "print(\"Divisible by four minus one: \", fourxsub)\n",
    "\n",
    "# Ex5: Using range function:\n",
    "nines = [x for x in range(100) if x%9 == 0]\n",
    "print(\"Nines: \", nines)\n",
    "# ----------------------------------------------- List comprehensions are just other way to write a regular loop --------------------------------------------------------\n",
    "# List comprehension:\n",
    "data = [x+3 for x in data]\n",
    "\n",
    "# Regular for loop:\n",
    "for x in range(len(data)):\n",
    "    data[x] = data[x] + 3"
   ]
  },
  {
   "cell_type": "code",
   "execution_count": 9,
   "metadata": {},
   "outputs": [
    {
     "name": "stdout",
     "output_type": "stream",
     "text": [
      "Using range():  {0: 0, 1: 2, 2: 4, 3: 6, 4: 8, 5: 10, 6: 12, 7: 14, 8: 16, 9: 18, 10: 20, 11: 22}\n",
      "Using one input list to create dict:  {1: 1, 2: 4, 3: 9, 4: 16, 5: 25, 6: 36, 7: 49, 8: 64, 9: 81, 10: 100, 11: 121, 12: 144}\n",
      "Using two lists:  {1: 'Jan', 2: 'Feb', 3: 'Mar', 4: 'Apr', 5: 'May', 6: 'June', 7: 'July', 8: 'Aug', 9: 'Sept', 10: 'Oct', 11: 'Nov', 12: 'Dec'}\n"
     ]
    }
   ],
   "source": [
    "# Dictionary comprehension\n",
    "\n",
    "# Using range() function and no input list\n",
    "usingrange = {x:x*2 for x in range(12)}\n",
    "print(\"Using range(): \",usingrange)\n",
    "\n",
    "# Lists\n",
    "months = [\"Jan\", \"Feb\", \"Mar\", \"Apr\", \"May\", \"June\", \"July\", \"Aug\", \"Sept\", \"Oct\", \"Nov\", \"Dec\"]\n",
    "number = [1,2,3,4,5,6,7,8,9,10,11,12]\n",
    "\n",
    "# Using one input list\n",
    "numdict = {x:x**2 for x in number}\n",
    "print(\"Using one input list to create dict: \", numdict)\n",
    "\n",
    "# Using two input lists\n",
    "months_dict = {key:value for (key, value) in zip(number, months)}\n",
    "print(\"Using two lists: \", months_dict)"
   ]
  },
  {
   "cell_type": "code",
   "execution_count": 10,
   "metadata": {},
   "outputs": [
    {
     "name": "stdout",
     "output_type": "stream",
     "text": [
      "{10, 11, 13, 15, 17, 18, 19}\n"
     ]
    }
   ],
   "source": [
    "# Set comprehension\n",
    "\n",
    "set_a = {x for x in range(10,20) if x not in [12,14,16]}\n",
    "print(set_a)"
   ]
  },
  {
   "cell_type": "code",
   "execution_count": 13,
   "metadata": {},
   "outputs": [
    {
     "name": "stdout",
     "output_type": "stream",
     "text": [
      "<generator object <genexpr> at 0x0000016F941D1C40>\n",
      "<class 'generator'>\n",
      "2 3 5 7 11 13 17 19 23 29 31 "
     ]
    }
   ],
   "source": [
    "# Generator comprehension\n",
    "\n",
    "data = [2,3,5,7,11,13,17,19,23,29,31]\n",
    "gen_obj = (x for x in data)\n",
    "print(gen_obj)\n",
    "print(type(gen_obj))\n",
    "for items in gen_obj:\n",
    "    print(items, end = \" \")"
   ]
  },
  {
   "cell_type": "markdown",
   "metadata": {},
   "source": [
    "### Drafts = to help-me in the comprehensions.py exercices:"
   ]
  },
  {
   "cell_type": "code",
   "execution_count": 87,
   "metadata": {},
   "outputs": [],
   "source": [
    "employee_list = [\n",
    "   {\"id\": 12345, \"name\": \"John\", \"department\": \"Kitchen\"},\n",
    "   {\"id\": 12456, \"name\": \"Paul\", \"department\": \"House Floor\"},\n",
    "   {\"id\": 12478, \"name\": \"Sarah\", \"department\": \"Management\"},\n",
    "   {\"id\": 12434, \"name\": \"Lisa\", \"department\": \"Cold Storage\"},\n",
    "   {\"id\": 12483, \"name\": \"Ryan\", \"department\": \"Inventory Mgmt\"},\n",
    "   {\"id\": 12419, \"name\": \"Gill\", \"department\": \"Cashier\"}\n",
    "]\n",
    "\n",
    "def mod(employee_list):\n",
    "   temp = employee_list['name'] + \"_\" + employee_list[\"department\"]\n",
    "   return temp"
   ]
  },
  {
   "cell_type": "code",
   "execution_count": 48,
   "metadata": {},
   "outputs": [
    {
     "name": "stdout",
     "output_type": "stream",
     "text": [
      "['John_Kitchen', 'Paul_House Floor', 'Sarah_Management', 'Lisa_Cold Storage', 'Ryan_Inventory Mgmt', 'Gill_Cashier']\n"
     ]
    }
   ],
   "source": [
    "# Exercise 1\n",
    "\n",
    "r = list(map(mod,employee_list)) # first the function and after the list of itens to iterate with\n",
    "\n",
    "print(r)"
   ]
  },
  {
   "cell_type": "code",
   "execution_count": 61,
   "metadata": {},
   "outputs": [
    {
     "name": "stdout",
     "output_type": "stream",
     "text": [
      "['Sanderson_esteves_vieira', 'Ygor_dantas']\n",
      "['Sanderson_esteves_vieira', 'Ygor_dantas']\n"
     ]
    }
   ],
   "source": [
    "# Exercise 2\n",
    "\n",
    "list_org = ['Sanderson esteves vieira', 'Ygor dantas']\n",
    "for index,iteration in enumerate(list_org):\n",
    "    list_org[index] = iteration.replace(' ','_')\n",
    "\n",
    "# ---------------- It's equivalent to ---------------------- (comprehensive)\n",
    "\n",
    "list_orgb = ['Sanderson esteves vieira', 'Ygor dantas']\n",
    "list_comp = [x.replace(' ', '_') for x in list_orgb]\n",
    "\n",
    "# --------------------- Test ------------------------------\n",
    "print(list_comp)\n",
    "print(list_org)"
   ]
  },
  {
   "cell_type": "code",
   "execution_count": 134,
   "metadata": {},
   "outputs": [
    {
     "name": "stdout",
     "output_type": "stream",
     "text": [
      "{'J': 12345, 'P': 12456, 'S': 12478, 'L': 12434, 'R': 12483, 'G': 12419}\n"
     ]
    }
   ],
   "source": [
    "# Exercise 3\n",
    "\n",
    "dict1 = {x['name'][0]: x['id'] for x in employee_list}\n",
    "\n",
    "print(dict1)"
   ]
  }
 ],
 "metadata": {
  "kernelspec": {
   "display_name": "Python 3.10.4 64-bit",
   "language": "python",
   "name": "python3"
  },
  "language_info": {
   "codemirror_mode": {
    "name": "ipython",
    "version": 3
   },
   "file_extension": ".py",
   "mimetype": "text/x-python",
   "name": "python",
   "nbconvert_exporter": "python",
   "pygments_lexer": "ipython3",
   "version": "3.10.4"
  },
  "orig_nbformat": 4,
  "vscode": {
   "interpreter": {
    "hash": "c172f04bf2abf09c84be7d053ce294f511e0ab0bd5a6805bf62779ab90bd0801"
   }
  }
 },
 "nbformat": 4,
 "nbformat_minor": 2
}
