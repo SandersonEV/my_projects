{
 "cells": [
  {
   "cell_type": "markdown",
   "metadata": {},
   "source": [
    "### Object Oriented Programming:\n",
    "I choosed to start a new file to focus more in Object Oriented Programming"
   ]
  },
  {
   "cell_type": "code",
   "execution_count": null,
   "metadata": {},
   "outputs": [],
   "source": [
    "# Basic example 1:\n",
    "\n",
    "# Employee Class\n",
    "class Employee(position,status):\n",
    "    def intro():\n",
    "        return 'I am a____(position, status)'\n",
    "\n",
    "# Employee Object\n",
    "emp1 = Employee('Shift Lead', 'FT') # this two arguments are pass into the Employee class and now the variable 'emp1' is a Employee object.\n",
    "emp1.intro()"
   ]
  },
  {
   "cell_type": "markdown",
   "metadata": {},
   "source": [
    " ### Four pillars:\n",
    " - Encapsulation = The idea of encapsulation is to have methods and variables within the bounds of a given unit. In the case of Python, this unit is called a class. \n",
    " - Polymorphism\n",
    " - Inheritance\n",
    " - Abstraction"
   ]
  },
  {
   "cell_type": "code",
   "execution_count": null,
   "metadata": {},
   "outputs": [],
   "source": [
    "# Ex of Encapsulation:\n",
    "'''\n",
    "Access modifiers represented by keywords such as public, private and protected are used for information hiding. \n",
    "The use of single and double underscores for this purpose in Python is a substitute for this practice. \n",
    "For example, let's examine an example of protected members in Python:\n",
    "'''\n",
    "\n",
    "class Alpha:\n",
    "\n",
    "    def __init__(self):\n",
    "        self._a = 2.  # Protected member ‘a’\n",
    "        self.__b = 2.  # Private member ‘b’\n",
    "\n",
    "# self._a is a protected member and can be accessed by the class and its subclasses."
   ]
  },
  {
   "cell_type": "code",
   "execution_count": 2,
   "metadata": {},
   "outputs": [
    {
     "name": "stdout",
     "output_type": "stream",
     "text": [
      "polypolypoly 21 [1, 2, 3, 1, 2, 3, 1, 2, 3]\n"
     ]
    }
   ],
   "source": [
    "# Ex of Polymorphism:\n",
    "'''\n",
    "Polymorphism refers to something that can have many forms. In this case, a given object. Remember that everything in Python is inherently an object, \n",
    "so when I talk about polymorphism, it can be an operator, method or any object of some class. \n",
    "I can illustrate the case for polymorphism using built-in functions and operations, for example: \n",
    "'''\n",
    "\n",
    "string = \"poly\"\n",
    "num = 7\n",
    "sequence = [1,2,3]\n",
    "new_str = string * 3\n",
    "new_num = 7 * 3\n",
    "new_sequence = sequence * 3\n",
    "\n",
    "print(new_str, new_num, new_sequence) #answer: polypolypoly 21 [1, 2, 3, 1, 2, 3, 1, 2, 3]\n",
    "\n",
    "# In the example, I have used the same operator () to perform on a string, integer and a list. You can see the () operator behaves differently in all three cases."
   ]
  },
  {
   "cell_type": "code",
   "execution_count": null,
   "metadata": {},
   "outputs": [],
   "source": [
    "# Ex of Inheritance:\n",
    "\n",
    "'''\n",
    "\n",
    "class Parent:\n",
    "    Members of the parent class\n",
    "\n",
    "class Child(Parent):\n",
    "    Inherited members from parent class\n",
    "    Additional members of the child class\n",
    "\n",
    "'''\n",
    "\n",
    "\n",
    "'''\n",
    "\n",
    "As the structure of inheritance gets more complicated, Python adheres to something called the Method Resolution Order (MRO) that determines the flow of execution. \n",
    "MRO is a set of rules, or an algorithm, that Python uses to implement monotonicity, which refers to the order or sequence in which the interpreter will look for the variables\n",
    " and functions to implement. This also helps in determining the scope of the different members of the given class.\n",
    "\n",
    "'''"
   ]
  },
  {
   "cell_type": "code",
   "execution_count": null,
   "metadata": {},
   "outputs": [],
   "source": [
    "# Ex of Abstraction:\n",
    "\n",
    "'''\n",
    "Abstraction can be seen both as a means for hiding important information as well as unnecessary information in a block of code. \n",
    "The core of abstraction in Python is the implementation of something called abstract classes and methods, which can be implemented by inheriting from something called the abc module.\n",
    "\"abc\" here stands for abstract base class. It is first imported and then used as a parent class for some class that becomes an abstract class. \n",
    "Its simplest implementation can be done as below.\n",
    "'''\n",
    "\n",
    "from abc import ABC,   \n",
    "class ClassName(ABC):\n",
    "    pass"
   ]
  },
  {
   "cell_type": "markdown",
   "metadata": {},
   "source": []
  },
  {
   "cell_type": "code",
   "execution_count": 14,
   "metadata": {},
   "outputs": [
    {
     "name": "stdout",
     "output_type": "stream",
     "text": [
      "Sanderson\n",
      "<__main__.Myclass object at 0x00000184466CB700>\n",
      "5\n",
      "5 \n",
      "\n",
      "fala galera...\n",
      "None\n"
     ]
    }
   ],
   "source": [
    "class Myclass:\n",
    "    a = 5\n",
    "    print('Sanderson')\n",
    "\n",
    "    def ola(self): # You need to input the parameter self to not get an error\n",
    "        print('fala galera...')\n",
    "\n",
    "myc = Myclass()\n",
    "print(myc) # You can see that the variable 'myc' is Myclass object\n",
    "print(Myclass.a) # You can pull a variable that was declared inside of the class\n",
    "print(myc.a, '\\n')\n",
    "\n",
    "print(myc.ola()) # The answer incluides 'none' because the function doesn't have the return at the end."
   ]
  }
 ],
 "metadata": {
  "kernelspec": {
   "display_name": "Python 3.10.4 64-bit",
   "language": "python",
   "name": "python3"
  },
  "language_info": {
   "codemirror_mode": {
    "name": "ipython",
    "version": 3
   },
   "file_extension": ".py",
   "mimetype": "text/x-python",
   "name": "python",
   "nbconvert_exporter": "python",
   "pygments_lexer": "ipython3",
   "version": "3.10.4"
  },
  "orig_nbformat": 4,
  "vscode": {
   "interpreter": {
    "hash": "c172f04bf2abf09c84be7d053ce294f511e0ab0bd5a6805bf62779ab90bd0801"
   }
  }
 },
 "nbformat": 4,
 "nbformat_minor": 2
}
