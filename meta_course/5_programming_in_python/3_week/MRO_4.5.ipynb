{
 "cells": [
  {
   "cell_type": "markdown",
   "metadata": {},
   "source": [
    "Method Resolution Order(MRO) it denotes the way a programming language resolves a method or attribute:\n",
    "- In python, method resolution order defines the order in which the base classes are searched when executing a method\n",
    "- MRO: Botton to the top and left to the right\n",
    "- Use X.mro() or help(X) to see the Method Resolution Order"
   ]
  },
  {
   "cell_type": "code",
   "execution_count": 6,
   "metadata": {},
   "outputs": [
    {
     "name": "stdout",
     "output_type": "stream",
     "text": [
      "Function inside B\n"
     ]
    }
   ],
   "source": [
    "# Example 1\n",
    "class A:\n",
    "   def a(self):\n",
    "       return \"Function inside A\"\n",
    "\n",
    "class B:\n",
    "    def a(self):\n",
    "        return \"Function inside B\"\n",
    "\n",
    "class C(B,A):\n",
    "    pass\n",
    "\n",
    "# Driver code\n",
    "c = C()\n",
    "print(c.a()) # First he looks in C class then inside of B, and after in A"
   ]
  },
  {
   "cell_type": "code",
   "execution_count": 7,
   "metadata": {},
   "outputs": [
    {
     "name": "stdout",
     "output_type": "stream",
     "text": [
      "Function inside C\n"
     ]
    }
   ],
   "source": [
    "# Example 2\n",
    "class A:\n",
    "    def b(self):\n",
    "        return \"Function inside A\"\n",
    "\n",
    "class B:\n",
    "    def b(self):\n",
    "        return \"Function inside B\"\n",
    "\n",
    "class C(A, B):\n",
    "    def b(self):\n",
    "        return \"Function inside C\" # This\n",
    "    pass\n",
    "\n",
    "class D(C):\n",
    "    pass\n",
    "\n",
    "d = D()\n",
    "print(d.b()) # He looks in D an after he goes to C - as he can find the answer inside C python doesn't need to go to another class (But he can)"
   ]
  },
  {
   "cell_type": "code",
   "execution_count": 8,
   "metadata": {},
   "outputs": [
    {
     "name": "stdout",
     "output_type": "stream",
     "text": [
      "Function inside A\n"
     ]
    }
   ],
   "source": [
    "# Example 2.1 - The same as the Example 2 but now we'll comment the function iside C\n",
    "class A:\n",
    "    def b(self):\n",
    "        return \"Function inside A\" # This\n",
    "\n",
    "class B:\n",
    "    def b(self):\n",
    "        return \"Function inside B\"\n",
    "\n",
    "class C(A, B):\n",
    "    #def b(self):\n",
    "    #    return \"Function inside C\"\n",
    "    pass\n",
    "\n",
    "class D(C):\n",
    "    pass\n",
    "\n",
    "d = D()\n",
    "print(d.b())"
   ]
  },
  {
   "cell_type": "code",
   "execution_count": 9,
   "metadata": {},
   "outputs": [
    {
     "name": "stdout",
     "output_type": "stream",
     "text": [
      "Function inside B\n"
     ]
    }
   ],
   "source": [
    "# Example 2.2 - The same as the Example 2 but now we'll comment the function iside C and the function iside A\n",
    "class A:\n",
    "    #def b(self):\n",
    "    #    return \"Function inside A\" # This\n",
    "    pass\n",
    "\n",
    "class B:\n",
    "    def b(self):\n",
    "        return \"Function inside B\"\n",
    "\n",
    "class C(A, B):\n",
    "    #def b(self):\n",
    "    #    return \"Function inside C\"\n",
    "    pass\n",
    "\n",
    "class D(C):\n",
    "    pass\n",
    "\n",
    "d = D()\n",
    "print(d.b()) # Noe we can see exactlly with way python choose to go first"
   ]
  },
  {
   "cell_type": "code",
   "execution_count": 10,
   "metadata": {},
   "outputs": [
    {
     "name": "stdout",
     "output_type": "stream",
     "text": [
      "Function inside C\n"
     ]
    }
   ],
   "source": [
    "# Exemple 3 - Double definition class\n",
    "\n",
    "class A:\n",
    "    def b(self):\n",
    "        return \"Function inside A\"\n",
    "\n",
    "class B:\n",
    "    pass\n",
    "\n",
    "class C:\n",
    "    def b(self):\n",
    "        return \"Function inside C\"\n",
    "\n",
    "class D(B, C, A):\n",
    "    pass\n",
    "\n",
    "class D(C):\n",
    "    pass\n",
    "\n",
    "d = D()\n",
    "print(d.b())"
   ]
  },
  {
   "cell_type": "code",
   "execution_count": 11,
   "metadata": {},
   "outputs": [
    {
     "ename": "TypeError",
     "evalue": "Cannot create a consistent method resolution\norder (MRO) for bases A, B",
     "output_type": "error",
     "traceback": [
      "\u001b[1;31m---------------------------------------------------------------------------\u001b[0m",
      "\u001b[1;31mTypeError\u001b[0m                                 Traceback (most recent call last)",
      "\u001b[1;32mc:\\Users\\Sanderson\\Documents\\GitHub\\sand_projects\\meta_course\\5_programming_in_python\\3_week\\MRO_4.5.ipynb Célula: 7\u001b[0m in \u001b[0;36m<cell line: 10>\u001b[1;34m()\u001b[0m\n\u001b[0;32m      <a href='vscode-notebook-cell:/c%3A/Users/Sanderson/Documents/GitHub/sand_projects/meta_course/5_programming_in_python/3_week/MRO_4.5.ipynb#X11sZmlsZQ%3D%3D?line=6'>7</a>\u001b[0m     \u001b[39mdef\u001b[39;00m \u001b[39mc\u001b[39m(\u001b[39mself\u001b[39m):\n\u001b[0;32m      <a href='vscode-notebook-cell:/c%3A/Users/Sanderson/Documents/GitHub/sand_projects/meta_course/5_programming_in_python/3_week/MRO_4.5.ipynb#X11sZmlsZQ%3D%3D?line=7'>8</a>\u001b[0m         \u001b[39mreturn\u001b[39;00m \u001b[39m\"\u001b[39m\u001b[39mFunction inside B\u001b[39m\u001b[39m\"\u001b[39m\n\u001b[1;32m---> <a href='vscode-notebook-cell:/c%3A/Users/Sanderson/Documents/GitHub/sand_projects/meta_course/5_programming_in_python/3_week/MRO_4.5.ipynb#X11sZmlsZQ%3D%3D?line=9'>10</a>\u001b[0m \u001b[39mclass\u001b[39;00m \u001b[39mC\u001b[39;00m(A,B):\n\u001b[0;32m     <a href='vscode-notebook-cell:/c%3A/Users/Sanderson/Documents/GitHub/sand_projects/meta_course/5_programming_in_python/3_week/MRO_4.5.ipynb#X11sZmlsZQ%3D%3D?line=10'>11</a>\u001b[0m     \u001b[39mpass\u001b[39;00m\n\u001b[0;32m     <a href='vscode-notebook-cell:/c%3A/Users/Sanderson/Documents/GitHub/sand_projects/meta_course/5_programming_in_python/3_week/MRO_4.5.ipynb#X11sZmlsZQ%3D%3D?line=12'>13</a>\u001b[0m \u001b[39mclass\u001b[39;00m \u001b[39mD\u001b[39;00m(C):\n",
      "\u001b[1;31mTypeError\u001b[0m: Cannot create a consistent method resolution\norder (MRO) for bases A, B"
     ]
    }
   ],
   "source": [
    "# Exemple - Method that do not exists\n",
    "class A:\n",
    "    def c(self):\n",
    "        return \"Function inside A\"\n",
    "\n",
    "class B(A):\n",
    "    def c(self):\n",
    "        return \"Function inside B\"\n",
    "\n",
    "class C(A,B):\n",
    "    pass\n",
    "\n",
    "class D(C):\n",
    "    pass\n",
    "\n",
    "d = D()\n",
    "print(d.a)"
   ]
  },
  {
   "cell_type": "code",
   "execution_count": null,
   "metadata": {},
   "outputs": [],
   "source": [
    "a = 5 # global variable\n",
    "class A:\n",
    "      a = 7\n",
    "      pass\n",
    "\n",
    "class B(A):\n",
    "      pass\n",
    "\n",
    "class C(B):\n",
    "      pass\n",
    "\n",
    "c = C()\n",
    "print(c.a)"
   ]
  },
  {
   "cell_type": "code",
   "execution_count": null,
   "metadata": {},
   "outputs": [
    {
     "ename": "NameError",
     "evalue": "name 'B' is not defined",
     "output_type": "error",
     "traceback": [
      "\u001b[1;31m---------------------------------------------------------------------------\u001b[0m",
      "\u001b[1;31mNameError\u001b[0m                                 Traceback (most recent call last)",
      "\u001b[1;32mc:\\Users\\Sanderson\\Documents\\GitHub\\sand_projects\\meta_course\\5_programming_in_python\\3_week\\MRO_4.5.ipynb Célula: 9\u001b[0m in \u001b[0;36m<cell line: 2>\u001b[1;34m()\u001b[0m\n\u001b[0;32m      <a href='vscode-notebook-cell:/c%3A/Users/Sanderson/Documents/GitHub/sand_projects/meta_course/5_programming_in_python/3_week/MRO_4.5.ipynb#X14sZmlsZQ%3D%3D?line=0'>1</a>\u001b[0m bravo \u001b[39m=\u001b[39m \u001b[39m3\u001b[39m\n\u001b[1;32m----> <a href='vscode-notebook-cell:/c%3A/Users/Sanderson/Documents/GitHub/sand_projects/meta_course/5_programming_in_python/3_week/MRO_4.5.ipynb#X14sZmlsZQ%3D%3D?line=1'>2</a>\u001b[0m b \u001b[39m=\u001b[39m B() \u001b[39m# The definition of b was before of the creation of the class so b = B() \u001b[39;00m\n\u001b[0;32m      <a href='vscode-notebook-cell:/c%3A/Users/Sanderson/Documents/GitHub/sand_projects/meta_course/5_programming_in_python/3_week/MRO_4.5.ipynb#X14sZmlsZQ%3D%3D?line=2'>3</a>\u001b[0m \u001b[39mclass\u001b[39;00m \u001b[39mB\u001b[39;00m:\n\u001b[0;32m      <a href='vscode-notebook-cell:/c%3A/Users/Sanderson/Documents/GitHub/sand_projects/meta_course/5_programming_in_python/3_week/MRO_4.5.ipynb#X14sZmlsZQ%3D%3D?line=3'>4</a>\u001b[0m     bravo \u001b[39m=\u001b[39m \u001b[39m5\u001b[39m\n",
      "\u001b[1;31mNameError\u001b[0m: name 'B' is not defined"
     ]
    }
   ],
   "source": [
    "bravo = 3\n",
    "b = B() # The definition of b was before of the creation of the class so b = B() \n",
    "class B:\n",
    "    bravo = 5\n",
    "    print(\"Inside class B\")\n",
    "c = B()\n",
    "print(b.bravo)"
   ]
  }
 ],
 "metadata": {
  "kernelspec": {
   "display_name": "Python 3.10.4 64-bit",
   "language": "python",
   "name": "python3"
  },
  "language_info": {
   "codemirror_mode": {
    "name": "ipython",
    "version": 3
   },
   "file_extension": ".py",
   "mimetype": "text/x-python",
   "name": "python",
   "nbconvert_exporter": "python",
   "pygments_lexer": "ipython3",
   "version": "3.10.4"
  },
  "orig_nbformat": 4,
  "vscode": {
   "interpreter": {
    "hash": "c172f04bf2abf09c84be7d053ce294f511e0ab0bd5a6805bf62779ab90bd0801"
   }
  }
 },
 "nbformat": 4,
 "nbformat_minor": 2
}
