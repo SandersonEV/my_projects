{
 "cells": [
  {
   "cell_type": "markdown",
   "metadata": {},
   "source": [
    "Acessing Modules:\n",
    "Searching modules: Current directory path -> Built-in directory -> PYTHONPATH -> Installation dependent default directory"
   ]
  },
  {
   "cell_type": "markdown",
   "metadata": {},
   "source": [
    "Access Built-in Modules"
   ]
  },
  {
   "cell_type": "code",
   "execution_count": 1,
   "metadata": {},
   "outputs": [],
   "source": [
    "import trial1 # import everything FROM YOUR CURRENT DIRECTORY"
   ]
  },
  {
   "cell_type": "code",
   "execution_count": 2,
   "metadata": {},
   "outputs": [
    {
     "name": "stdout",
     "output_type": "stream",
     "text": [
      "['sanderson', 'esteves']\n",
      "['Bob', 'Sponja']\n",
      "['Jorge', 'Aragão']\n"
     ]
    }
   ],
   "source": [
    "# You can see that we can use every variable declared inside of 'trial1'\n",
    "print(trial1.name1)\n",
    "print(trial1.name2)\n",
    "print(trial1.name3)"
   ]
  },
  {
   "cell_type": "code",
   "execution_count": 3,
   "metadata": {},
   "outputs": [],
   "source": [
    "# If It's needed, You can also insert the path to find the the module using sys (built in module)\n",
    "\n",
    "import sys\n",
    "sys.path.insert(1, r'C:\\Users\\Sanderson\\Documents\\GitHub\\sand_projects\\meta_course\\5_programming_in_python\\4_week') # Especify the directory to look for modules\n",
    "\n",
    "from trial2 import name1 # import only a specifc thing ('name1') from the module - after this you can call without type the name of the module\n",
    "\n",
    "# OBS: Change the path to find the modules neccesaries is one option but it's always good practice to move all the necesary files/modules to the work directory"
   ]
  },
  {
   "cell_type": "code",
   "execution_count": 4,
   "metadata": {},
   "outputs": [
    {
     "name": "stdout",
     "output_type": "stream",
     "text": [
      "['joão', 'de', 'Deus']\n"
     ]
    },
    {
     "ename": "NameError",
     "evalue": "name 'name2' is not defined",
     "output_type": "error",
     "traceback": [
      "\u001b[1;31m---------------------------------------------------------------------------\u001b[0m",
      "\u001b[1;31mNameError\u001b[0m                                 Traceback (most recent call last)",
      "\u001b[1;32mc:\\Users\\Sanderson\\Documents\\GitHub\\sand_projects\\meta_course\\5_programming_in_python\\4_week\\1_intro.ipynb Célula: 6\u001b[0m in \u001b[0;36m<cell line: 2>\u001b[1;34m()\u001b[0m\n\u001b[0;32m      <a href='vscode-notebook-cell:/c%3A/Users/Sanderson/Documents/GitHub/sand_projects/meta_course/5_programming_in_python/4_week/1_intro.ipynb#X11sZmlsZQ%3D%3D?line=0'>1</a>\u001b[0m \u001b[39mprint\u001b[39m(name1) \u001b[39m# variable name1 from the trial2\u001b[39;00m\n\u001b[1;32m----> <a href='vscode-notebook-cell:/c%3A/Users/Sanderson/Documents/GitHub/sand_projects/meta_course/5_programming_in_python/4_week/1_intro.ipynb#X11sZmlsZQ%3D%3D?line=1'>2</a>\u001b[0m \u001b[39mprint\u001b[39m(name2)\n",
      "\u001b[1;31mNameError\u001b[0m: name 'name2' is not defined"
     ]
    }
   ],
   "source": [
    "print(name1) # variable name1 from the trial2\n",
    "print(name2) # We don't have access to other variable from the trial2 as We just specify the 'name1' - We only have access to one variable"
   ]
  },
  {
   "cell_type": "code",
   "execution_count": 5,
   "metadata": {},
   "outputs": [
    {
     "ename": "ModuleNotFoundError",
     "evalue": "No module named 'SanStore'",
     "output_type": "error",
     "traceback": [
      "\u001b[1;31m---------------------------------------------------------------------------\u001b[0m",
      "\u001b[1;31mModuleNotFoundError\u001b[0m                       Traceback (most recent call last)",
      "\u001b[1;32mc:\\Users\\Sanderson\\Documents\\GitHub\\sand_projects\\meta_course\\5_programming_in_python\\4_week\\1_intro.ipynb Célula: 7\u001b[0m in \u001b[0;36m<cell line: 5>\u001b[1;34m()\u001b[0m\n\u001b[0;32m      <a href='vscode-notebook-cell:/c%3A/Users/Sanderson/Documents/GitHub/sand_projects/meta_course/5_programming_in_python/4_week/1_intro.ipynb#X15sZmlsZQ%3D%3D?line=2'>3</a>\u001b[0m sys\u001b[39m.\u001b[39mpath\u001b[39m.\u001b[39minsert(\u001b[39m1\u001b[39m, \u001b[39mr\u001b[39m\u001b[39m'\u001b[39m\u001b[39mC:\u001b[39m\u001b[39m\\\u001b[39m\u001b[39mUsers\u001b[39m\u001b[39m\\\u001b[39m\u001b[39mSanderson\u001b[39m\u001b[39m\\\u001b[39m\u001b[39mDocuments\u001b[39m\u001b[39m\\\u001b[39m\u001b[39mGitHub\u001b[39m\u001b[39m\\\u001b[39m\u001b[39msand_projects\u001b[39m\u001b[39m\\\u001b[39m\u001b[39mmeta_course\u001b[39m\u001b[39m\\\u001b[39m\u001b[39m5_programming_in_python\u001b[39m\u001b[39m\\\u001b[39m\u001b[39m4_week\u001b[39m\u001b[39m'\u001b[39m)\n\u001b[0;32m      <a href='vscode-notebook-cell:/c%3A/Users/Sanderson/Documents/GitHub/sand_projects/meta_course/5_programming_in_python/4_week/1_intro.ipynb#X15sZmlsZQ%3D%3D?line=3'>4</a>\u001b[0m \u001b[39mimport\u001b[39;00m \u001b[39mtrial2\u001b[39;00m\n\u001b[1;32m----> <a href='vscode-notebook-cell:/c%3A/Users/Sanderson/Documents/GitHub/sand_projects/meta_course/5_programming_in_python/4_week/1_intro.ipynb#X15sZmlsZQ%3D%3D?line=4'>5</a>\u001b[0m \u001b[39mimport\u001b[39;00m \u001b[39mSanStore\u001b[39;00m\n",
      "\u001b[1;31mModuleNotFoundError\u001b[0m: No module named 'SanStore'"
     ]
    }
   ],
   "source": [
    "# ERROR - Python will try to find the 'SanStore' module on the especified directory, if he cannot find python will show an error message.\n",
    "import sys \n",
    "sys.path.insert(1, r'C:\\Users\\Sanderson\\Documents\\GitHub\\sand_projects\\meta_course\\5_programming_in_python\\4_week')\n",
    "import trial2\n",
    "import SanStore"
   ]
  },
  {
   "cell_type": "code",
   "execution_count": 6,
   "metadata": {},
   "outputs": [],
   "source": [
    "# CORRECT WAY - Using modules from different directories:\n",
    "import sys \n",
    "sys.path.insert(1, r'C:\\Users\\Sanderson\\Documents\\GitHub\\sand_projects\\meta_course\\5_programming_in_python\\4_week')\n",
    "import trial2\n",
    "sys.path.insert(1, r'C:\\Users\\Sanderson\\Documents\\GitHub\\sand_projects\\meta_course\\5_programming_in_python\\Extra - Comercio do San (OOP)')\n",
    "import SanStore"
   ]
  },
  {
   "cell_type": "code",
   "execution_count": 7,
   "metadata": {},
   "outputs": [
    {
     "name": "stdout",
     "output_type": "stream",
     "text": [
      "['joão', 'de', 'Deus']\n",
      "<class 'SanStore.Pedidos'>\n"
     ]
    }
   ],
   "source": [
    "#This two modules are from different directories\n",
    "\n",
    "print(trial2.name1)\n",
    "print(SanStore.Pedidos)"
   ]
  },
  {
   "cell_type": "markdown",
   "metadata": {},
   "source": [
    "2. Global and nonlocal variables"
   ]
  },
  {
   "cell_type": "code",
   "execution_count": 9,
   "metadata": {},
   "outputs": [
    {
     "name": "stdout",
     "output_type": "stream",
     "text": [
      "Before calling function:  Elefante \n",
      "\n",
      "Iside nested function: Girafa \n",
      "\n",
      "After nest function:  Girafa \n",
      "\n",
      "Global variable:  Camelo\n"
     ]
    }
   ],
   "source": [
    "def d():\n",
    "    animal = 'Elefante' \n",
    "    def e():\n",
    "        nonlocal animal\n",
    "        animal = 'Girafa'\n",
    "        print('Iside nested function:', animal,'\\n') # 'Girafa'\n",
    "    \n",
    "    print('Before calling function: ', animal,'\\n') # 'Elefante'\n",
    "    e()\n",
    "    print('After nest function: ', animal, '\\n') # 'Girafa'\n",
    "\n",
    "animal = 'Camelo'\n",
    "d() # animal -> d(): Elefante -> e(): Girafa\n",
    "print('Global variable: ', animal) # 'Camelo' - The changes that you've been made inside of the d() and e() functions doesn't effect the global variable.\n",
    "\n",
    "# the global variable doesn't  go to inside of the function"
   ]
  },
  {
   "cell_type": "markdown",
   "metadata": {},
   "source": [
    "3. reload() Function: importe more then once"
   ]
  },
  {
   "cell_type": "code",
   "execution_count": 10,
   "metadata": {},
   "outputs": [
    {
     "name": "stdout",
     "output_type": "stream",
     "text": [
      "Iai galera, tudo tranquilo?\n"
     ]
    }
   ],
   "source": [
    "# Python only import a module once in the code, if You try to import the second time Python will just ignore.\n",
    "\n",
    "# Example:\n",
    "\n",
    "import trial3 # import first time\n",
    "import trial3 # import second time\n",
    "import trial3 # import third time"
   ]
  },
  {
   "cell_type": "code",
   "execution_count": 11,
   "metadata": {},
   "outputs": [
    {
     "name": "stdout",
     "output_type": "stream",
     "text": [
      "Iai galera, tudo tranquilo?\n",
      "Iai galera, tudo tranquilo?\n",
      "Iai galera, tudo tranquilo?\n",
      "Iai galera, tudo tranquilo?\n",
      "Iai galera, tudo tranquilo?\n"
     ]
    },
    {
     "data": {
      "text/plain": [
       "<module 'trial3' from 'c:\\\\Users\\\\Sanderson\\\\Documents\\\\GitHub\\\\sand_projects\\\\meta_course\\\\5_programming_in_python\\\\4_week\\\\trial3.py'>"
      ]
     },
     "execution_count": 11,
     "metadata": {},
     "output_type": "execute_result"
    }
   ],
   "source": [
    "# Now let's use the reload() function to import the trial3.py more then once.\n",
    "\n",
    "import importlib # import the module with that contains reload function\n",
    "import trial3 # import \n",
    "\n",
    "importlib.reload(trial3)\n",
    "importlib.reload(trial3)\n",
    "importlib.reload(trial3)\n",
    "importlib.reload(trial3)\n",
    "importlib.reload(trial3)"
   ]
  },
  {
   "cell_type": "markdown",
   "metadata": {},
   "source": [
    "4. List the files inside of a directory:"
   ]
  },
  {
   "cell_type": "code",
   "execution_count": 12,
   "metadata": {},
   "outputs": [
    {
     "name": "stdout",
     "output_type": "stream",
     "text": [
      "['1_intro.ipynb', 'trial1.py', 'trial2.py', 'trial3.py', '__pycache__']\n"
     ]
    }
   ],
   "source": [
    "import os\n",
    "\n",
    "contents = os.listdir(r'C:\\Users\\Sanderson\\Documents\\GitHub\\sand_projects\\meta_course\\5_programming_in_python\\4_week')\n",
    "print(contents)\n",
    "\n",
    "# Print a list of files inside of the 4_week directory"
   ]
  },
  {
   "cell_type": "markdown",
   "metadata": {},
   "source": [
    "5. install new packeges:\n",
    "use \"py -m pip install 'SomeProject'\" on the command prompt"
   ]
  },
  {
   "cell_type": "markdown",
   "metadata": {},
   "source": [
    "6. Sub-packages: If we are to assume that packages are similar to a folder or directory in our operating system, then the package can also contain other directories.\n",
    "You use dot-notation to access sub-packages within a package you have imported."
   ]
  },
  {
   "cell_type": "code",
   "execution_count": null,
   "metadata": {},
   "outputs": [],
   "source": [
    "# Ex: Ex: In a package such as matplotlib, the contents that are used most commonly are present inside the subpackage pyplot. Pyplot eventually may consist of various functions and attributes.\n",
    "\n",
    "import matplotlib.pyplot # We are acessing a package (pyplot) inside of other package (matplotlib)\n"
   ]
  },
  {
   "cell_type": "code",
   "execution_count": null,
   "metadata": {},
   "outputs": [],
   "source": [
    "# To make it even more convenient, it is often imported using an alias. So more commonly, you will come across code such as:\n",
    "import matplotlib.pyplot as plt"
   ]
  }
 ],
 "metadata": {
  "kernelspec": {
   "display_name": "Python 3.10.4 64-bit",
   "language": "python",
   "name": "python3"
  },
  "language_info": {
   "codemirror_mode": {
    "name": "ipython",
    "version": 3
   },
   "file_extension": ".py",
   "mimetype": "text/x-python",
   "name": "python",
   "nbconvert_exporter": "python",
   "pygments_lexer": "ipython3",
   "version": "3.10.4"
  },
  "orig_nbformat": 4,
  "vscode": {
   "interpreter": {
    "hash": "c172f04bf2abf09c84be7d053ce294f511e0ab0bd5a6805bf62779ab90bd0801"
   }
  }
 },
 "nbformat": 4,
 "nbformat_minor": 2
}
