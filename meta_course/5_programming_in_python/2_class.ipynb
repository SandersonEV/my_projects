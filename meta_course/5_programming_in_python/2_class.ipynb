{
 "cells": [
  {
   "cell_type": "markdown",
   "metadata": {},
   "source": [
    "# functions"
   ]
  },
  {
   "cell_type": "code",
   "execution_count": 6,
   "metadata": {},
   "outputs": [
    {
     "name": "stdout",
     "output_type": "stream",
     "text": [
      "5\n"
     ]
    }
   ],
   "source": [
    "# This is a sample of a simple function:\n",
    "def somar(x, y):\n",
    "    return x + y\n",
    "\n",
    "print(somar(2,3)) # The autput should be 5"
   ]
  },
  {
   "cell_type": "markdown",
   "metadata": {},
   "source": [
    "Data Structures in Python:\n",
    "\n",
    "    1. Built-in Data Structures # Strutures defined previosly by python\n",
    "        - List # Mutable\n",
    "        - Dictionary # Mutable\n",
    "        - Tuple # immutable\n",
    "        - Set # Mutable\n",
    "\n",
    "\n",
    "    2. User-Defined Data Stuctures\n",
    "        - Stack\n",
    "        - Quenue\n",
    "        - Tree\n",
    "        - Linked List\n",
    "        - Graph\n",
    "        - HashMap"
   ]
  },
  {
   "cell_type": "markdown",
   "metadata": {},
   "source": [
    "### Lists:"
   ]
  },
  {
   "cell_type": "code",
   "execution_count": null,
   "metadata": {},
   "outputs": [],
   "source": [
    "list1 = [1, 2, 'san', 4.5, 20 + 10j,'joj']\n",
    "\n",
    "print(list1[0]) # 1\n",
    "print(list1[:3]) # [1, 2, 'san']\n",
    "print(list1[2:5]) # ['san', 4.5, (20+10j)]\n",
    "print(list1[1:5:2]) # [2, 4.5] = index 1 ultil the index 4 step 2\n",
    "\n",
    "print(*list1) # print out of a list\n",
    "print(*list1, sep= ' /\\ ')\n",
    "\n",
    "list1.append(99) # insert at the end of the list\n",
    "list1.insert(len(list1), 77) # insert in the index that you inform\n",
    "print(*list1, sep= ' // ') \n",
    "list1.extend([22, 'gtg', 12.4]) #add a list in the end\n",
    "print(*list1, sep= ' ')\n",
    "list1.pop(3) # just delete the data in the index that you inform\n",
    "print(*list1, sep= ' ')\n",
    "del list1[1] #another way to delete the data in the list\n",
    "print(*list1, sep= ' ')"
   ]
  },
  {
   "cell_type": "markdown",
   "metadata": {},
   "source": [
    "### Tuples are like list but immutable"
   ]
  },
  {
   "cell_type": "markdown",
   "metadata": {},
   "source": [
    "### Set: simmilar to the lists but don't accept duplicate values "
   ]
  },
  {
   "cell_type": "code",
   "execution_count": 29,
   "metadata": {},
   "outputs": [
    {
     "name": "stdout",
     "output_type": "stream",
     "text": [
      "{1, 2, 3, 4.5, 'san', (10+20j)}\n",
      "{1, 2, 3, 4.5, 'san', (10+20j), 7}\n",
      "{1, 2, 3, 4.5, 'san', (10+20j)}\n",
      "{1, 2, 3, 4.5, 3.7, (10+20j), 5, 'juj', 9, 'san'}\n"
     ]
    }
   ],
   "source": [
    "set1 = {1, 3, 2, 'san', 4.5, 10 +20j, 1, 2} # {1, 2, 4.5, 'san', (10+20j)} = Note that the Set command removed the duplicated values\n",
    "set2 = {1,2,9,5,'juj', 'san', 3.7}\n",
    "print(set1)\n",
    "set1.add(7) \n",
    "print(set1)\n",
    "set1.remove(7)\n",
    "print(set1)\n",
    "print(set1.union(set2)) # You can see after the union operation he delete all the duplicates (strings, int, float..)\n",
    "\n",
    "# the set create sort the numeric values"
   ]
  }
 ],
 "metadata": {
  "kernelspec": {
   "display_name": "Python 3.10.4 64-bit",
   "language": "python",
   "name": "python3"
  },
  "language_info": {
   "codemirror_mode": {
    "name": "ipython",
    "version": 3
   },
   "file_extension": ".py",
   "mimetype": "text/x-python",
   "name": "python",
   "nbconvert_exporter": "python",
   "pygments_lexer": "ipython3",
   "version": "3.10.4"
  },
  "orig_nbformat": 4,
  "vscode": {
   "interpreter": {
    "hash": "c172f04bf2abf09c84be7d053ce294f511e0ab0bd5a6805bf62779ab90bd0801"
   }
  }
 },
 "nbformat": 4,
 "nbformat_minor": 2
}
