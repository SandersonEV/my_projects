{
 "cells": [
  {
   "cell_type": "markdown",
   "metadata": {},
   "source": [
    "# 1. functions\n",
    "open the file '2_ordering_system.py' to get more examples"
   ]
  },
  {
   "cell_type": "code",
   "execution_count": 6,
   "metadata": {},
   "outputs": [
    {
     "name": "stdout",
     "output_type": "stream",
     "text": [
      "5\n"
     ]
    }
   ],
   "source": [
    "# This is a sample of a simple function:\n",
    "def somar(x, y):\n",
    "    return x + y\n",
    "\n",
    "print(somar(2,3)) # The autput should be 5"
   ]
  },
  {
   "cell_type": "markdown",
   "metadata": {},
   "source": [
    "Data Structures in Python:\n",
    "\n",
    "    1. Built-in Data Structures # Strutures defined previosly by python\n",
    "        - List # Mutable\n",
    "        - Dictionary # Mutable\n",
    "        - Tuple # immutable\n",
    "        - Set # Mutable\n",
    "\n",
    "\n",
    "    2. User-Defined Data Stuctures\n",
    "        - Stack\n",
    "        - Quenue\n",
    "        - Tree\n",
    "        - Linked List\n",
    "        - Graph\n",
    "        - HashMap"
   ]
  },
  {
   "cell_type": "markdown",
   "metadata": {},
   "source": [
    "### 2. Lists:"
   ]
  },
  {
   "cell_type": "code",
   "execution_count": null,
   "metadata": {},
   "outputs": [],
   "source": [
    "list1 = [1, 2, 'san', 4.5, 20 + 10j,'joj']\n",
    "\n",
    "print(list1[0]) # 1\n",
    "print(list1[:3]) # [1, 2, 'san']\n",
    "print(list1[2:5]) # ['san', 4.5, (20+10j)]\n",
    "print(list1[1:5:2]) # [2, 4.5] = index 1 ultil the index 4 step 2\n",
    "\n",
    "print(*list1) # print out of a list\n",
    "print(*list1, sep= ' /\\ ')\n",
    "\n",
    "list1.append(99) # insert at the end of the list\n",
    "list1.insert(len(list1), 77) # insert in the index that you inform\n",
    "print(*list1, sep= ' // ') \n",
    "list1.extend([22, 'gtg', 12.4]) #add a list in the end\n",
    "print(*list1, sep= ' ')\n",
    "list1.pop(3) # just delete the data in the index that you inform\n",
    "print(*list1, sep= ' ')\n",
    "del list1[1] #another way to delete the data in the list\n",
    "print(*list1, sep= ' ')"
   ]
  },
  {
   "cell_type": "markdown",
   "metadata": {},
   "source": [
    "### 3. Tuples are like list but immutable"
   ]
  },
  {
   "cell_type": "markdown",
   "metadata": {},
   "source": [
    "### 4. Set: simmilar to the lists but don't accept duplicate values "
   ]
  },
  {
   "cell_type": "code",
   "execution_count": null,
   "metadata": {},
   "outputs": [],
   "source": [
    "set1 = {1, 3, 2, 'san', 4.5, 10 +20j, 1, 2} # {1, 2, 4.5, 'san', (10+20j)} = Note that the Set command removed the duplicated values\n",
    "set2 = {1,2,9,5,'juj', 'san', 3.7}\n",
    "print(set1)\n",
    "set1.add(7) \n",
    "print(set1)\n",
    "set1.remove(7)\n",
    "print(set1)\n",
    "print(set1.union(set2)) # You can see after the union operation he delete all the duplicates (strings, int, float..)\n",
    "print(set1 | set2) #other way to create a union\n",
    "\n",
    "# the set create sort the numeric values"
   ]
  },
  {
   "cell_type": "code",
   "execution_count": null,
   "metadata": {},
   "outputs": [],
   "source": [
    "seta = {1,3,5,7,9, 'bob'}\n",
    "setb = {1,5,9, 'bob', 2, 4}\n",
    "\n",
    "print(seta.intersection(setb))\n",
    "print (seta & setb) # samething\n",
    "print(seta.difference(setb)) # Print only the elements that are inside seta and not on setb\n",
    "print(seta - setb) # other way to write \n",
    "print(setb.difference(seta)) \n",
    "print(seta - setb) # other way to write \n",
    "print(seta.symmetric_difference(setb)) # every element that don't exists in both sets\n",
    "print(seta ^ setb) #other way to write\n",
    "\n",
    "# Sets can't have itens printed by the index like: setb[1] = Error."
   ]
  },
  {
   "cell_type": "markdown",
   "metadata": {},
   "source": [
    "### 5. Dictionary"
   ]
  },
  {
   "cell_type": "code",
   "execution_count": 51,
   "metadata": {},
   "outputs": [
    {
     "name": "stdout",
     "output_type": "stream",
     "text": [
      "<class 'dict'>\n",
      "Coffe\n",
      "Marmelada\n",
      "Caramelo\n"
     ]
    }
   ],
   "source": [
    "sample_dict = {1: 'Coffe', 2:'Tea',3: 'Juice',4:'Caipirinha','bob':'Marmelada'}\n",
    "print(type(sample_dict))\n",
    "\n",
    "\n",
    "print(sample_dict[1]) #Find using the key\n",
    "print(sample_dict['bob'])\n",
    "\n",
    "sample_dict[1]= 'Caramelo' #  itens inside the key\n",
    "print(sample_dict[1])\n",
    "\n",
    "del sample_dict[1] # delete on key\n",
    "\n"
   ]
  },
  {
   "cell_type": "code",
   "execution_count": 57,
   "metadata": {},
   "outputs": [
    {
     "name": "stdout",
     "output_type": "stream",
     "text": [
      "(1, 'Caramelo')\n",
      "(2, 'Tea')\n",
      "(3, 'Juice')\n",
      "(4, 'Caipirinha')\n",
      "('bob', 'Marmelada')\n"
     ]
    }
   ],
   "source": [
    "for x in sample_dict.items():\n",
    "    print(x)"
   ]
  },
  {
   "cell_type": "markdown",
   "metadata": {},
   "source": [
    "### 6. args and Kwargs"
   ]
  },
  {
   "cell_type": "code",
   "execution_count": 1,
   "metadata": {},
   "outputs": [
    {
     "name": "stdout",
     "output_type": "stream",
     "text": [
      "9\n"
     ]
    }
   ],
   "source": [
    "def sum_of(a, b):\n",
    "    return a + b\n",
    "\n",
    "print(sum_of(4,5))\n"
   ]
  },
  {
   "cell_type": "code",
   "execution_count": 5,
   "metadata": {},
   "outputs": [
    {
     "name": "stdout",
     "output_type": "stream",
     "text": [
      "43\n"
     ]
    }
   ],
   "source": [
    "# if i want to create a function that allows to pass more then a limited number of arguments:\n",
    "\n",
    "def sum_of2(*args):\n",
    "    sum = 0\n",
    "    for x in args:\n",
    "        sum += x\n",
    "    return sum\n",
    "\n",
    "print(sum_of2(2, 6, 9, 11, 15))"
   ]
  },
  {
   "cell_type": "code",
   "execution_count": 8,
   "metadata": {},
   "outputs": [
    {
     "name": "stdout",
     "output_type": "stream",
     "text": [
      "10.53\n"
     ]
    }
   ],
   "source": [
    "# kwargs\n",
    "\n",
    "def sum_of2(**kwargs):\n",
    "    sum = 0\n",
    "    for k, v in kwargs.items():\n",
    "        sum += v\n",
    "    return round(sum, 2)\n",
    "\n",
    "print(sum_of2(coffe=2.99, cake=4.55, juice=2.99))"
   ]
  },
  {
   "cell_type": "markdown",
   "metadata": {},
   "source": [
    "### Example 1\n",
    "\n",
    "In this example, there's a list of employees that work in a restaurant. You need to be able to find an employee by their employee ID - an integer-based numeric ID. The function get_employee contains a for loop to iterate over the list of employees and returns an employee object if the ID matches."
   ]
  },
  {
   "cell_type": "code",
   "execution_count": 40,
   "metadata": {},
   "outputs": [
    {
     "name": "stdout",
     "output_type": "stream",
     "text": [
      "{'id': 12458, 'name': 'Paul', 'department': 'House Floor'}\n"
     ]
    }
   ],
   "source": [
    "employee_list = [{\"id\": 12345, \"name\": \"John\", \"department\": \"Kitchen\"}, {\"id\": 12458, \"name\": \"Paul\", \"department\": \"House Floor\"}]\n",
    "\n",
    "def get_employee(id): \n",
    "    for employee in employee_list:\n",
    "        if employee['id'] == id: # if the item inside of the key 'id' matches with the informed 'id' then the 'for' return the employee\n",
    "            return employee\n",
    "\n",
    "print(get_employee(12458));\n",
    "## OUTPUT {'id': 12458, 'name': 'Paul', 'department': 'House Floor'}"
   ]
  },
  {
   "cell_type": "markdown",
   "metadata": {},
   "source": [
    "The code runs well and will return the user Paul, as its ID, 12458, is matched. The challenge comes when the list gets bigger. \n",
    "\n",
    "Instead of two employees, you may have 2000 or even 20,000. The code will have to iterate over the list sequentially until the number is matched. \n",
    "\n",
    "You could optimize the code to split the search, but even with this, it still lacks in performance in comparison to other data structures, such as the dictionary."
   ]
  },
  {
   "cell_type": "code",
   "execution_count": 45,
   "metadata": {},
   "outputs": [
    {
     "name": "stdout",
     "output_type": "stream",
     "text": [
      "{'id': '12458', 'name': 'Paul', 'department': 'House Floor'}\n"
     ]
    }
   ],
   "source": [
    "employee_dict = {\n",
    "    12345: {\n",
    "        \"id\": \"12345\",\n",
    "        \"name\": \"John\", \n",
    "        \"department\": \"Kitchen\"    \n",
    "    },\n",
    "    12458: {\n",
    "        \"id\": \"12458\",\n",
    "        \"name\": \"Paul\", \n",
    "        \"department\": \"House Floor\"    \n",
    "    }\n",
    "}\n",
    "def get_employee_from_dict(id):\n",
    "    return employee_dict[id];\n",
    "\n",
    "\n",
    "print(get_employee_from_dict(12458));\n",
    "## OUTPUT {'id': 12458, 'name': 'Paul', 'department': 'House Floor'}\n"
   ]
  },
  {
   "cell_type": "markdown",
   "metadata": {},
   "source": [
    "### 7. Exception handling"
   ]
  },
  {
   "cell_type": "code",
   "execution_count": null,
   "metadata": {},
   "outputs": [],
   "source": [
    "def divide_by1(a,b):\n",
    "    return a / b\n",
    "\n",
    "print(divide_by1(40,4))\n",
    "print(divide_by1(40,0)) # You'll get a ZeroDivisionError (ZeroDivisionError is the exception)"
   ]
  },
  {
   "cell_type": "code",
   "execution_count": 61,
   "metadata": {},
   "outputs": [
    {
     "name": "stdout",
     "output_type": "stream",
     "text": [
      "20.0\n"
     ]
    }
   ],
   "source": [
    "def divide_by2(a,b): # now We can see that the erro was replaced for the message\n",
    "\n",
    "    try:\n",
    "        asw = a / b\n",
    "    except:\n",
    "        asw = ('Algo deu errado!')\n",
    "    return asw\n",
    "\n",
    "print(divide_by2(40,2))"
   ]
  }
 ],
 "metadata": {
  "kernelspec": {
   "display_name": "Python 3.10.4 64-bit",
   "language": "python",
   "name": "python3"
  },
  "language_info": {
   "codemirror_mode": {
    "name": "ipython",
    "version": 3
   },
   "file_extension": ".py",
   "mimetype": "text/x-python",
   "name": "python",
   "nbconvert_exporter": "python",
   "pygments_lexer": "ipython3",
   "version": "3.10.4"
  },
  "orig_nbformat": 4,
  "vscode": {
   "interpreter": {
    "hash": "c172f04bf2abf09c84be7d053ce294f511e0ab0bd5a6805bf62779ab90bd0801"
   }
  }
 },
 "nbformat": 4,
 "nbformat_minor": 2
}
