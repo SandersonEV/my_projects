{
 "cells": [
  {
   "cell_type": "markdown",
   "metadata": {},
   "source": [
    "# IF and MAtch Statements:"
   ]
  },
  {
   "cell_type": "code",
   "execution_count": 2,
   "metadata": {},
   "outputs": [
    {
     "name": "stdout",
     "output_type": "stream",
     "text": [
      "20.0\n"
     ]
    }
   ],
   "source": [
    "http_status = 200\n",
    "\n",
    "if http_status == 200 or http_status == 201:\n",
    "    print('Sucess')\n",
    "elif http_status == 400:\n",
    "    print('Not Found')\n",
    "elif http_status == 500 or http_status == 501:\n",
    "    print('Server Error')\n",
    "else:\n",
    "    print('Unknown')\n",
    "\n",
    "# Match Statement - Is a more clean way to wright code when the 'if' statement get to big and can be mess\n",
    "\n",
    "match http_status:\n",
    "    case 200 | 201:\n",
    "        print('Sucess')\n",
    "    case 400:\n",
    "        print('Not Found')\n",
    "    case 500 | 501:\n",
    "        print('Server Error')\n",
    "    case _: # the last case it's equivalent of the final 'else' in the 'if' statement\n",
    "        print('Unknown')"
   ]
  },
  {
   "cell_type": "markdown",
   "metadata": {},
   "source": [
    "# FOR loop - The 'for' loop runs the sequence defined after the 'in' step by step:"
   ]
  },
  {
   "cell_type": "code",
   "execution_count": null,
   "metadata": {},
   "outputs": [],
   "source": [
    "# Remember that every string is a sequence of letters and can be accessed using indexes\n",
    "# Looping is used to interate through the sequence (str,list and tuples) and access each item inside the sequence.\n",
    "\n",
    "for i in range(10): # A range function go from zero until the number that you defined -1 \n",
    "    print('Looping..', i)"
   ]
  },
  {
   "cell_type": "code",
   "execution_count": null,
   "metadata": {},
   "outputs": [],
   "source": [
    "favorites = ['Creme Brulee','Apple Pie','Churros','Tiramisú','Chocolate Cake']\n",
    "for u in favorites:\n",
    "    print('A sobremesa favorita é: ', u)"
   ]
  },
  {
   "cell_type": "code",
   "execution_count": null,
   "metadata": {},
   "outputs": [],
   "source": [
    "# To get the index of the actual iteration in the 'for' loop you should make some modifications:\n",
    "favorites = ['Creme Brulee','Apple Pie','Churros','Tiramisú','Chocolate Cake']\n",
    "\n",
    "for index,u in enumerate(favorites):\n",
    "    print(index , ' - a sobremesa favorita é: ', u)"
   ]
  },
  {
   "cell_type": "code",
   "execution_count": null,
   "metadata": {},
   "outputs": [],
   "source": [
    "#BREAK - A Loop control statement\n",
    "\n",
    "favorites = ['Creme Brulee', 'Apple Pie', 'Churros', 'Tiramisú', 'Chocolate Cake']\n",
    "\n",
    "for dessert in favorites:\n",
    "    if dessert == 'Pudding':\n",
    "        print('Yes one of my favorite desserts is', dessert)\n",
    "        break # STOP the 'for' loop\n",
    "else:\n",
    "    print('No sorry, not a dessert on my list')\n"
   ]
  },
  {
   "cell_type": "code",
   "execution_count": null,
   "metadata": {},
   "outputs": [],
   "source": [
    "#CONTINUE - A Loop control statement\n",
    "\n",
    "favorites = ['Creme Brulee', 'Apple Pie', 'Churros', 'Tiramisú', 'Chocolate Cake']\n",
    "\n",
    "for dessert in favorites:\n",
    "    if dessert == 'Churros':\n",
    "        continue # The continue works by skipping this iteraction but continuing to run the loop\n",
    "    print('Other desserts I like are', dessert) "
   ]
  },
  {
   "cell_type": "code",
   "execution_count": null,
   "metadata": {},
   "outputs": [],
   "source": [
    "#PASS - A Loop control statement\n",
    "favorites = ['Creme Brulee', 'Apple Pie', 'Churros', 'Tiramisú', 'Chocolate Cake']\n",
    "\n",
    "for dessert in favorites:\n",
    "    if dessert == 'Churros':\n",
    "        pass # Just ignore that the 'if' has a match an continue to run\n",
    "    print('Other desserts I like are', dessert) "
   ]
  },
  {
   "cell_type": "markdown",
   "metadata": {},
   "source": [
    "# While loop - Make the loop if the condition is True - The while depends more of your commands to work:"
   ]
  },
  {
   "cell_type": "code",
   "execution_count": null,
   "metadata": {},
   "outputs": [],
   "source": [
    "favorites = ['Creme Brulee','Apple Pie','Churros','Tiramisú','Chocolate Cake']\n",
    "count = 0\n",
    "\n",
    "while count < len(favorites):\n",
    "    print('I like this desert: ',favorites[count])\n",
    "    count +=1 ## To show the desert in the next index the count should be incresed in every iteraction"
   ]
  },
  {
   "cell_type": "markdown",
   "metadata": {},
   "source": [
    "# Nested LOOPS"
   ]
  },
  {
   "cell_type": "markdown",
   "metadata": {},
   "source": [
    "## Nested FOR loop"
   ]
  },
  {
   "cell_type": "code",
   "execution_count": null,
   "metadata": {},
   "outputs": [],
   "source": [
    "for x in range (10): #outer loop\n",
    "    print(x)\n",
    "    for y in range(10): # inner loop\n",
    "        print(y)"
   ]
  }
 ],
 "metadata": {
  "kernelspec": {
   "display_name": "Python 3.10.4 64-bit",
   "language": "python",
   "name": "python3"
  },
  "language_info": {
   "codemirror_mode": {
    "name": "ipython",
    "version": 3
   },
   "file_extension": ".py",
   "mimetype": "text/x-python",
   "name": "python",
   "nbconvert_exporter": "python",
   "pygments_lexer": "ipython3",
   "version": "3.10.4"
  },
  "orig_nbformat": 4,
  "vscode": {
   "interpreter": {
    "hash": "c172f04bf2abf09c84be7d053ce294f511e0ab0bd5a6805bf62779ab90bd0801"
   }
  }
 },
 "nbformat": 4,
 "nbformat_minor": 2
}
