{
 "cells": [
  {
   "cell_type": "markdown",
   "metadata": {},
   "source": [
    "### 1. functions\n",
    "open the file '2_ordering_system.py' to get more examples"
   ]
  },
  {
   "cell_type": "code",
   "execution_count": null,
   "metadata": {},
   "outputs": [],
   "source": [
    "# This is a sample of a simple function:\n",
    "def somar(x, y):\n",
    "    return x + y\n",
    "\n",
    "print(somar(2,3)) # The output should be 5"
   ]
  },
  {
   "cell_type": "markdown",
   "metadata": {},
   "source": [
    "Data Structures in Python:\n",
    "\n",
    "    1. Built-in Data Structures # Strutures defined previosly by python\n",
    "        - List # Mutable\n",
    "        - Dictionary # Mutable\n",
    "        - Tuple # immutable\n",
    "        - Set # Mutable\n",
    "\n",
    "\n",
    "    2. User-Defined Data Stuctures\n",
    "        - Stack\n",
    "        - Quenue\n",
    "        - Tree\n",
    "        - Linked List\n",
    "        - Graph\n",
    "        - HashMap"
   ]
  },
  {
   "cell_type": "markdown",
   "metadata": {},
   "source": [
    "### 2. Lists:"
   ]
  },
  {
   "cell_type": "code",
   "execution_count": null,
   "metadata": {},
   "outputs": [],
   "source": [
    "list1 = [1, 2, 'san', 4.5, 20 + 10j,'joj']\n",
    "\n",
    "print(list1[0]) # 1\n",
    "print(list1[:3]) # [1, 2, 'san']\n",
    "print(list1[2:5]) # ['san', 4.5, (20+10j)]\n",
    "print(list1[1:5:2]) # [2, 4.5] = index 1 ultil the index 4 step 2\n",
    "\n",
    "print(*list1) # print out of a list\n",
    "print(*list1, sep= ' /\\ ')\n",
    "\n",
    "list1.append(99) # insert at the end of the list\n",
    "list1.insert(len(list1), 77) # insert in the index that you inform\n",
    "print(*list1, sep= ' // ') \n",
    "list1.extend([22, 'gtg', 12.4]) #add a list in the end\n",
    "print(*list1, sep= ' ')\n",
    "list1.pop(3) # just delete the data in the index that you inform\n",
    "print(*list1, sep= ' ')\n",
    "del list1[1] #another way to delete the data in the list\n",
    "print(*list1, sep= ' ')"
   ]
  },
  {
   "cell_type": "markdown",
   "metadata": {},
   "source": [
    "### 3. Tuples are like list but immutable"
   ]
  },
  {
   "cell_type": "markdown",
   "metadata": {},
   "source": [
    "### 4. Set: simmilar to the lists but don't accept duplicate values  and they're sorted"
   ]
  },
  {
   "cell_type": "code",
   "execution_count": null,
   "metadata": {},
   "outputs": [],
   "source": [
    "set1 = {1, 3, 2, 'san', 4.5, 10 +20j, 1, 2} # {1, 2, 4.5, 'san', (10+20j)} = Note that the Set command removed the duplicated values\n",
    "set2 = {1,2,9,5,'juj', 'san', 3.7}\n",
    "print(set1)\n",
    "set1.add(7) \n",
    "print(set1)\n",
    "set1.remove(7)\n",
    "print(set1)\n",
    "print(set1.union(set2)) # You can see after the union operation he delete all the duplicates (strings, int, float..)\n",
    "print(set1 | set2) #other way to create a union\n",
    "\n",
    "# the set create sort the numeric values"
   ]
  },
  {
   "cell_type": "code",
   "execution_count": null,
   "metadata": {},
   "outputs": [],
   "source": [
    "seta = {1,3,5,7,9, 'bob'}\n",
    "setb = {1,5,9, 'bob', 2, 4}\n",
    "\n",
    "print(seta.intersection(setb))\n",
    "print (seta & setb) # samething\n",
    "print(seta.difference(setb)) # Print only the elements that are inside seta and not on setb\n",
    "print(seta - setb) # other way to write \n",
    "print(setb.difference(seta)) \n",
    "print(seta - setb) # other way to write \n",
    "print(seta.symmetric_difference(setb)) # every element that don't exists in both sets\n",
    "print(seta ^ setb) #other way to write\n",
    "\n",
    "# Sets can't have itens printed by the index like: setb[1] = Error."
   ]
  },
  {
   "cell_type": "markdown",
   "metadata": {},
   "source": [
    "### 5. Dictionary"
   ]
  },
  {
   "cell_type": "code",
   "execution_count": null,
   "metadata": {},
   "outputs": [],
   "source": [
    "sample_dict = {1: 'Coffe', 2:'Tea',3: 'Juice',4:'Caipirinha','bob':'Marmelada'}\n",
    "print(type(sample_dict))\n",
    "\n",
    "print(sample_dict[1]) #Find using the key\n",
    "print(sample_dict['bob']) # key String\n",
    "\n",
    "sample_dict[1]= 'Caramelo' #  replace the itens by the key\n",
    "print(sample_dict[1])\n",
    "print(sample_dict.items())\n",
    "\n",
    "del sample_dict[1] # delete on key"
   ]
  },
  {
   "cell_type": "code",
   "execution_count": null,
   "metadata": {},
   "outputs": [],
   "source": [
    "for x in sample_dict.items():\n",
    "    print(x)"
   ]
  },
  {
   "cell_type": "markdown",
   "metadata": {},
   "source": [
    "### 6. args and Kwargs"
   ]
  },
  {
   "cell_type": "code",
   "execution_count": null,
   "metadata": {},
   "outputs": [],
   "source": [
    "def sum_of(a, b):\n",
    "    return a + b\n",
    "\n",
    "print(sum_of(4,5))"
   ]
  },
  {
   "cell_type": "code",
   "execution_count": null,
   "metadata": {},
   "outputs": [],
   "source": [
    "# if i want to create a function that allows to pass a list of arguments:\n",
    "\n",
    "def sum_of2(*args):\n",
    "    sum = 0\n",
    "    for x in args:\n",
    "        sum += x\n",
    "    return sum\n",
    "\n",
    "print(sum_of2(2, 6, 9, 11, 15))"
   ]
  },
  {
   "cell_type": "code",
   "execution_count": null,
   "metadata": {},
   "outputs": [],
   "source": [
    "# kwargs\n",
    "\n",
    "def sum_of2(**kwargs):\n",
    "    sum = 0\n",
    "    for k, v in kwargs.items():\n",
    "        sum += v\n",
    "    return round(sum, 2)\n",
    "\n",
    "print(sum_of2(coffe=2.99, cake=4.55, juice=2.99))"
   ]
  },
  {
   "cell_type": "markdown",
   "metadata": {},
   "source": [
    "### Example 1\n",
    "\n",
    "In this example, there's a list of employees that work in a restaurant. You need to be able to find an employee by their employee ID - an integer-based numeric ID. The function get_employee contains a for loop to iterate over the list of employees and returns an employee object if the ID matches."
   ]
  },
  {
   "cell_type": "code",
   "execution_count": null,
   "metadata": {},
   "outputs": [],
   "source": [
    "employee_list = [{\"id\": 12345, \"name\": \"John\", \"department\": \"Kitchen\"}, {\"id\": 12458, \"name\": \"Paul\", \"department\": \"House Floor\"}]\n",
    "\n",
    "def get_employee(id): \n",
    "    for employee in employee_list:\n",
    "        if employee['id'] == id: # if the item inside of the key 'id' matches with the input 'id' then the function return the employee with the id\n",
    "            return employee\n",
    "\n",
    "print(get_employee(12458));\n",
    "\n",
    "# OUTPUT {'id': 12458, 'name': 'Paul', 'department': 'House Floor'}"
   ]
  },
  {
   "cell_type": "markdown",
   "metadata": {},
   "source": [
    "The code runs well and will return the user Paul, as its ID, 12458, is matched. The challenge comes when the list gets bigger. \n",
    "\n",
    "Instead of two employees, you may have 2000 or even 20,000. The code will have to iterate over the list sequentially until the number is matched. \n",
    "\n",
    "You could optimize the code to split the search, but even with this, it still lacks in performance in comparison to other data structures, such as the dictionary."
   ]
  },
  {
   "cell_type": "code",
   "execution_count": null,
   "metadata": {},
   "outputs": [],
   "source": [
    "employee_dict = {\n",
    "    12345: {\n",
    "        \"id\": \"12345\",\n",
    "        \"name\": \"John\", \n",
    "        \"department\": \"Kitchen\"    \n",
    "    },\n",
    "    12458: {\n",
    "        \"id\": \"12458\",\n",
    "        \"name\": \"Paul\", \n",
    "        \"department\": \"House Floor\"    \n",
    "    }\n",
    "}\n",
    "def get_employee_from_dict(id):\n",
    "    return employee_dict[id];\n",
    "\n",
    "\n",
    "print(get_employee_from_dict(12458));\n",
    "## OUTPUT {'id': 12458, 'name': 'Paul', 'department': 'House Floor'}\n"
   ]
  },
  {
   "cell_type": "markdown",
   "metadata": {},
   "source": [
    "### 7. Exception handling"
   ]
  },
  {
   "cell_type": "code",
   "execution_count": null,
   "metadata": {},
   "outputs": [],
   "source": [
    "def divide_by1(a,b):\n",
    "    return a / b\n",
    "\n",
    "print(divide_by1(40,0)) # You'll get a ZeroDivisionError (ZeroDivisionError is the exception)"
   ]
  },
  {
   "cell_type": "code",
   "execution_count": null,
   "metadata": {},
   "outputs": [],
   "source": [
    "# now We can see that the erro was replaced for the message\n",
    "def divide_by2(a,b): \n",
    "\n",
    "    try:\n",
    "        asw = a / b\n",
    "    except:\n",
    "        asw = ('Algo deu errado!')\n",
    "    return asw\n",
    "\n",
    "print(divide_by2(40,2))"
   ]
  },
  {
   "cell_type": "code",
   "execution_count": null,
   "metadata": {},
   "outputs": [],
   "source": [
    "# Print what is the error about\n",
    "\n",
    "def divide_by2(a,b):\n",
    "\n",
    "    try:\n",
    "        asw = a / b\n",
    "    except Exception as e: \n",
    "        asw = ('Algo deu errado!', e.__class__)\n",
    "    return asw\n",
    "\n",
    "print(divide_by2(40,0))"
   ]
  },
  {
   "cell_type": "code",
   "execution_count": null,
   "metadata": {},
   "outputs": [],
   "source": [
    "# We can be more specific and write a friendly answer\n",
    "\n",
    "def divide_by2(a,b): \n",
    "\n",
    "    try:\n",
    "        asw = a / b\n",
    "    except ZeroDivisionError: \n",
    "        asw = 'Não é possível dividir por zero'\n",
    "    return asw\n",
    "\n",
    "print(divide_by2(40,0))"
   ]
  },
  {
   "cell_type": "code",
   "execution_count": null,
   "metadata": {},
   "outputs": [],
   "source": [
    "# We can also define more than one exception\n",
    "\n",
    "def divide_by2(a,b): \n",
    "\n",
    "    try:\n",
    "        asw = a / b\n",
    "    except ZeroDivisionError: \n",
    "        asw = 'Não é possível dividir por zero'\n",
    "    except:\n",
    "        asw = 'Deu algum outro problema ai...'\n",
    "    return asw\n",
    "\n",
    "print(divide_by2(40,'sam'))"
   ]
  },
  {
   "cell_type": "markdown",
   "metadata": {},
   "source": [
    "#### Exercise: Exceptions in Python"
   ]
  },
  {
   "cell_type": "code",
   "execution_count": null,
   "metadata": {},
   "outputs": [],
   "source": [
    "#IndexError   \n",
    "\n",
    "items = [1,2,3,4,5]\n",
    "item = items[6] # Inside the list there is no item with the index of 6\n",
    "print(item)"
   ]
  },
  {
   "cell_type": "code",
   "execution_count": null,
   "metadata": {},
   "outputs": [],
   "source": [
    "#IndexError  FIX\n",
    "\n",
    "items = [1,2,3,4,5]\n",
    "try:\n",
    "    item = items[6] # Inside the list there is no item with the index of 6\n",
    "    print(item)\n",
    "except IndexError:\n",
    "    print('Item não existe')"
   ]
  },
  {
   "cell_type": "code",
   "execution_count": null,
   "metadata": {},
   "outputs": [],
   "source": [
    "# ZeroDivisionError FIX\n",
    "\n",
    "def divide_by(a, b):\n",
    "    try:\n",
    "        return a / b\n",
    "    except ZeroDivisionError:\n",
    "        return 'Não é possivel fazer a divisão por zero'\n",
    "    except:\n",
    "        return 'Deu problema'\n",
    "        \n",
    "azx = divide_by(40,0)\n",
    "    \n",
    "print(azx)"
   ]
  },
  {
   "cell_type": "code",
   "execution_count": null,
   "metadata": {},
   "outputs": [],
   "source": [
    "# FileNotFoundError\n",
    "\n",
    "with open('file_does_not_exist.txt', 'r') as file:\n",
    "    print(file.read())"
   ]
  },
  {
   "cell_type": "code",
   "execution_count": null,
   "metadata": {},
   "outputs": [],
   "source": [
    "# FileNotFoundError FIX\n",
    "try:\n",
    "    with open('file_does_not_exist.txt', 'r') as file: #open and close the file and save in the 'file' variable\n",
    "        print(file.read())\n",
    "except FileNotFoundError:\n",
    "    print('Arquivo não encontrado')"
   ]
  },
  {
   "cell_type": "markdown",
   "metadata": {},
   "source": [
    "### 8. File handlieng\n",
    "Modes:\n",
    "    -r  = read (rb = read binary)\n",
    "    -r+ = read and write (rb+ read and write binary)\n",
    "    -w  = write (wb = write binary)\n",
    "    -a  = append (ab = append binary)"
   ]
  },
  {
   "cell_type": "code",
   "execution_count": null,
   "metadata": {},
   "outputs": [],
   "source": [
    "file1 = open('2_test.txt', mode= 'r')\n",
    "data = file1.read()\n",
    "file1.close\n",
    " \n",
    "print(data)"
   ]
  },
  {
   "cell_type": "code",
   "execution_count": null,
   "metadata": {},
   "outputs": [],
   "source": [
    "# Open the file and close automatically after save in a variable\n",
    "\n",
    "with open('2_test.txt', mode= 'r') as file2:\n",
    "    data2 = file2.read()\n",
    "    \n",
    "print(data2)"
   ]
  },
  {
   "cell_type": "code",
   "execution_count": null,
   "metadata": {},
   "outputs": [],
   "source": [
    "# Creating a new file - WRITE and WRITELINES\n",
    "\n",
    "with open('2_newFile.txt', 'w') as file3:\n",
    "    file3.writelines(['Esse é um teste apenas para criar um novo arquivo de texto de exemplo.', '\\n\\n(Creating a new file from 2_class.ipynb)']) # syntax to writelines(['' , '\\n'])\n",
    "\n",
    "# file3.write = Write one line\n",
    "# file3.writelines = Write multiple lines    "
   ]
  },
  {
   "cell_type": "code",
   "execution_count": null,
   "metadata": {},
   "outputs": [],
   "source": [
    "# Append file\n",
    "\n",
    "with open('2.2_newFile.txt', 'a') as file3: # a = append\n",
    "    file3.writelines(['\\n\\nEsse e um teste para adicao de novas linhas.', '\\n(append new lines to 2_newFile.txt)']) \n",
    "\n",
    "# \\n in the beginning starts in a new line"
   ]
  },
  {
   "cell_type": "markdown",
   "metadata": {},
   "source": [
    "Read Files\n",
    "- file5.read(n) = Print as a string that contains all the characters (the 'n' specify the number of characters that you want to pass to the file)\n",
    "- file5.readline(n) = return just one line\n",
    "- file5.readlines(n) = read the entire contents of the file and returns it in an ordered list\n",
    "-----------------------------------------------------------------------------------------------------\n",
    "- Relative Path: To read files in the same path, you only need the name of the file\n",
    "- Absolute Path: /user/local/.../somefile.txt or C:\\user\\system\\...\\somefile.txt"
   ]
  },
  {
   "cell_type": "code",
   "execution_count": null,
   "metadata": {},
   "outputs": [],
   "source": [
    "# Read Files\n",
    "with open('2_test.txt', mode= 'r') as file2:\n",
    "    print(file2.read(), '\\n') # this prints the entire content of the file2\n",
    "\n",
    "# PARAMETER - Read Files passing a parameter\n",
    "with open('2_test.txt', mode= 'r') as file2:\n",
    "    print(file2.read(20), '\\n') # this prints only 60 characters in the file2\n",
    "\n",
    "# READLINE - Read only the first line\n",
    "with open('2_test.txt', mode= 'r') as file2:\n",
    "    print(file2.readline(), '\\n') # this prints only the first line\n",
    "\n",
    "# READLINES\n",
    "with open('2_test.txt', mode= 'r') as file2:\n",
    "    print(file2.readlines(), '\\n') # this prints a LIST of lines\n",
    "\n",
    "# READLINES 2\n",
    "with open('2.2_petNames.txt', mode= 'r') as file2:\n",
    "    list4 = []\n",
    "    files = file2.readlines()\n",
    "\n",
    "    for x in files:\n",
    "        list4.append(x.removesuffix('\\n'))\n",
    "\n",
    "print(list4, '\\n')\n",
    "\n",
    "\n",
    "# Default READLINES\n",
    "with open('2_test.txt', mode= 'r') as file2:\n",
    "    for x in file2: # By default the with function works by using realines (create a list of lines)\n",
    "        print (x) "
   ]
  },
  {
   "cell_type": "markdown",
   "metadata": {},
   "source": [
    "#### Exercise 8.1 - File Handling"
   ]
  },
  {
   "cell_type": "code",
   "execution_count": null,
   "metadata": {},
   "outputs": [],
   "source": [
    "# Create a new file with a list of dog names:\n",
    "\n",
    "with open('2_petNames.txt', 'w') as dogs:\n",
    "    dogs.writelines([\n",
    "'Ace'\n",
    ",'\\nAtlas'\n",
    ",'\\nBailey'\n",
    ",'\\nBear'\n",
    ",'\\nBlaze'\n",
    ",'\\nBoomer'\n",
    ",'\\nBuddy'\n",
    ",'\\nCoco'\n",
    ",'\\nCooper'\n",
    ",'\\nDuke'\n",
    ",'\\nDozer'\n",
    ",'\\nEcho'\n",
    ",'\\nGizmo'\n",
    ",'\\nHarley'\n",
    ",'\\nMac'\n",
    ",'\\nMax'\n",
    ",'\\nMilo'\n",
    ",'\\nOscar'\n",
    ",'\\nRex'\n",
    ",'\\nRocky'\n",
    ",'\\nRocket'\n",
    ",'\\nWolfie'])"
   ]
  },
  {
   "cell_type": "code",
   "execution_count": null,
   "metadata": {},
   "outputs": [],
   "source": [
    "# Now that you have the file 2_petNames.txt, you'd like to use this file inside your Python program to randomly pick a single pet name.\n",
    "\n",
    "import random \n",
    "with open('2.2_petNames.txt', 'r') as dogs3:\n",
    "\n",
    "    dogsList = dogs3.read().split('\\n') \n",
    "    \n",
    "    print(random.choice(dogsList))\n"
   ]
  },
  {
   "cell_type": "code",
   "execution_count": 7,
   "metadata": {},
   "outputs": [
    {
     "name": "stdout",
     "output_type": "stream",
     "text": [
      "Bailey\n",
      "\n"
     ]
    }
   ],
   "source": [
    "# Option to just select one name in the list:\n",
    "\n",
    "with open('2.2_petNames.txt', 'r') as dogs2:\n",
    "   dogName = dogs2.readlines()[2] # the function .readlines() prints a list so if we use readlines()[2] we can find the name of index 2 in this list\n",
    "print(dogName)"
   ]
  }
 ],
 "metadata": {
  "kernelspec": {
   "display_name": "Python 3.10.4 64-bit",
   "language": "python",
   "name": "python3"
  },
  "language_info": {
   "codemirror_mode": {
    "name": "ipython",
    "version": 3
   },
   "file_extension": ".py",
   "mimetype": "text/x-python",
   "name": "python",
   "nbconvert_exporter": "python",
   "pygments_lexer": "ipython3",
   "version": "3.10.4"
  },
  "orig_nbformat": 4,
  "vscode": {
   "interpreter": {
    "hash": "c172f04bf2abf09c84be7d053ce294f511e0ab0bd5a6805bf62779ab90bd0801"
   }
  }
 },
 "nbformat": 4,
 "nbformat_minor": 2
}
