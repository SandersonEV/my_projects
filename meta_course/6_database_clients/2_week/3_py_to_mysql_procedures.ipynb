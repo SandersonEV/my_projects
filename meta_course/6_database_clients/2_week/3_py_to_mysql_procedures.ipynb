{
 "cells": [
  {
   "cell_type": "code",
   "execution_count": 43,
   "metadata": {},
   "outputs": [],
   "source": [
    "import mysql.connector as connector\n",
    "import pandas as pd"
   ]
  },
  {
   "cell_type": "code",
   "execution_count": 44,
   "metadata": {},
   "outputs": [
    {
     "name": "stdout",
     "output_type": "stream",
     "text": [
      "Connected...\n"
     ]
    }
   ],
   "source": [
    "try:\n",
    "    connection = connector.connect(\n",
    "    user='root',\n",
    "    password='******'\n",
    ")\n",
    "    print('Connected...')\n",
    "except connector.Error as err:\n",
    "    print('Error code: ', err.errno)\n",
    "    print('Error msg: ', err.msg)"
   ]
  },
  {
   "cell_type": "code",
   "execution_count": 45,
   "metadata": {},
   "outputs": [
    {
     "name": "stdout",
     "output_type": "stream",
     "text": [
      "Cursor created...\n"
     ]
    }
   ],
   "source": [
    "try:\n",
    "    cursor = connection.cursor()\n",
    "    print('Cursor created...')\n",
    "except:\n",
    "    print('Its not possible to create the cursor!')"
   ]
  },
  {
   "cell_type": "code",
   "execution_count": 46,
   "metadata": {},
   "outputs": [
    {
     "name": "stdout",
     "output_type": "stream",
     "text": [
      "Database in use:  meta_py_to_mysql\n"
     ]
    }
   ],
   "source": [
    "cursor.execute(\"USE meta_py_to_mysql\")\n",
    "print('Database in use: ', connection.database)"
   ]
  },
  {
   "cell_type": "code",
   "execution_count": 8,
   "metadata": {},
   "outputs": [
    {
     "name": "stdout",
     "output_type": "stream",
     "text": [
      "Procedure 'getCustomersAndBillAmount' created!\n"
     ]
    }
   ],
   "source": [
    "# 1. Create a stored procedure (without parameters) that make a join between 'bookings' and 'orders' tables to output the bill amount and the customer name:\n",
    "\n",
    "cursor.execute(\"DROP PROCEDURE IF EXISTS getCustomersAndBillAmount\") # Make sure the procedure do not exists before\n",
    "\n",
    "stored_procedure_query = \"\"\"\n",
    "CREATE PROCEDURE getCustomersAndBillAmount()\n",
    "BEGIN\n",
    "SELECT b.bookingID, \n",
    "CONCAT(b.guestFirstName, ' ', b.guestLastName) AS customerName,\n",
    "o.billAmount\n",
    "FROM bookings b INNER JOIN orders o ON b.bookingID = o.bookingID \n",
    "ORDER BY billAmount DESC;\n",
    "END\n",
    "\"\"\"\n",
    "\n",
    "cursor.execute(stored_procedure_query)\n",
    "print(\"Procedure 'getCustomersAndBillAmount' created!\")\n"
   ]
  },
  {
   "cell_type": "code",
   "execution_count": 21,
   "metadata": {},
   "outputs": [
    {
     "data": {
      "text/html": [
       "<style type=\"text/css\">\n",
       "</style>\n",
       "<table id=\"T_5ea30\">\n",
       "  <thead>\n",
       "    <tr>\n",
       "      <th id=\"T_5ea30_level0_col0\" class=\"col_heading level0 col0\" >bookingID</th>\n",
       "      <th id=\"T_5ea30_level0_col1\" class=\"col_heading level0 col1\" >customerName</th>\n",
       "      <th id=\"T_5ea30_level0_col2\" class=\"col_heading level0 col2\" >billAmount</th>\n",
       "    </tr>\n",
       "  </thead>\n",
       "  <tbody>\n",
       "    <tr>\n",
       "      <td id=\"T_5ea30_row0_col0\" class=\"data row0 col0\" >1</td>\n",
       "      <td id=\"T_5ea30_row0_col1\" class=\"data row0 col1\" >Anna Iversen</td>\n",
       "      <td id=\"T_5ea30_row0_col2\" class=\"data row0 col2\" >2</td>\n",
       "    </tr>\n",
       "    <tr>\n",
       "      <td id=\"T_5ea30_row1_col0\" class=\"data row1 col0\" >2</td>\n",
       "      <td id=\"T_5ea30_row1_col1\" class=\"data row1 col1\" >Joakim Iversen</td>\n",
       "      <td id=\"T_5ea30_row1_col2\" class=\"data row1 col2\" >1</td>\n",
       "    </tr>\n",
       "    <tr>\n",
       "      <td id=\"T_5ea30_row2_col0\" class=\"data row2 col0\" >3</td>\n",
       "      <td id=\"T_5ea30_row2_col1\" class=\"data row2 col1\" >Vanessa McCarthy</td>\n",
       "      <td id=\"T_5ea30_row2_col2\" class=\"data row2 col2\" >1</td>\n",
       "    </tr>\n",
       "    <tr>\n",
       "      <td id=\"T_5ea30_row3_col0\" class=\"data row3 col0\" >5</td>\n",
       "      <td id=\"T_5ea30_row3_col1\" class=\"data row3 col1\" >Hiroki Yamane</td>\n",
       "      <td id=\"T_5ea30_row3_col2\" class=\"data row3 col2\" >1</td>\n",
       "    </tr>\n",
       "  </tbody>\n",
       "</table>\n"
      ],
      "text/plain": [
       "<pandas.io.formats.style.Styler at 0x19f9fa1bbb0>"
      ]
     },
     "execution_count": 21,
     "metadata": {},
     "output_type": "execute_result"
    }
   ],
   "source": [
    "# 1.1. Call the created procedure:\n",
    "\n",
    "cursor.callproc(\"getCustomersAndBillAmount\")\n",
    "results1 = next(cursor.stored_results()) # next() function returns the next item in a list (it's like \"manual for loop\")\n",
    "dataset1 = results1.fetchall()\n",
    "columns1 = results1.column_names\n",
    "\n",
    "df1 = pd.DataFrame(data=dataset1, columns=columns1)\n",
    "df1.style.hide(axis='index')"
   ]
  },
  {
   "cell_type": "code",
   "execution_count": 58,
   "metadata": {},
   "outputs": [
    {
     "name": "stdout",
     "output_type": "stream",
     "text": [
      "Procedure created...\n"
     ]
    }
   ],
   "source": [
    "# 2. Retrieve the booking ID, guest’s full name, and the bill amount of the top spender at closing.\n",
    "\n",
    "cursor.execute(\"DROP PROCEDURE IF EXISTS TopSpender;\")\n",
    "\n",
    "procedure_topSpender = \"\"\"\n",
    "CREATE PROCEDURE TopSpender()\n",
    "BEGIN\n",
    "SELECT b.bookingID, \n",
    "CONCAT(b.guestFirstName,' ',b.guestLastName) AS name,\n",
    " MAX(o.billAmount) AS bill\n",
    "FROM bookings b\n",
    "INNER JOIN orders o\n",
    "ON b.bookingID = o.bookingID;\n",
    "END\n",
    "\"\"\"\n",
    "cursor.execute(procedure_topSpender)\n",
    "print('Procedure created...')"
   ]
  },
  {
   "cell_type": "code",
   "execution_count": 59,
   "metadata": {},
   "outputs": [
    {
     "data": {
      "text/html": [
       "<style type=\"text/css\">\n",
       "</style>\n",
       "<table id=\"T_96a84\">\n",
       "  <thead>\n",
       "    <tr>\n",
       "      <th id=\"T_96a84_level0_col0\" class=\"col_heading level0 col0\" >bookingID</th>\n",
       "      <th id=\"T_96a84_level0_col1\" class=\"col_heading level0 col1\" >name</th>\n",
       "      <th id=\"T_96a84_level0_col2\" class=\"col_heading level0 col2\" >bill</th>\n",
       "    </tr>\n",
       "  </thead>\n",
       "  <tbody>\n",
       "    <tr>\n",
       "      <td id=\"T_96a84_row0_col0\" class=\"data row0 col0\" >1</td>\n",
       "      <td id=\"T_96a84_row0_col1\" class=\"data row0 col1\" >Anna Iversen</td>\n",
       "      <td id=\"T_96a84_row0_col2\" class=\"data row0 col2\" >2</td>\n",
       "    </tr>\n",
       "  </tbody>\n",
       "</table>\n"
      ],
      "text/plain": [
       "<pandas.io.formats.style.Styler at 0x19fa0b838b0>"
      ]
     },
     "execution_count": 59,
     "metadata": {},
     "output_type": "execute_result"
    }
   ],
   "source": [
    "# 2.1. Call Stored procedure:\n",
    "\n",
    "cursor.callproc(\"TopSpender\")\n",
    "results2 = next(cursor.stored_results())\n",
    "dataset2 = results2.fetchall()\n",
    "columns2 = results2.column_names\n",
    "\n",
    "df2 = pd.DataFrame(data=dataset2, columns= columns2)\n",
    "df2.style.hide(axis='index')"
   ]
  },
  {
   "cell_type": "code",
   "execution_count": 60,
   "metadata": {},
   "outputs": [
    {
     "name": "stdout",
     "output_type": "stream",
     "text": [
      "Procedure created...\n"
     ]
    }
   ],
   "source": [
    "# 3. Create a procedure that retrieve all bookings where the guests did not apper in today orders:\n",
    "\n",
    "cursor.execute(\"\"\"DROP PROCEDURE IF EXISTS NoArrival;\"\"\")\n",
    "\n",
    "query_NoArrival =\"\"\"\n",
    "CREATE PROCEDURE NoArrival()\n",
    "BEGIN\n",
    "SELECT bookingID, \n",
    "CONCAT(guestFirstName,' ',guestLastName) AS name,\n",
    "tableNo\n",
    "FROM bookings \n",
    "WHERE bookingID NOT IN (SELECT bookingID FROM orders);\n",
    "END\n",
    "\"\"\"\n",
    "cursor.execute(query_NoArrival)\n",
    "print('Procedure created...')"
   ]
  },
  {
   "cell_type": "code",
   "execution_count": 61,
   "metadata": {},
   "outputs": [
    {
     "data": {
      "text/html": [
       "<style type=\"text/css\">\n",
       "</style>\n",
       "<table id=\"T_2e1da\">\n",
       "  <thead>\n",
       "    <tr>\n",
       "      <th id=\"T_2e1da_level0_col0\" class=\"col_heading level0 col0\" >bookingID</th>\n",
       "      <th id=\"T_2e1da_level0_col1\" class=\"col_heading level0 col1\" >name</th>\n",
       "      <th id=\"T_2e1da_level0_col2\" class=\"col_heading level0 col2\" >tableNo</th>\n",
       "    </tr>\n",
       "  </thead>\n",
       "  <tbody>\n",
       "    <tr>\n",
       "      <td id=\"T_2e1da_row0_col0\" class=\"data row0 col0\" >6</td>\n",
       "      <td id=\"T_2e1da_row0_col1\" class=\"data row0 col1\" >Diana Pinto</td>\n",
       "      <td id=\"T_2e1da_row0_col2\" class=\"data row0 col2\" >10</td>\n",
       "    </tr>\n",
       "  </tbody>\n",
       "</table>\n"
      ],
      "text/plain": [
       "<pandas.io.formats.style.Styler at 0x19fa0b83eb0>"
      ]
     },
     "execution_count": 61,
     "metadata": {},
     "output_type": "execute_result"
    }
   ],
   "source": [
    "# 3.1. Call Stored procedure:\n",
    "\n",
    "cursor.callproc(\"NoArrival\")\n",
    "results3 = next(cursor.stored_results())\n",
    "dataset3 = results3.fetchall()\n",
    "columns3 = results3.column_names\n",
    "\n",
    "df3 = pd.DataFrame(data=dataset3, columns=columns3)\n",
    "df3.style.hide(axis='index')"
   ]
  },
  {
   "cell_type": "code",
   "execution_count": 55,
   "metadata": {},
   "outputs": [
    {
     "name": "stdout",
     "output_type": "stream",
     "text": [
      "Procedure created...\n"
     ]
    }
   ],
   "source": [
    "# 4. Categorize orders:\n",
    "\n",
    "\"\"\"\n",
    "This is how they categorize the orders: \n",
    "\n",
    "* If not assigned to any employee, the status is `In Queue` \n",
    "* If assigned to the employees with IDs 4 and 5, the status is `Preparing Order` \n",
    "* If assigned to the employees with IDs 1, 2, and 3, the status is `Order Served` \n",
    "\"\"\"\n",
    "\n",
    "cursor.execute(\"\"\"DROP PROCEDURE IF EXISTS OrderStatus;\"\"\")\n",
    "\n",
    "query_OrderStatus = \"\"\"\n",
    "\n",
    "CREATE PROCEDURE OrderStatus()\n",
    "\n",
    "BEGIN\n",
    "SELECT bookingID, \n",
    "CONCAT(guestFirstName,' ',guestLastName) AS name,\n",
    "CASE \n",
    "    WHEN employeeID IS NULL THEN 'In Queue'\n",
    "    WHEN employeeID IN (4,5) THEN 'Preparing Order'\n",
    "    WHEN employeeID IN (1,2,3) THEN 'Order Served'\n",
    "END AS Status\n",
    "FROM bookings;\n",
    "\n",
    "END\n",
    "\"\"\"\n",
    "\n",
    "cursor.execute(query_OrderStatus)\n",
    "print('Procedure created...')"
   ]
  },
  {
   "cell_type": "code",
   "execution_count": 57,
   "metadata": {},
   "outputs": [
    {
     "data": {
      "text/html": [
       "<style type=\"text/css\">\n",
       "</style>\n",
       "<table id=\"T_87c6f\">\n",
       "  <thead>\n",
       "    <tr>\n",
       "      <th id=\"T_87c6f_level0_col0\" class=\"col_heading level0 col0\" >bookingID</th>\n",
       "      <th id=\"T_87c6f_level0_col1\" class=\"col_heading level0 col1\" >name</th>\n",
       "      <th id=\"T_87c6f_level0_col2\" class=\"col_heading level0 col2\" >Status</th>\n",
       "    </tr>\n",
       "  </thead>\n",
       "  <tbody>\n",
       "    <tr>\n",
       "      <td id=\"T_87c6f_row0_col0\" class=\"data row0 col0\" >1</td>\n",
       "      <td id=\"T_87c6f_row0_col1\" class=\"data row0 col1\" >Anna Iversen</td>\n",
       "      <td id=\"T_87c6f_row0_col2\" class=\"data row0 col2\" >Order Served</td>\n",
       "    </tr>\n",
       "    <tr>\n",
       "      <td id=\"T_87c6f_row1_col0\" class=\"data row1 col0\" >2</td>\n",
       "      <td id=\"T_87c6f_row1_col1\" class=\"data row1 col1\" >Joakim Iversen</td>\n",
       "      <td id=\"T_87c6f_row1_col2\" class=\"data row1 col2\" >Order Served</td>\n",
       "    </tr>\n",
       "    <tr>\n",
       "      <td id=\"T_87c6f_row2_col0\" class=\"data row2 col0\" >3</td>\n",
       "      <td id=\"T_87c6f_row2_col1\" class=\"data row2 col1\" >Vanessa McCarthy</td>\n",
       "      <td id=\"T_87c6f_row2_col2\" class=\"data row2 col2\" >Order Served</td>\n",
       "    </tr>\n",
       "    <tr>\n",
       "      <td id=\"T_87c6f_row3_col0\" class=\"data row3 col0\" >5</td>\n",
       "      <td id=\"T_87c6f_row3_col1\" class=\"data row3 col1\" >Hiroki Yamane</td>\n",
       "      <td id=\"T_87c6f_row3_col2\" class=\"data row3 col2\" >Order Served</td>\n",
       "    </tr>\n",
       "    <tr>\n",
       "      <td id=\"T_87c6f_row4_col0\" class=\"data row4 col0\" >6</td>\n",
       "      <td id=\"T_87c6f_row4_col1\" class=\"data row4 col1\" >Diana Pinto</td>\n",
       "      <td id=\"T_87c6f_row4_col2\" class=\"data row4 col2\" >Preparing Order</td>\n",
       "    </tr>\n",
       "  </tbody>\n",
       "</table>\n"
      ],
      "text/plain": [
       "<pandas.io.formats.style.Styler at 0x19fa0c89720>"
      ]
     },
     "execution_count": 57,
     "metadata": {},
     "output_type": "execute_result"
    }
   ],
   "source": [
    "# 4.1. Call the created procedure:\n",
    "\n",
    "cursor.callproc('OrderStatus')\n",
    "results4 = next(cursor.stored_results())\n",
    "dataset4 = results4.fetchall()\n",
    "columns4 = results4.column_names\n",
    "\n",
    "df4 = pd.DataFrame(data=dataset4, columns=columns4)\n",
    "df4.style.hide(axis='index')"
   ]
  },
  {
   "cell_type": "code",
   "execution_count": 70,
   "metadata": {},
   "outputs": [
    {
     "name": "stdout",
     "output_type": "stream",
     "text": [
      "Procedure created...\n"
     ]
    }
   ],
   "source": [
    "# 5. Procedure with one argument:\n",
    "\n",
    "cursor.execute('DROP PROCEDURE IF EXISTS itemID_price')\n",
    "\n",
    "query_itemID_price = \"\"\"\n",
    "CREATE PROCEDURE itemID_price(IN item_id INT, OUT price INT)\n",
    "\n",
    "BEGIN\n",
    "SELECT * FROM menu_items WHERE itemID = item_id;\n",
    "END\n",
    "\"\"\"\n",
    "cursor.execute(query_itemID_price)\n",
    "print('Procedure created...')"
   ]
  },
  {
   "cell_type": "code",
   "execution_count": 74,
   "metadata": {},
   "outputs": [
    {
     "data": {
      "text/html": [
       "<style type=\"text/css\">\n",
       "</style>\n",
       "<table id=\"T_21aa5\">\n",
       "  <thead>\n",
       "    <tr>\n",
       "      <th id=\"T_21aa5_level0_col0\" class=\"col_heading level0 col0\" >itemID</th>\n",
       "      <th id=\"T_21aa5_level0_col1\" class=\"col_heading level0 col1\" >name</th>\n",
       "      <th id=\"T_21aa5_level0_col2\" class=\"col_heading level0 col2\" >type</th>\n",
       "      <th id=\"T_21aa5_level0_col3\" class=\"col_heading level0 col3\" >price</th>\n",
       "    </tr>\n",
       "  </thead>\n",
       "  <tbody>\n",
       "    <tr>\n",
       "      <td id=\"T_21aa5_row0_col0\" class=\"data row0 col0\" >2</td>\n",
       "      <td id=\"T_21aa5_row0_col1\" class=\"data row0 col1\" >Flatbread</td>\n",
       "      <td id=\"T_21aa5_row0_col2\" class=\"data row0 col2\" >Starters</td>\n",
       "      <td id=\"T_21aa5_row0_col3\" class=\"data row0 col3\" >5</td>\n",
       "    </tr>\n",
       "  </tbody>\n",
       "</table>\n"
      ],
      "text/plain": [
       "<pandas.io.formats.style.Styler at 0x19fa1e62230>"
      ]
     },
     "execution_count": 74,
     "metadata": {},
     "output_type": "execute_result"
    }
   ],
   "source": [
    "# 5.1 Call created procedure passing one argument:\n",
    "# The objective is to pass the ItemID of an item in the item_menu table and get all the information about.\n",
    "\n",
    "args = (2,0) # the 0 is to hold value of the OUT parameter but the 2 is the IN argument\n",
    "cursor.callproc('itemID_price', args)\n",
    "results5 = next(cursor.stored_results())\n",
    "dataset5 = results5.fetchall()\n",
    "columns5 = results5.column_names\n",
    "\n",
    "df5 = pd.DataFrame(data= dataset5, columns= columns5)\n",
    "df5.style.hide(axis='index')"
   ]
  }
 ],
 "metadata": {
  "kernelspec": {
   "display_name": "Python 3",
   "language": "python",
   "name": "python3"
  },
  "language_info": {
   "codemirror_mode": {
    "name": "ipython",
    "version": 3
   },
   "file_extension": ".py",
   "mimetype": "text/x-python",
   "name": "python",
   "nbconvert_exporter": "python",
   "pygments_lexer": "ipython3",
   "version": "3.10.4"
  },
  "orig_nbformat": 4,
  "vscode": {
   "interpreter": {
    "hash": "c172f04bf2abf09c84be7d053ce294f511e0ab0bd5a6805bf62779ab90bd0801"
   }
  }
 },
 "nbformat": 4,
 "nbformat_minor": 2
}
