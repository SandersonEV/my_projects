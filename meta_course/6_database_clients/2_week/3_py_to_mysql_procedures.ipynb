{
 "cells": [
  {
   "cell_type": "code",
   "execution_count": 1,
   "metadata": {},
   "outputs": [],
   "source": [
    "import mysql.connector as connector\n",
    "import pandas as pd"
   ]
  },
  {
   "cell_type": "code",
   "execution_count": 2,
   "metadata": {},
   "outputs": [
    {
     "name": "stdout",
     "output_type": "stream",
     "text": [
      "Connected...\n"
     ]
    }
   ],
   "source": [
    "try:\n",
    "    connection = connector.connect(\n",
    "    user='root',\n",
    "    password='******'\n",
    ")\n",
    "    print('Connected...')\n",
    "except connector.Error as err:\n",
    "    print('Error code: ', err.errno)\n",
    "    print('Error msg: ', err.msg)"
   ]
  },
  {
   "cell_type": "code",
   "execution_count": 3,
   "metadata": {},
   "outputs": [
    {
     "name": "stdout",
     "output_type": "stream",
     "text": [
      "Cursor created...\n"
     ]
    }
   ],
   "source": [
    "try:\n",
    "    cursor = connection.cursor()\n",
    "    print('Cursor created...')\n",
    "except:\n",
    "    print('Its not possible to create the cursor!')"
   ]
  },
  {
   "cell_type": "code",
   "execution_count": 19,
   "metadata": {},
   "outputs": [
    {
     "name": "stdout",
     "output_type": "stream",
     "text": [
      "Database in use:  meta_py_to_mysql\n"
     ]
    }
   ],
   "source": [
    "cursor.execute(\"USE meta_py_to_mysql\")\n",
    "print('Database in use: ', connection.database)"
   ]
  },
  {
   "cell_type": "code",
   "execution_count": 8,
   "metadata": {},
   "outputs": [
    {
     "name": "stdout",
     "output_type": "stream",
     "text": [
      "Procedure 'getCustomersAndBillAmount' created!\n"
     ]
    }
   ],
   "source": [
    "# 1. Create a stored procedure (without parameters) that make a join between 'bookings' and 'orders' tables to output the bill amount and the customer name:\n",
    "\n",
    "cursor.execute(\"DROP PROCEDURE IF EXISTS getCustomersAndBillAmount\") # Make sure the procedure do not exists before\n",
    "\n",
    "stored_procedure_query = \"\"\"\n",
    "CREATE PROCEDURE getCustomersAndBillAmount()\n",
    "BEGIN\n",
    "SELECT b.bookingID, \n",
    "CONCAT(b.guestFirstName, ' ', b.guestLastName) AS customerName,\n",
    "o.billAmount\n",
    "FROM bookings b INNER JOIN orders o ON b.bookingID = o.bookingID \n",
    "ORDER BY billAmount DESC;\n",
    "END\n",
    "\"\"\"\n",
    "\n",
    "cursor.execute(stored_procedure_query)\n",
    "print(\"Procedure 'getCustomersAndBillAmount' created!\")\n"
   ]
  },
  {
   "cell_type": "code",
   "execution_count": 21,
   "metadata": {},
   "outputs": [
    {
     "data": {
      "text/html": [
       "<style type=\"text/css\">\n",
       "</style>\n",
       "<table id=\"T_5ea30\">\n",
       "  <thead>\n",
       "    <tr>\n",
       "      <th id=\"T_5ea30_level0_col0\" class=\"col_heading level0 col0\" >bookingID</th>\n",
       "      <th id=\"T_5ea30_level0_col1\" class=\"col_heading level0 col1\" >customerName</th>\n",
       "      <th id=\"T_5ea30_level0_col2\" class=\"col_heading level0 col2\" >billAmount</th>\n",
       "    </tr>\n",
       "  </thead>\n",
       "  <tbody>\n",
       "    <tr>\n",
       "      <td id=\"T_5ea30_row0_col0\" class=\"data row0 col0\" >1</td>\n",
       "      <td id=\"T_5ea30_row0_col1\" class=\"data row0 col1\" >Anna Iversen</td>\n",
       "      <td id=\"T_5ea30_row0_col2\" class=\"data row0 col2\" >2</td>\n",
       "    </tr>\n",
       "    <tr>\n",
       "      <td id=\"T_5ea30_row1_col0\" class=\"data row1 col0\" >2</td>\n",
       "      <td id=\"T_5ea30_row1_col1\" class=\"data row1 col1\" >Joakim Iversen</td>\n",
       "      <td id=\"T_5ea30_row1_col2\" class=\"data row1 col2\" >1</td>\n",
       "    </tr>\n",
       "    <tr>\n",
       "      <td id=\"T_5ea30_row2_col0\" class=\"data row2 col0\" >3</td>\n",
       "      <td id=\"T_5ea30_row2_col1\" class=\"data row2 col1\" >Vanessa McCarthy</td>\n",
       "      <td id=\"T_5ea30_row2_col2\" class=\"data row2 col2\" >1</td>\n",
       "    </tr>\n",
       "    <tr>\n",
       "      <td id=\"T_5ea30_row3_col0\" class=\"data row3 col0\" >5</td>\n",
       "      <td id=\"T_5ea30_row3_col1\" class=\"data row3 col1\" >Hiroki Yamane</td>\n",
       "      <td id=\"T_5ea30_row3_col2\" class=\"data row3 col2\" >1</td>\n",
       "    </tr>\n",
       "  </tbody>\n",
       "</table>\n"
      ],
      "text/plain": [
       "<pandas.io.formats.style.Styler at 0x19f9fa1bbb0>"
      ]
     },
     "execution_count": 21,
     "metadata": {},
     "output_type": "execute_result"
    }
   ],
   "source": [
    "# 1.1. Call the created procedure:\n",
    "\n",
    "cursor.callproc(\"getCustomersAndBillAmount\")\n",
    "results1 = next(cursor.stored_results()) # next() function returns the next item in a list (it's like \"manual for loop\")\n",
    "dataset1 = results1.fetchall()\n",
    "columns1 = results1.column_names\n",
    "\n",
    "df1 = pd.DataFrame(data=dataset1, columns=columns1)\n",
    "df1.style.hide(axis='index')"
   ]
  },
  {
   "cell_type": "code",
   "execution_count": 26,
   "metadata": {},
   "outputs": [
    {
     "name": "stdout",
     "output_type": "stream",
     "text": [
      "Procedure created...\n"
     ]
    }
   ],
   "source": [
    "# 2. Retrieve the booking ID, guest’s full name, and the bill amount of the top spender at closing.\n",
    "\n",
    "cursor.execute(\"DROP PROCEDURE IF EXISTS TopSpender;\")\n",
    "\n",
    "procedure_topSpender = \"\"\"\n",
    "CREATE PROCEDURE TopSpender()\n",
    "BEGIN\n",
    "SELECT b.bookingID, CONCAT(b.guestFirstName,' ',b.guestLastName), MAX(o.billAmount) AS top_spender\n",
    "FROM bookings b\n",
    "INNER JOIN orders o\n",
    "ON b.bookingID = o.bookingID;\n",
    "END\n",
    "\"\"\"\n",
    "cursor.execute(procedure_topSpender)\n",
    "print('Procedure created...')"
   ]
  },
  {
   "cell_type": "code",
   "execution_count": 28,
   "metadata": {},
   "outputs": [
    {
     "data": {
      "text/html": [
       "<style type=\"text/css\">\n",
       "</style>\n",
       "<table id=\"T_2b1d4\">\n",
       "  <thead>\n",
       "    <tr>\n",
       "      <th id=\"T_2b1d4_level0_col0\" class=\"col_heading level0 col0\" >bookingID</th>\n",
       "      <th id=\"T_2b1d4_level0_col1\" class=\"col_heading level0 col1\" >customerName</th>\n",
       "      <th id=\"T_2b1d4_level0_col2\" class=\"col_heading level0 col2\" >billAmount</th>\n",
       "    </tr>\n",
       "  </thead>\n",
       "  <tbody>\n",
       "    <tr>\n",
       "      <td id=\"T_2b1d4_row0_col0\" class=\"data row0 col0\" >1</td>\n",
       "      <td id=\"T_2b1d4_row0_col1\" class=\"data row0 col1\" >Anna Iversen</td>\n",
       "      <td id=\"T_2b1d4_row0_col2\" class=\"data row0 col2\" >2</td>\n",
       "    </tr>\n",
       "  </tbody>\n",
       "</table>\n"
      ],
      "text/plain": [
       "<pandas.io.formats.style.Styler at 0x19f9f9fc100>"
      ]
     },
     "execution_count": 28,
     "metadata": {},
     "output_type": "execute_result"
    }
   ],
   "source": [
    "# 2.1. Call Stored procedure:\n",
    "\n",
    "cursor.callproc(\"TopSpender\")\n",
    "results2 = next(cursor.stored_results())\n",
    "dataset2 = results2.fetchall()\n",
    "columns2 = results1.column_names\n",
    "\n",
    "df2 = pd.DataFrame(data=dataset2, columns= columns2)\n",
    "df2.style.hide(axis='index')"
   ]
  }
 ],
 "metadata": {
  "kernelspec": {
   "display_name": "Python 3",
   "language": "python",
   "name": "python3"
  },
  "language_info": {
   "codemirror_mode": {
    "name": "ipython",
    "version": 3
   },
   "file_extension": ".py",
   "mimetype": "text/x-python",
   "name": "python",
   "nbconvert_exporter": "python",
   "pygments_lexer": "ipython3",
   "version": "3.10.4"
  },
  "orig_nbformat": 4,
  "vscode": {
   "interpreter": {
    "hash": "c172f04bf2abf09c84be7d053ce294f511e0ab0bd5a6805bf62779ab90bd0801"
   }
  }
 },
 "nbformat": 4,
 "nbformat_minor": 2
}
