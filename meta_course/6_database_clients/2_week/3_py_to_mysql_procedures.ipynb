{
 "cells": [
  {
   "cell_type": "code",
   "execution_count": 1,
   "metadata": {},
   "outputs": [],
   "source": [
    "import mysql.connector as connector\n",
    "import pandas as pd"
   ]
  },
  {
   "cell_type": "code",
   "execution_count": 2,
   "metadata": {},
   "outputs": [
    {
     "name": "stdout",
     "output_type": "stream",
     "text": [
      "Connected...\n"
     ]
    }
   ],
   "source": [
    "try:\n",
    "    connection = connector.connect(\n",
    "    user='root',\n",
    "    password='******'\n",
    ")\n",
    "    print('Connected...')\n",
    "except connector.Error as err:\n",
    "    print('Error code: ', err.errno)\n",
    "    print('Error msg: ', err.msg)"
   ]
  },
  {
   "cell_type": "code",
   "execution_count": 3,
   "metadata": {},
   "outputs": [
    {
     "name": "stdout",
     "output_type": "stream",
     "text": [
      "Cursor created...\n"
     ]
    }
   ],
   "source": [
    "try:\n",
    "    cursor = connection.cursor()\n",
    "    print('Cursor created...')\n",
    "except:\n",
    "    print('Its not possible to create the cursor!')"
   ]
  },
  {
   "cell_type": "code",
   "execution_count": 8,
   "metadata": {},
   "outputs": [
    {
     "name": "stdout",
     "output_type": "stream",
     "text": [
      "Procedure 'getCustomersAndBillAmount' created!\n"
     ]
    }
   ],
   "source": [
    "# Create a stored procedure (without parameters) that make a join between 'bookings' and 'orders' tables to output the bill amount and the customer name:\n",
    "\n",
    "cursor.execute(\"DROP PROCEDURE IF EXISTS getCustomersAndBillAmount\") # Make sure the procedure do not exists before\n",
    "\n",
    "stored_procedure_query = \"\"\"\n",
    "CREATE PROCEDURE getCustomersAndBillAmount()\n",
    "BEGIN\n",
    "SELECT b.bookingID, \n",
    "CONCAT(b.guestFirstName, ' ', b.guestLastName) AS customerName,\n",
    "o.billAmount\n",
    "FROM bookings b INNER JOIN orders o ON b.bookingID = o.bookingID \n",
    "ORDER BY billAmount DESC;\n",
    "END\n",
    "\"\"\"\n",
    "\n",
    "cursor.execute(stored_procedure_query)\n",
    "print(\"Procedure 'getCustomersAndBillAmount' created!\")\n"
   ]
  },
  {
   "cell_type": "code",
   "execution_count": 18,
   "metadata": {},
   "outputs": [
    {
     "data": {
      "text/html": [
       "<style type=\"text/css\">\n",
       "</style>\n",
       "<table id=\"T_3a038\">\n",
       "  <thead>\n",
       "    <tr>\n",
       "      <th id=\"T_3a038_level0_col0\" class=\"col_heading level0 col0\" >bookingID</th>\n",
       "      <th id=\"T_3a038_level0_col1\" class=\"col_heading level0 col1\" >customerName</th>\n",
       "      <th id=\"T_3a038_level0_col2\" class=\"col_heading level0 col2\" >billAmount</th>\n",
       "    </tr>\n",
       "  </thead>\n",
       "  <tbody>\n",
       "    <tr>\n",
       "      <td id=\"T_3a038_row0_col0\" class=\"data row0 col0\" >1</td>\n",
       "      <td id=\"T_3a038_row0_col1\" class=\"data row0 col1\" >Anna Iversen</td>\n",
       "      <td id=\"T_3a038_row0_col2\" class=\"data row0 col2\" >2</td>\n",
       "    </tr>\n",
       "    <tr>\n",
       "      <td id=\"T_3a038_row1_col0\" class=\"data row1 col0\" >2</td>\n",
       "      <td id=\"T_3a038_row1_col1\" class=\"data row1 col1\" >Joakim Iversen</td>\n",
       "      <td id=\"T_3a038_row1_col2\" class=\"data row1 col2\" >1</td>\n",
       "    </tr>\n",
       "    <tr>\n",
       "      <td id=\"T_3a038_row2_col0\" class=\"data row2 col0\" >3</td>\n",
       "      <td id=\"T_3a038_row2_col1\" class=\"data row2 col1\" >Vanessa McCarthy</td>\n",
       "      <td id=\"T_3a038_row2_col2\" class=\"data row2 col2\" >1</td>\n",
       "    </tr>\n",
       "    <tr>\n",
       "      <td id=\"T_3a038_row3_col0\" class=\"data row3 col0\" >5</td>\n",
       "      <td id=\"T_3a038_row3_col1\" class=\"data row3 col1\" >Hiroki Yamane</td>\n",
       "      <td id=\"T_3a038_row3_col2\" class=\"data row3 col2\" >1</td>\n",
       "    </tr>\n",
       "  </tbody>\n",
       "</table>\n"
      ],
      "text/plain": [
       "<pandas.io.formats.style.Styler at 0x19f9ead79a0>"
      ]
     },
     "execution_count": 18,
     "metadata": {},
     "output_type": "execute_result"
    }
   ],
   "source": [
    "# Call the created procedure:\n",
    "\n",
    "cursor.callproc(\"getCustomersAndBillAmount\")\n",
    "results1 = next(cursor.stored_results()) # next() function returns the next item in a list\n",
    "dataset1 = results1.fetchall()\n",
    "columns1 = results1.column_names\n",
    "\n",
    "df1 = pd.DataFrame(data=dataset1, columns=columns1)\n",
    "df1.style.hide(axis='index')"
   ]
  }
 ],
 "metadata": {
  "kernelspec": {
   "display_name": "Python 3",
   "language": "python",
   "name": "python3"
  },
  "language_info": {
   "codemirror_mode": {
    "name": "ipython",
    "version": 3
   },
   "file_extension": ".py",
   "mimetype": "text/x-python",
   "name": "python",
   "nbconvert_exporter": "python",
   "pygments_lexer": "ipython3",
   "version": "3.10.4"
  },
  "orig_nbformat": 4,
  "vscode": {
   "interpreter": {
    "hash": "c172f04bf2abf09c84be7d053ce294f511e0ab0bd5a6805bf62779ab90bd0801"
   }
  }
 },
 "nbformat": 4,
 "nbformat_minor": 2
}
