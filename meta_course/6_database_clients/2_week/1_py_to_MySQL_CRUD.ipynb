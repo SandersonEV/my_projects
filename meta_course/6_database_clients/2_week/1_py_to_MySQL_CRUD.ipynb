{
 "cells": [
  {
   "cell_type": "code",
   "execution_count": 1,
   "metadata": {},
   "outputs": [],
   "source": [
    "import mysql.connector as connector\n",
    "import pandas as pd"
   ]
  },
  {
   "cell_type": "code",
   "execution_count": 2,
   "metadata": {},
   "outputs": [
    {
     "name": "stdout",
     "output_type": "stream",
     "text": [
      "Connected...\n"
     ]
    }
   ],
   "source": [
    "try:\n",
    "\n",
    "    connection = connector.connect(\n",
    "        user = 'root',\n",
    "        password = '******')\n",
    "\n",
    "    print('Connected...')\n",
    "\n",
    "except connector.Error as err:\n",
    "    \n",
    "    print('Error code: ', err.errno)\n",
    "    print('Error message: ', err.msg)"
   ]
  },
  {
   "cell_type": "code",
   "execution_count": 3,
   "metadata": {},
   "outputs": [
    {
     "name": "stdout",
     "output_type": "stream",
     "text": [
      "Cursor ready...\n"
     ]
    }
   ],
   "source": [
    "# 2 - Create a Cursor:\n",
    "\n",
    "if connection.is_connected():\n",
    "    cursor = connection.cursor(buffered=True)\n",
    "    print('Cursor ready...')\n",
    "else:\n",
    "    print('It was not possible to create cursor as connection was not previously established...')"
   ]
  },
  {
   "cell_type": "code",
   "execution_count": 4,
   "metadata": {},
   "outputs": [
    {
     "name": "stdout",
     "output_type": "stream",
     "text": [
      "Your Database is:  meta_py_to_mysql\n"
     ]
    }
   ],
   "source": [
    "# 3 - Select database to manipualate:\n",
    "\n",
    "use_database_query = \"USE meta_py_to_mysql\"\n",
    "cursor.execute(use_database_query)\n",
    "\n",
    "print('Your Database is: ', connection.database ) # confirm the name of the database in use"
   ]
  },
  {
   "cell_type": "code",
   "execution_count": 5,
   "metadata": {},
   "outputs": [
    {
     "name": "stdout",
     "output_type": "stream",
     "text": [
      "('bookings',)\n",
      "('menu_items',)\n",
      "('menus',)\n",
      "('orders',)\n"
     ]
    }
   ],
   "source": [
    "cursor.execute(\"SHOW TABLES\")\n",
    "for table in cursor:\n",
    "    print(table)"
   ]
  },
  {
   "cell_type": "code",
   "execution_count": null,
   "metadata": {},
   "outputs": [
    {
     "data": {
      "text/html": [
       "<div>\n",
       "<style scoped>\n",
       "    .dataframe tbody tr th:only-of-type {\n",
       "        vertical-align: middle;\n",
       "    }\n",
       "\n",
       "    .dataframe tbody tr th {\n",
       "        vertical-align: top;\n",
       "    }\n",
       "\n",
       "    .dataframe thead th {\n",
       "        text-align: right;\n",
       "    }\n",
       "</style>\n",
       "<table border=\"1\" class=\"dataframe\">\n",
       "  <thead>\n",
       "    <tr style=\"text-align: right;\">\n",
       "      <th></th>\n",
       "      <th>bookingID</th>\n",
       "      <th>tableNo</th>\n",
       "      <th>guestFirstName</th>\n",
       "      <th>guestLastName</th>\n",
       "      <th>bookingSlot</th>\n",
       "      <th>employeeID</th>\n",
       "    </tr>\n",
       "  </thead>\n",
       "  <tbody>\n",
       "    <tr>\n",
       "      <th>0</th>\n",
       "      <td>1</td>\n",
       "      <td>12</td>\n",
       "      <td>Anna</td>\n",
       "      <td>Iversen</td>\n",
       "      <td>0 days 19:00:00</td>\n",
       "      <td>1</td>\n",
       "    </tr>\n",
       "    <tr>\n",
       "      <th>1</th>\n",
       "      <td>2</td>\n",
       "      <td>12</td>\n",
       "      <td>Joakim</td>\n",
       "      <td>Iversen</td>\n",
       "      <td>0 days 19:00:00</td>\n",
       "      <td>1</td>\n",
       "    </tr>\n",
       "    <tr>\n",
       "      <th>2</th>\n",
       "      <td>3</td>\n",
       "      <td>19</td>\n",
       "      <td>Vanessa</td>\n",
       "      <td>McCarthy</td>\n",
       "      <td>0 days 15:00:00</td>\n",
       "      <td>3</td>\n",
       "    </tr>\n",
       "    <tr>\n",
       "      <th>3</th>\n",
       "      <td>4</td>\n",
       "      <td>15</td>\n",
       "      <td>Marcos</td>\n",
       "      <td>Romero</td>\n",
       "      <td>0 days 17:30:00</td>\n",
       "      <td>4</td>\n",
       "    </tr>\n",
       "    <tr>\n",
       "      <th>4</th>\n",
       "      <td>5</td>\n",
       "      <td>5</td>\n",
       "      <td>Hiroki</td>\n",
       "      <td>Yamane</td>\n",
       "      <td>0 days 18:30:00</td>\n",
       "      <td>2</td>\n",
       "    </tr>\n",
       "    <tr>\n",
       "      <th>5</th>\n",
       "      <td>6</td>\n",
       "      <td>10</td>\n",
       "      <td>Diana</td>\n",
       "      <td>Pinto</td>\n",
       "      <td>0 days 20:00:00</td>\n",
       "      <td>5</td>\n",
       "    </tr>\n",
       "  </tbody>\n",
       "</table>\n",
       "</div>"
      ],
      "text/plain": [
       "   bookingID  tableNo guestFirstName guestLastName     bookingSlot  employeeID\n",
       "0          1       12           Anna       Iversen 0 days 19:00:00           1\n",
       "1          2       12         Joakim       Iversen 0 days 19:00:00           1\n",
       "2          3       19        Vanessa      McCarthy 0 days 15:00:00           3\n",
       "3          4       15         Marcos        Romero 0 days 17:30:00           4\n",
       "4          5        5         Hiroki        Yamane 0 days 18:30:00           2\n",
       "5          6       10          Diana         Pinto 0 days 20:00:00           5"
      ]
     },
     "metadata": {},
     "output_type": "display_data"
    }
   ],
   "source": [
    "# UPDATE\n",
    "update_booking = \"\"\"UPDATE bookings SET tableNo = 10 WHERE bookingID = 6\"\"\"\n",
    "cursor.execute(update_booking)\n",
    "connection.commit()\n",
    "\n",
    "# SELECT\n",
    "\n",
    "cursor.execute(\"\"\"SELECT * FROM bookings ORDER BY bookingID\"\"\")\n",
    "result_update = cursor.fetchmany(size=6)\n",
    "columns_update = cursor.column_names\n",
    "\n",
    "# Dataframe\n",
    "\n",
    "df_update = pd.DataFrame(data=result_update,columns=columns_update)\n",
    "df_update"
   ]
  },
  {
   "cell_type": "code",
   "execution_count": null,
   "metadata": {},
   "outputs": [
    {
     "data": {
      "text/html": [
       "<div>\n",
       "<style scoped>\n",
       "    .dataframe tbody tr th:only-of-type {\n",
       "        vertical-align: middle;\n",
       "    }\n",
       "\n",
       "    .dataframe tbody tr th {\n",
       "        vertical-align: top;\n",
       "    }\n",
       "\n",
       "    .dataframe thead th {\n",
       "        text-align: right;\n",
       "    }\n",
       "</style>\n",
       "<table border=\"1\" class=\"dataframe\">\n",
       "  <thead>\n",
       "    <tr style=\"text-align: right;\">\n",
       "      <th></th>\n",
       "      <th>bookingID</th>\n",
       "      <th>tableNo</th>\n",
       "      <th>guestFirstName</th>\n",
       "      <th>guestLastName</th>\n",
       "      <th>bookingSlot</th>\n",
       "      <th>employeeID</th>\n",
       "    </tr>\n",
       "  </thead>\n",
       "  <tbody>\n",
       "    <tr>\n",
       "      <th>0</th>\n",
       "      <td>1</td>\n",
       "      <td>12</td>\n",
       "      <td>Anna</td>\n",
       "      <td>Iversen</td>\n",
       "      <td>0 days 19:00:00</td>\n",
       "      <td>1</td>\n",
       "    </tr>\n",
       "    <tr>\n",
       "      <th>1</th>\n",
       "      <td>2</td>\n",
       "      <td>12</td>\n",
       "      <td>Joakim</td>\n",
       "      <td>Iversen</td>\n",
       "      <td>0 days 19:00:00</td>\n",
       "      <td>1</td>\n",
       "    </tr>\n",
       "    <tr>\n",
       "      <th>2</th>\n",
       "      <td>3</td>\n",
       "      <td>19</td>\n",
       "      <td>Vanessa</td>\n",
       "      <td>McCarthy</td>\n",
       "      <td>0 days 15:00:00</td>\n",
       "      <td>3</td>\n",
       "    </tr>\n",
       "    <tr>\n",
       "      <th>3</th>\n",
       "      <td>5</td>\n",
       "      <td>5</td>\n",
       "      <td>Hiroki</td>\n",
       "      <td>Yamane</td>\n",
       "      <td>0 days 18:30:00</td>\n",
       "      <td>2</td>\n",
       "    </tr>\n",
       "    <tr>\n",
       "      <th>4</th>\n",
       "      <td>6</td>\n",
       "      <td>10</td>\n",
       "      <td>Diana</td>\n",
       "      <td>Pinto</td>\n",
       "      <td>0 days 20:00:00</td>\n",
       "      <td>5</td>\n",
       "    </tr>\n",
       "  </tbody>\n",
       "</table>\n",
       "</div>"
      ],
      "text/plain": [
       "   bookingID  tableNo guestFirstName guestLastName     bookingSlot  employeeID\n",
       "0          1       12           Anna       Iversen 0 days 19:00:00           1\n",
       "1          2       12         Joakim       Iversen 0 days 19:00:00           1\n",
       "2          3       19        Vanessa      McCarthy 0 days 15:00:00           3\n",
       "3          5        5         Hiroki        Yamane 0 days 18:30:00           2\n",
       "4          6       10          Diana         Pinto 0 days 20:00:00           5"
      ]
     },
     "metadata": {},
     "output_type": "display_data"
    }
   ],
   "source": [
    "# DELETE\n",
    "\n",
    "delete_booking = \"\"\"DELETE FROM bookings WHERE bookingID = 4\"\"\"\n",
    "cursor.execute(delete_booking)\n",
    "connection.commit()\n",
    "\n",
    "# SELECT \n",
    "cursor.execute(\"\"\"SELECT * FROM bookings\"\"\")\n",
    "afterDelete_result = cursor.fetchall()\n",
    "afterDelete_columns = cursor.column_names\n",
    "\n",
    "# DataFrame\n",
    "\n",
    "df_afterDelete = pd.DataFrame(data=afterDelete_result, columns=afterDelete_columns)\n",
    "df_afterDelete"
   ]
  }
 ],
 "metadata": {
  "kernelspec": {
   "display_name": "Python 3",
   "language": "python",
   "name": "python3"
  },
  "language_info": {
   "codemirror_mode": {
    "name": "ipython",
    "version": 3
   },
   "file_extension": ".py",
   "mimetype": "text/x-python",
   "name": "python",
   "nbconvert_exporter": "python",
   "pygments_lexer": "ipython3",
   "version": "3.10.4"
  },
  "orig_nbformat": 4,
  "vscode": {
   "interpreter": {
    "hash": "c172f04bf2abf09c84be7d053ce294f511e0ab0bd5a6805bf62779ab90bd0801"
   }
  }
 },
 "nbformat": 4,
 "nbformat_minor": 2
}
