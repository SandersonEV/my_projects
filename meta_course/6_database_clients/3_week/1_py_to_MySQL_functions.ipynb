{
 "cells": [
  {
   "cell_type": "code",
   "execution_count": 90,
   "metadata": {},
   "outputs": [],
   "source": [
    "import mysql.connector as connector\n",
    "import pandas as pd\n",
    "import datetime as dt"
   ]
  },
  {
   "cell_type": "code",
   "execution_count": 91,
   "metadata": {},
   "outputs": [
    {
     "name": "stdout",
     "output_type": "stream",
     "text": [
      "Connected...\n"
     ]
    }
   ],
   "source": [
    "# Make a connection:\n",
    "try:\n",
    "\n",
    "    connection = connector.connect(user= 'root' , password = '******' )\n",
    "    print('Connected...')\n",
    "\n",
    "except connector.Error as err:\n",
    "\n",
    "    print('Error code: ', err.errno)\n",
    "    print('Error message: ', err.msg)"
   ]
  },
  {
   "cell_type": "code",
   "execution_count": 92,
   "metadata": {},
   "outputs": [
    {
     "name": "stdout",
     "output_type": "stream",
     "text": [
      "cursor ready...\n"
     ]
    }
   ],
   "source": [
    "# Create the cursor:\n",
    "\n",
    "if connection.is_connected():\n",
    "    cursor = connection.cursor(buffered=True)\n",
    "    print('cursor ready...')\n",
    "else:\n",
    "    print(\"It is not possible to create the cursor!\" )"
   ]
  },
  {
   "cell_type": "code",
   "execution_count": 93,
   "metadata": {},
   "outputs": [
    {
     "name": "stdout",
     "output_type": "stream",
     "text": [
      "The database is setted to:  meta_py_to_mysql\n"
     ]
    }
   ],
   "source": [
    "# Set the database to work with:\n",
    "\n",
    "cursor.execute('USE meta_py_to_mysql')\n",
    "print('The database is setted to: ', connection.database)"
   ]
  },
  {
   "cell_type": "code",
   "execution_count": 94,
   "metadata": {},
   "outputs": [
    {
     "name": "stdout",
     "output_type": "stream",
     "text": [
      "('bookings',)\n",
      "('menu_items',)\n",
      "('menus',)\n",
      "('orders',)\n"
     ]
    }
   ],
   "source": [
    "# See all the tables in the database:\n",
    "cursor.execute('SHOW TABLES')\n",
    "for i in cursor:\n",
    "    print(i)"
   ]
  },
  {
   "cell_type": "code",
   "execution_count": 8,
   "metadata": {},
   "outputs": [
    {
     "data": {
      "text/html": [
       "<div>\n",
       "<style scoped>\n",
       "    .dataframe tbody tr th:only-of-type {\n",
       "        vertical-align: middle;\n",
       "    }\n",
       "\n",
       "    .dataframe tbody tr th {\n",
       "        vertical-align: top;\n",
       "    }\n",
       "\n",
       "    .dataframe thead th {\n",
       "        text-align: right;\n",
       "    }\n",
       "</style>\n",
       "<table border=\"1\" class=\"dataframe\">\n",
       "  <thead>\n",
       "    <tr style=\"text-align: right;\">\n",
       "      <th></th>\n",
       "      <th>bookingID</th>\n",
       "      <th>tableNo</th>\n",
       "      <th>guestFirstName</th>\n",
       "      <th>guestLastName</th>\n",
       "      <th>bookingSlot</th>\n",
       "      <th>employeeID</th>\n",
       "    </tr>\n",
       "  </thead>\n",
       "  <tbody>\n",
       "    <tr>\n",
       "      <th>0</th>\n",
       "      <td>1</td>\n",
       "      <td>12</td>\n",
       "      <td>Anna</td>\n",
       "      <td>Iversen</td>\n",
       "      <td>0 days 19:00:00</td>\n",
       "      <td>1</td>\n",
       "    </tr>\n",
       "    <tr>\n",
       "      <th>1</th>\n",
       "      <td>2</td>\n",
       "      <td>12</td>\n",
       "      <td>Joakim</td>\n",
       "      <td>Iversen</td>\n",
       "      <td>0 days 19:00:00</td>\n",
       "      <td>1</td>\n",
       "    </tr>\n",
       "    <tr>\n",
       "      <th>2</th>\n",
       "      <td>3</td>\n",
       "      <td>19</td>\n",
       "      <td>Vanessa</td>\n",
       "      <td>McCarthy</td>\n",
       "      <td>0 days 15:00:00</td>\n",
       "      <td>3</td>\n",
       "    </tr>\n",
       "    <tr>\n",
       "      <th>3</th>\n",
       "      <td>5</td>\n",
       "      <td>5</td>\n",
       "      <td>Hiroki</td>\n",
       "      <td>Yamane</td>\n",
       "      <td>0 days 18:30:00</td>\n",
       "      <td>2</td>\n",
       "    </tr>\n",
       "    <tr>\n",
       "      <th>4</th>\n",
       "      <td>6</td>\n",
       "      <td>10</td>\n",
       "      <td>Diana</td>\n",
       "      <td>Pinto</td>\n",
       "      <td>0 days 20:00:00</td>\n",
       "      <td>4</td>\n",
       "    </tr>\n",
       "  </tbody>\n",
       "</table>\n",
       "</div>"
      ],
      "text/plain": [
       "   bookingID  tableNo guestFirstName guestLastName     bookingSlot  employeeID\n",
       "0          1       12           Anna       Iversen 0 days 19:00:00           1\n",
       "1          2       12         Joakim       Iversen 0 days 19:00:00           1\n",
       "2          3       19        Vanessa      McCarthy 0 days 15:00:00           3\n",
       "3          5        5         Hiroki        Yamane 0 days 18:30:00           2\n",
       "4          6       10          Diana         Pinto 0 days 20:00:00           4"
      ]
     },
     "execution_count": 8,
     "metadata": {},
     "output_type": "execute_result"
    }
   ],
   "source": [
    "# Deep look into bookings table:\n",
    "\n",
    "cursor.execute('SELECT * FROM bookings')\n",
    "result1 = cursor.fetchall()\n",
    "columns1 = cursor.column_names\n",
    "\n",
    "df1 = pd.DataFrame(data=result1, columns=columns1)\n",
    "df1"
   ]
  },
  {
   "cell_type": "code",
   "execution_count": 24,
   "metadata": {},
   "outputs": [
    {
     "name": "stdout",
     "output_type": "stream",
     "text": [
      "booking id 1 is moved from 19:00:00 to 20:00:00\n",
      "booking id 2 is moved from 19:00:00 to 20:00:00\n",
      "booking id 3 is moved from 15:00:00 to 16:00:00\n",
      "booking id 5 is moved from 18:30:00 to 19:30:00\n",
      "booking id 6 is moved from 20:00:00 to 21:00:00\n"
     ]
    }
   ],
   "source": [
    "# Get all the booking slots from database and add 1 hour to then:\n",
    "\n",
    "cursor.execute('SELECT * FROM bookings')\n",
    "\n",
    "for row in cursor: # It runs in each \n",
    "    booking_id = row[0]\n",
    "    booking_slot = row[4]\n",
    "    new_booking_slot = booking_slot + dt.timedelta(hours=1) #timedelta adds some choosed time\n",
    "    print(f'booking id {booking_id} is moved from {booking_slot} to {new_booking_slot}')"
   ]
  },
  {
   "cell_type": "code",
   "execution_count": 96,
   "metadata": {},
   "outputs": [
    {
     "name": "stdout",
     "output_type": "stream",
     "text": [
      "The guests and their booking slots are:\n",
      "\n",
      "[Table no:] 19 >> Vanessa McCarthy is expected to arrive at: 15 hrs and 0 mins\n",
      "[Table no:] 5 >> Hiroki Yamane is expected to arrive at: 18 hrs and 30 mins\n",
      "[Table no:] 12 >> Anna Iversen is expected to arrive at: 19 hrs and 0 mins\n",
      "[Table no:] 12 >> Joakim Iversen is expected to arrive at: 19 hrs and 0 mins\n",
      "[Table no:] 10 >> Diana Pinto is expected to arrive at: 20 hrs and 0 mins\n"
     ]
    }
   ],
   "source": [
    "# Convert hour from database to python and print:\n",
    "\n",
    "cursor.execute(\"\"\"SELECT \n",
    "TableNo, \n",
    "GuestFirstName, \n",
    "GuestLastName, \n",
    "BookingSlot \n",
    "FROM Bookings \n",
    "ORDER BY BookingSlot;\"\"\")\n",
    "\n",
    "results8 = cursor.fetchall()\n",
    "\n",
    "print(\"The guests and their booking slots are:\\n\")\n",
    "for result in results8: \n",
    "    time = str(result[3]) # convert from database to python string\n",
    "    hour = dt.datetime.strptime(time,'%H:%M:%S').hour # get the hour\n",
    "    minute = dt.datetime.strptime(time,'%H:%M:%S').minute # get the minute\n",
    "    print(\"[Table no:]\",result[0],\">>\",result[1],result[2], \"is expected to arrive at:\", # print\n",
    "          hour,\"hrs and\", minute, \"mins\")"
   ]
  },
  {
   "cell_type": "code",
   "execution_count": 98,
   "metadata": {},
   "outputs": [
    {
     "name": "stdout",
     "output_type": "stream",
     "text": [
      "Booking time change ALERT!!\n",
      "Booking ID: 2\n",
      "Table number: 12\n",
      "Booked slot: 19:00:00\n",
      "New arrival time: 20:00:00\n"
     ]
    }
   ],
   "source": [
    "#  Add 1 hour to the booking with ID of 2 in SQL form:\n",
    "\n",
    "cursor.execute(\"\"\"SELECT \n",
    "BookingID, \n",
    "TableNo, \n",
    "BookingSlot, \n",
    "ADDTIME(BookingSlot,\"1:00:00\") as NewTime \n",
    "FROM Bookings\n",
    "WHERE TableNo = 12 AND BookingID = 2;\"\"\")\n",
    "\n",
    "results9 = cursor.fetchall()\n",
    "\n",
    "print(\"Booking time change ALERT!!\")\n",
    "for result in results9:  \n",
    "    print(\"Booking ID:\",result[0])\n",
    "    print(\"Table number:\",result[1])\n",
    "    print(\"Booked slot:\",result[2])\n",
    "    print(\"New arrival time:\",result[3])"
   ]
  },
  {
   "cell_type": "code",
   "execution_count": 25,
   "metadata": {},
   "outputs": [
    {
     "data": {
      "text/html": [
       "<div>\n",
       "<style scoped>\n",
       "    .dataframe tbody tr th:only-of-type {\n",
       "        vertical-align: middle;\n",
       "    }\n",
       "\n",
       "    .dataframe tbody tr th {\n",
       "        vertical-align: top;\n",
       "    }\n",
       "\n",
       "    .dataframe thead th {\n",
       "        text-align: right;\n",
       "    }\n",
       "</style>\n",
       "<table border=\"1\" class=\"dataframe\">\n",
       "  <thead>\n",
       "    <tr style=\"text-align: right;\">\n",
       "      <th></th>\n",
       "      <th>orderID</th>\n",
       "      <th>tableNo</th>\n",
       "      <th>menuID</th>\n",
       "      <th>bookingID</th>\n",
       "      <th>billAmount</th>\n",
       "      <th>quantity</th>\n",
       "    </tr>\n",
       "  </thead>\n",
       "  <tbody>\n",
       "    <tr>\n",
       "      <th>0</th>\n",
       "      <td>1</td>\n",
       "      <td>12</td>\n",
       "      <td>1</td>\n",
       "      <td>1</td>\n",
       "      <td>2</td>\n",
       "      <td>86</td>\n",
       "    </tr>\n",
       "    <tr>\n",
       "      <th>1</th>\n",
       "      <td>2</td>\n",
       "      <td>19</td>\n",
       "      <td>2</td>\n",
       "      <td>2</td>\n",
       "      <td>1</td>\n",
       "      <td>37</td>\n",
       "    </tr>\n",
       "    <tr>\n",
       "      <th>2</th>\n",
       "      <td>3</td>\n",
       "      <td>15</td>\n",
       "      <td>2</td>\n",
       "      <td>3</td>\n",
       "      <td>1</td>\n",
       "      <td>37</td>\n",
       "    </tr>\n",
       "    <tr>\n",
       "      <th>3</th>\n",
       "      <td>4</td>\n",
       "      <td>5</td>\n",
       "      <td>3</td>\n",
       "      <td>4</td>\n",
       "      <td>1</td>\n",
       "      <td>40</td>\n",
       "    </tr>\n",
       "    <tr>\n",
       "      <th>4</th>\n",
       "      <td>5</td>\n",
       "      <td>8</td>\n",
       "      <td>1</td>\n",
       "      <td>5</td>\n",
       "      <td>1</td>\n",
       "      <td>43</td>\n",
       "    </tr>\n",
       "  </tbody>\n",
       "</table>\n",
       "</div>"
      ],
      "text/plain": [
       "   orderID  tableNo  menuID  bookingID  billAmount  quantity\n",
       "0        1       12       1          1           2        86\n",
       "1        2       19       2          2           1        37\n",
       "2        3       15       2          3           1        37\n",
       "3        4        5       3          4           1        40\n",
       "4        5        8       1          5           1        43"
      ]
     },
     "execution_count": 25,
     "metadata": {},
     "output_type": "execute_result"
    }
   ],
   "source": [
    "# Deep look into orders table:\n",
    "\n",
    "cursor.execute('SELECT * FROM orders')\n",
    "result2 = cursor.fetchall()\n",
    "columns2 = cursor.column_names\n",
    "\n",
    "df2 = pd.DataFrame(data=result2, columns=columns2)\n",
    "df2"
   ]
  },
  {
   "cell_type": "code",
   "execution_count": 38,
   "metadata": {},
   "outputs": [
    {
     "name": "stdout",
     "output_type": "stream",
     "text": [
      "total_sale  =  6\n"
     ]
    }
   ],
   "source": [
    "# Use of the function SUM():\n",
    "\n",
    "cursor.execute(\"\"\"SELECT SUM(billAmount) AS total_sale FROM orders \"\"\")\n",
    "result3 = cursor.fetchone()\n",
    "columns3 = cursor.column_names\n",
    "\n",
    "print(columns3[0], ' = ', result3[0])"
   ]
  },
  {
   "cell_type": "code",
   "execution_count": 68,
   "metadata": {},
   "outputs": [
    {
     "data": {
      "text/html": [
       "<style type=\"text/css\">\n",
       "</style>\n",
       "<table id=\"T_fc3b0\">\n",
       "  <thead>\n",
       "    <tr>\n",
       "      <th id=\"T_fc3b0_level0_col0\" class=\"col_heading level0 col0\" >bookingID</th>\n",
       "      <th id=\"T_fc3b0_level0_col1\" class=\"col_heading level0 col1\" >HOUR(bookingSlot)</th>\n",
       "    </tr>\n",
       "  </thead>\n",
       "  <tbody>\n",
       "    <tr>\n",
       "      <td id=\"T_fc3b0_row0_col0\" class=\"data row0 col0\" >1</td>\n",
       "      <td id=\"T_fc3b0_row0_col1\" class=\"data row0 col1\" >19</td>\n",
       "    </tr>\n",
       "    <tr>\n",
       "      <td id=\"T_fc3b0_row1_col0\" class=\"data row1 col0\" >2</td>\n",
       "      <td id=\"T_fc3b0_row1_col1\" class=\"data row1 col1\" >19</td>\n",
       "    </tr>\n",
       "    <tr>\n",
       "      <td id=\"T_fc3b0_row2_col0\" class=\"data row2 col0\" >3</td>\n",
       "      <td id=\"T_fc3b0_row2_col1\" class=\"data row2 col1\" >15</td>\n",
       "    </tr>\n",
       "    <tr>\n",
       "      <td id=\"T_fc3b0_row3_col0\" class=\"data row3 col0\" >5</td>\n",
       "      <td id=\"T_fc3b0_row3_col1\" class=\"data row3 col1\" >18</td>\n",
       "    </tr>\n",
       "    <tr>\n",
       "      <td id=\"T_fc3b0_row4_col0\" class=\"data row4 col0\" >6</td>\n",
       "      <td id=\"T_fc3b0_row4_col1\" class=\"data row4 col1\" >20</td>\n",
       "    </tr>\n",
       "  </tbody>\n",
       "</table>\n"
      ],
      "text/plain": [
       "<pandas.io.formats.style.Styler at 0x1b01d2f0b80>"
      ]
     },
     "execution_count": 68,
     "metadata": {},
     "output_type": "execute_result"
    }
   ],
   "source": [
    "# Use of the function HOUR() to extract only the hour from the bookingSlot column:\n",
    "\n",
    "cursor.execute(\"\"\"SELECT bookingID, HOUR(bookingSlot) FROM bookings\"\"\")\n",
    "result4 = cursor.fetchall()\n",
    "columns4 = cursor.column_names\n",
    "\n",
    "df3 = pd.DataFrame(data=result4, columns=columns4)\n",
    "df3.style.hide(axis='index')"
   ]
  },
  {
   "cell_type": "code",
   "execution_count": 60,
   "metadata": {},
   "outputs": [
    {
     "data": {
      "text/html": [
       "<style type=\"text/css\">\n",
       "</style>\n",
       "<table id=\"T_8d0bd\">\n",
       "  <thead>\n",
       "    <tr>\n",
       "      <th id=\"T_8d0bd_level0_col0\" class=\"col_heading level0 col0\" >bookingID</th>\n",
       "      <th id=\"T_8d0bd_level0_col1\" class=\"col_heading level0 col1\" >name</th>\n",
       "    </tr>\n",
       "  </thead>\n",
       "  <tbody>\n",
       "    <tr>\n",
       "      <td id=\"T_8d0bd_row0_col0\" class=\"data row0 col0\" >1</td>\n",
       "      <td id=\"T_8d0bd_row0_col1\" class=\"data row0 col1\" >ANNA IVERSEN</td>\n",
       "    </tr>\n",
       "    <tr>\n",
       "      <td id=\"T_8d0bd_row1_col0\" class=\"data row1 col0\" >2</td>\n",
       "      <td id=\"T_8d0bd_row1_col1\" class=\"data row1 col1\" >JOAKIM IVERSEN</td>\n",
       "    </tr>\n",
       "    <tr>\n",
       "      <td id=\"T_8d0bd_row2_col0\" class=\"data row2 col0\" >3</td>\n",
       "      <td id=\"T_8d0bd_row2_col1\" class=\"data row2 col1\" >VANESSA MCCARTHY</td>\n",
       "    </tr>\n",
       "    <tr>\n",
       "      <td id=\"T_8d0bd_row3_col0\" class=\"data row3 col0\" >5</td>\n",
       "      <td id=\"T_8d0bd_row3_col1\" class=\"data row3 col1\" >HIROKI YAMANE</td>\n",
       "    </tr>\n",
       "    <tr>\n",
       "      <td id=\"T_8d0bd_row4_col0\" class=\"data row4 col0\" >6</td>\n",
       "      <td id=\"T_8d0bd_row4_col1\" class=\"data row4 col1\" >DIANA PINTO</td>\n",
       "    </tr>\n",
       "  </tbody>\n",
       "</table>\n"
      ],
      "text/plain": [
       "<pandas.io.formats.style.Styler at 0x1b01cc74340>"
      ]
     },
     "execution_count": 60,
     "metadata": {},
     "output_type": "execute_result"
    }
   ],
   "source": [
    "# Use upper() and concat() to get the guests complete name in uppercase:\n",
    "\n",
    "cursor.execute(\"\"\"SELECT bookingID, UPPER(CONCAT(guestFirstName,' ' ,guestLastName)) AS name FROM bookings\"\"\")\n",
    "result5 = cursor.fetchall()\n",
    "columns5 = cursor.column_names\n",
    "\n",
    "df4 = pd.DataFrame(data=result5, columns=columns5)\n",
    "df4.style.hide(axis='index')"
   ]
  },
  {
   "cell_type": "code",
   "execution_count": 74,
   "metadata": {},
   "outputs": [
    {
     "name": "stdout",
     "output_type": "stream",
     "text": [
      "Today statistics:\n",
      "Number of bookings:  5\n",
      "Total sale:  6\n",
      "Average sale:  1.2000\n"
     ]
    }
   ],
   "source": [
    "# Varios outputs in the same dataframe\n",
    "\"\"\"\n",
    "- Number of bookings\n",
    "- Total sale\n",
    "- Average sale\n",
    "\"\"\"\n",
    "cursor.execute(\"\"\"SELECT COUNT(*) AS n_bookings FROM bookings\"\"\")\n",
    "n_bookings = cursor.fetchone()\n",
    "\n",
    "cursor.execute(\"\"\"SELECT SUM(billAmount) FROM orders\"\"\")\n",
    "total_sale = cursor.fetchone()\n",
    "\n",
    "cursor.execute(\"\"\"SELECT AVG(billAmount) FROM orders\"\"\")\n",
    "avg_sale = cursor.fetchone()\n",
    "\n",
    "print('Today statistics:')\n",
    "print('Number of bookings: ',n_bookings[0])\n",
    "print('Total sale: ', total_sale[0])\n",
    "print('Average sale: ', avg_sale[0])"
   ]
  },
  {
   "cell_type": "code",
   "execution_count": 83,
   "metadata": {},
   "outputs": [
    {
     "name": "stdout",
     "output_type": "stream",
     "text": [
      "Today statistics:\n",
      "Number of bookings:  5\n",
      "Total sale:  6\n",
      "Average sale:  1.2000\n"
     ]
    }
   ],
   "source": [
    "# Varios outputs in the same dataframe:\n",
    "\"\"\"\n",
    "- Number of bookings\n",
    "- Total sale\n",
    "- Average sale\n",
    "\"\"\"\n",
    "cursor.execute(\"\"\"SELECT \n",
    "COUNT(bookingID) AS n_bookings,\n",
    "SUM(billAmount) AS total_sale,\n",
    "AVG(billAmount) AS avg_sale\n",
    "FROM orders;\"\"\")\n",
    "\n",
    "results = cursor.fetchall()[0]\n",
    "\n",
    "print('Today statistics:')\n",
    "print('Number of bookings: ',results[0])   \n",
    "print('Total sale: ', results[1])\n",
    "print('Average sale: ', results[2])"
   ]
  },
  {
   "cell_type": "code",
   "execution_count": 87,
   "metadata": {},
   "outputs": [
    {
     "data": {
      "text/html": [
       "<style type=\"text/css\">\n",
       "</style>\n",
       "<table id=\"T_7ede6\">\n",
       "  <thead>\n",
       "    <tr>\n",
       "      <th id=\"T_7ede6_level0_col0\" class=\"col_heading level0 col0\" >table_number</th>\n",
       "      <th id=\"T_7ede6_level0_col1\" class=\"col_heading level0 col1\" >n_bookings</th>\n",
       "    </tr>\n",
       "  </thead>\n",
       "  <tbody>\n",
       "    <tr>\n",
       "      <td id=\"T_7ede6_row0_col0\" class=\"data row0 col0\" >12</td>\n",
       "      <td id=\"T_7ede6_row0_col1\" class=\"data row0 col1\" >2</td>\n",
       "    </tr>\n",
       "    <tr>\n",
       "      <td id=\"T_7ede6_row1_col0\" class=\"data row1 col0\" >19</td>\n",
       "      <td id=\"T_7ede6_row1_col1\" class=\"data row1 col1\" >1</td>\n",
       "    </tr>\n",
       "    <tr>\n",
       "      <td id=\"T_7ede6_row2_col0\" class=\"data row2 col0\" >5</td>\n",
       "      <td id=\"T_7ede6_row2_col1\" class=\"data row2 col1\" >1</td>\n",
       "    </tr>\n",
       "    <tr>\n",
       "      <td id=\"T_7ede6_row3_col0\" class=\"data row3 col0\" >10</td>\n",
       "      <td id=\"T_7ede6_row3_col1\" class=\"data row3 col1\" >1</td>\n",
       "    </tr>\n",
       "  </tbody>\n",
       "</table>\n"
      ],
      "text/plain": [
       "<pandas.io.formats.style.Styler at 0x1b01d50b430>"
      ]
     },
     "execution_count": 87,
     "metadata": {},
     "output_type": "execute_result"
    }
   ],
   "source": [
    "# Count the number of bookings for each table:\n",
    "\n",
    "cursor.execute(\"\"\"SELECT tableNo AS 'table_number',\n",
    "COUNT(tableNo) AS 'n_bookings' \n",
    "FROM bookings \n",
    "GROUP BY tableNo \n",
    "ORDER BY n_bookings DESC;\"\"\")\n",
    "\n",
    "result6 = cursor.fetchall()\n",
    "columns6 = cursor.column_names\n",
    "\n",
    "df6 = pd.DataFrame(data=result6, columns=columns6)\n",
    "df6.style.hide(axis='index')"
   ]
  },
  {
   "cell_type": "code",
   "execution_count": 88,
   "metadata": {},
   "outputs": [
    {
     "data": {
      "text/html": [
       "<style type=\"text/css\">\n",
       "</style>\n",
       "<table id=\"T_5c750\">\n",
       "  <thead>\n",
       "    <tr>\n",
       "      <th id=\"T_5c750_level0_col0\" class=\"col_heading level0 col0\" >BookingID</th>\n",
       "      <th id=\"T_5c750_level0_col1\" class=\"col_heading level0 col1\" >Guest_Name</th>\n",
       "      <th id=\"T_5c750_level0_col2\" class=\"col_heading level0 col2\" >Arrival_slot</th>\n",
       "    </tr>\n",
       "  </thead>\n",
       "  <tbody>\n",
       "    <tr>\n",
       "      <td id=\"T_5c750_row0_col0\" class=\"data row0 col0\" >1</td>\n",
       "      <td id=\"T_5c750_row0_col1\" class=\"data row0 col1\" >Anna Iversen</td>\n",
       "      <td id=\"T_5c750_row0_col2\" class=\"data row0 col2\" >Night</td>\n",
       "    </tr>\n",
       "    <tr>\n",
       "      <td id=\"T_5c750_row1_col0\" class=\"data row1 col0\" >2</td>\n",
       "      <td id=\"T_5c750_row1_col1\" class=\"data row1 col1\" >Joakim Iversen</td>\n",
       "      <td id=\"T_5c750_row1_col2\" class=\"data row1 col2\" >Night</td>\n",
       "    </tr>\n",
       "    <tr>\n",
       "      <td id=\"T_5c750_row2_col0\" class=\"data row2 col0\" >3</td>\n",
       "      <td id=\"T_5c750_row2_col1\" class=\"data row2 col1\" >Vanessa McCarthy</td>\n",
       "      <td id=\"T_5c750_row2_col2\" class=\"data row2 col2\" >Late afternoon</td>\n",
       "    </tr>\n",
       "    <tr>\n",
       "      <td id=\"T_5c750_row3_col0\" class=\"data row3 col0\" >5</td>\n",
       "      <td id=\"T_5c750_row3_col1\" class=\"data row3 col1\" >Hiroki Yamane</td>\n",
       "      <td id=\"T_5c750_row3_col2\" class=\"data row3 col2\" >Evening</td>\n",
       "    </tr>\n",
       "    <tr>\n",
       "      <td id=\"T_5c750_row4_col0\" class=\"data row4 col0\" >6</td>\n",
       "      <td id=\"T_5c750_row4_col1\" class=\"data row4 col1\" >Diana Pinto</td>\n",
       "      <td id=\"T_5c750_row4_col2\" class=\"data row4 col2\" >Night</td>\n",
       "    </tr>\n",
       "  </tbody>\n",
       "</table>\n"
      ],
      "text/plain": [
       "<pandas.io.formats.style.Styler at 0x1b01d65e830>"
      ]
     },
     "execution_count": 88,
     "metadata": {},
     "output_type": "execute_result"
    }
   ],
   "source": [
    "'''\n",
    "Modify the table bookings replacing the booking slot time with:\n",
    "\n",
    "* Late afternoon: for hours 15 and 16  \n",
    "* Evening: for hours 17 and 18 \n",
    "* Night: for hours 19 and 20 \n",
    "\n",
    "'''\n",
    "\n",
    "sql_query=\"\"\"\n",
    "SELECT\n",
    "BookingID,\n",
    "CONCAT(GuestFirstName,' ',GuestLastName) AS Guest_Name,\n",
    "\n",
    "CASE\n",
    "WHEN HOUR(BookingSlot) IN (15,16) THEN \"Late afternoon\" \n",
    "WHEN HOUR(BookingSlot) IN (17,18) THEN \"Evening\" \n",
    "WHEN HOUR(BookingSlot) IN (19,20) THEN \"Night\"\n",
    "ELSE \"Time not available\" \n",
    "END AS Arrival_slot\n",
    "\n",
    "FROM Bookings;\"\"\"\n",
    "\n",
    "cursor.execute(sql_query)\n",
    "result7 = cursor.fetchall()\n",
    "columns7 = cursor.column_names\n",
    "\n",
    "df7 = pd.DataFrame(data=result7,columns=columns7)\n",
    "df7.style.hide(axis='index')"
   ]
  },
  {
   "cell_type": "code",
   "execution_count": 89,
   "metadata": {},
   "outputs": [
    {
     "name": "stdout",
     "output_type": "stream",
     "text": [
      "Cursor closed...\n",
      "Disconnected...\n"
     ]
    }
   ],
   "source": [
    "# Close the connection:\n",
    "\n",
    "if connection.is_connected():\n",
    "    cursor.close()\n",
    "    print('Cursor closed...')\n",
    "    connection.close()\n",
    "    print('Disconnected...')\n",
    "else:\n",
    "    print('Already disconnected')"
   ]
  }
 ],
 "metadata": {
  "kernelspec": {
   "display_name": "Python 3",
   "language": "python",
   "name": "python3"
  },
  "language_info": {
   "codemirror_mode": {
    "name": "ipython",
    "version": 3
   },
   "file_extension": ".py",
   "mimetype": "text/x-python",
   "name": "python",
   "nbconvert_exporter": "python",
   "pygments_lexer": "ipython3",
   "version": "3.10.4"
  },
  "orig_nbformat": 4,
  "vscode": {
   "interpreter": {
    "hash": "c172f04bf2abf09c84be7d053ce294f511e0ab0bd5a6805bf62779ab90bd0801"
   }
  }
 },
 "nbformat": 4,
 "nbformat_minor": 2
}
