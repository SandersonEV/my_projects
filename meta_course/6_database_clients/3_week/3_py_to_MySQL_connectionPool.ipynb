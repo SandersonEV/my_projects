{
 "cells": [
  {
   "cell_type": "code",
   "execution_count": 17,
   "metadata": {},
   "outputs": [],
   "source": [
    "from mysql.connector.pooling import MySQLConnectionPool\n",
    "from mysql.connector import Error\n",
    "import mysql.connector as connector\n",
    "import pandas as pd"
   ]
  },
  {
   "cell_type": "code",
   "execution_count": 18,
   "metadata": {},
   "outputs": [
    {
     "name": "stdout",
     "output_type": "stream",
     "text": [
      "The connection pool is created with a name:  meta_py_to_mysql_pool\n",
      "The pool size is:  3\n"
     ]
    }
   ],
   "source": [
    "# Creating a connection pool:\n",
    "\n",
    "dbconfig = {\n",
    "    \"database\" : \"meta_py_to_mysql\", \n",
    "    \"user\" : \"root\",\n",
    "    \"password\" : \"******\"\n",
    "}\n",
    "\n",
    "try:\n",
    "    pool = MySQLConnectionPool(\n",
    "    pool_name= 'meta_py_to_mysql_pool',\n",
    "    pool_size=3, # the default value is 5\n",
    "    **dbconfig\n",
    "    )\n",
    "    print('The connection pool is created with a name: ', pool.pool_name)\n",
    "    print('The pool size is: ', pool.pool_size)\n",
    "    \n",
    "except Error as err:\n",
    "    print('Error code: ', err.errno)\n",
    "    print('Error message: ', err.msg)"
   ]
  },
  {
   "cell_type": "code",
   "execution_count": 19,
   "metadata": {},
   "outputs": [
    {
     "name": "stdout",
     "output_type": "stream",
     "text": [
      "Getting a connection from the pool.\n"
     ]
    }
   ],
   "source": [
    "# Get the connection from the connection pool \"pool\"\n",
    "\n",
    "print(\"Getting a connection from the pool.\")\n",
    "connection1 = pool.get_connection()"
   ]
  },
  {
   "cell_type": "code",
   "execution_count": 20,
   "metadata": {},
   "outputs": [
    {
     "name": "stdout",
     "output_type": "stream",
     "text": [
      "A user with connection id 43 is connected to the database.\n"
     ]
    }
   ],
   "source": [
    "# Get the ID of the user connection in the pool:\n",
    "\n",
    "print(f\"A user with connection id {connection1.connection_id} is connected to the database.\")"
   ]
  },
  {
   "cell_type": "code",
   "execution_count": 21,
   "metadata": {},
   "outputs": [
    {
     "name": "stdout",
     "output_type": "stream",
     "text": [
      "MySQL server version is: 8.0.28\n"
     ]
    }
   ],
   "source": [
    "# Get the info about the database server:\n",
    "\n",
    "db_Info = connection1.get_server_info()\n",
    "print(\"MySQL server version is:\", db_Info)"
   ]
  },
  {
   "cell_type": "code",
   "execution_count": 22,
   "metadata": {},
   "outputs": [
    {
     "name": "stdout",
     "output_type": "stream",
     "text": [
      "Creating a cursor object.\n"
     ]
    }
   ],
   "source": [
    "# Create a cursor using the connection1 trought the pool:\n",
    "\n",
    "print(\"Creating a cursor object.\")\n",
    "cursor = connection1.cursor()"
   ]
  },
  {
   "cell_type": "code",
   "execution_count": 25,
   "metadata": {},
   "outputs": [
    {
     "data": {
      "text/html": [
       "<style type=\"text/css\">\n",
       "</style>\n",
       "<table id=\"T_e10e8\">\n",
       "  <thead>\n",
       "    <tr>\n",
       "      <th id=\"T_e10e8_level0_col0\" class=\"col_heading level0 col0\" >BookingId</th>\n",
       "      <th id=\"T_e10e8_level0_col1\" class=\"col_heading level0 col1\" >name</th>\n",
       "    </tr>\n",
       "  </thead>\n",
       "  <tbody>\n",
       "    <tr>\n",
       "      <td id=\"T_e10e8_row0_col0\" class=\"data row0 col0\" >1</td>\n",
       "      <td id=\"T_e10e8_row0_col1\" class=\"data row0 col1\" >Anna Iversen</td>\n",
       "    </tr>\n",
       "    <tr>\n",
       "      <td id=\"T_e10e8_row1_col0\" class=\"data row1 col0\" >2</td>\n",
       "      <td id=\"T_e10e8_row1_col1\" class=\"data row1 col1\" >Joakim Iversen</td>\n",
       "    </tr>\n",
       "    <tr>\n",
       "      <td id=\"T_e10e8_row2_col0\" class=\"data row2 col0\" >3</td>\n",
       "      <td id=\"T_e10e8_row2_col1\" class=\"data row2 col1\" >Vanessa McCarthy</td>\n",
       "    </tr>\n",
       "    <tr>\n",
       "      <td id=\"T_e10e8_row3_col0\" class=\"data row3 col0\" >5</td>\n",
       "      <td id=\"T_e10e8_row3_col1\" class=\"data row3 col1\" >Hiroki Yamane</td>\n",
       "    </tr>\n",
       "    <tr>\n",
       "      <td id=\"T_e10e8_row4_col0\" class=\"data row4 col0\" >6</td>\n",
       "      <td id=\"T_e10e8_row4_col1\" class=\"data row4 col1\" >Diana Pinto</td>\n",
       "    </tr>\n",
       "  </tbody>\n",
       "</table>\n"
      ],
      "text/plain": [
       "<pandas.io.formats.style.Styler at 0x253e70bbf40>"
      ]
     },
     "execution_count": 25,
     "metadata": {},
     "output_type": "execute_result"
    }
   ],
   "source": [
    "# Input a query and create a dataframe with the results to see the upcoming bookings:\n",
    "\n",
    "sql_query = \"SELECT BookingId, CONCAT(GuestFirstName, ' ',GuestLastName) name FROM Bookings;\"\n",
    "cursor.execute(sql_query)\n",
    "results1 = cursor.fetchall()\n",
    "columns1 = cursor.column_names\n",
    "\n",
    "df1 = pd.DataFrame(data=results1, columns=columns1)\n",
    "df1.style.hide(axis='index')"
   ]
  },
  {
   "cell_type": "code",
   "execution_count": 26,
   "metadata": {},
   "outputs": [
    {
     "name": "stdout",
     "output_type": "stream",
     "text": [
      "The connection is placed back into the pool for the next user to connect.\n"
     ]
    }
   ],
   "source": [
    "# Put the connection back to the pool:\n",
    "    \n",
    "connection1.close()\n",
    "print(\"The connection is placed back into the pool for the next user to connect.\")"
   ]
  }
 ],
 "metadata": {
  "kernelspec": {
   "display_name": "Python 3",
   "language": "python",
   "name": "python3"
  },
  "language_info": {
   "codemirror_mode": {
    "name": "ipython",
    "version": 3
   },
   "file_extension": ".py",
   "mimetype": "text/x-python",
   "name": "python",
   "nbconvert_exporter": "python",
   "pygments_lexer": "ipython3",
   "version": "3.10.4"
  },
  "orig_nbformat": 4,
  "vscode": {
   "interpreter": {
    "hash": "c172f04bf2abf09c84be7d053ce294f511e0ab0bd5a6805bf62779ab90bd0801"
   }
  }
 },
 "nbformat": 4,
 "nbformat_minor": 2
}
