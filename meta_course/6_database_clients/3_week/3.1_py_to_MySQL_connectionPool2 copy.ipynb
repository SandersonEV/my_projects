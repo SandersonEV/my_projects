{
 "cells": [
  {
   "cell_type": "code",
   "execution_count": 1,
   "metadata": {},
   "outputs": [],
   "source": [
    "from mysql.connector.pooling import MySQLConnectionPool\n",
    "from mysql.connector import Error\n",
    "import mysql.connector as connector"
   ]
  },
  {
   "cell_type": "code",
   "execution_count": 4,
   "metadata": {},
   "outputs": [
    {
     "name": "stdout",
     "output_type": "stream",
     "text": [
      "The connection pool is created with a name:  meta_py_to_mysql_pool\n",
      "The pool size is:  3\n"
     ]
    }
   ],
   "source": [
    "# Creating a connection pool:\n",
    "\n",
    "dbconfig = {\n",
    "    \"database\" : \"meta_py_to_mysql\", \n",
    "    \"user\" : \"root\",\n",
    "    \"password\" : \"******\"\n",
    "}\n",
    "\n",
    "try:\n",
    "    pool = MySQLConnectionPool(\n",
    "    pool_name= 'meta_py_to_mysql_pool',\n",
    "    pool_size=3, \n",
    "    **dbconfig\n",
    "    )\n",
    "    print('The connection pool is created with a name: ', pool.pool_name)\n",
    "    print('The pool size is: ', pool.pool_size)\n",
    "    \n",
    "except Error as err:\n",
    "    print('Error code: ', err.errno)\n",
    "    print('Error message: ', err.msg)"
   ]
  },
  {
   "cell_type": "code",
   "execution_count": 2,
   "metadata": {},
   "outputs": [],
   "source": [
    "# List of the guests who want to connect to the database\n",
    "\n",
    "guests = [\"Anna\", \"Marcos\", \"Diana\", \"Joakim\", \"Hiroki\"]"
   ]
  },
  {
   "cell_type": "code",
   "execution_count": 5,
   "metadata": {},
   "outputs": [
    {
     "name": "stdout",
     "output_type": "stream",
     "text": [
      "[Anna] is connected.\n",
      "\n",
      "[Marcos] is connected.\n",
      "\n",
      "[Diana] is connected.\n",
      "\n",
      "No more connections are available.\n",
      "Adding new connection in the pool.\n",
      "A new connection is added in the pool.\n",
      "\n",
      "[Joakim] is connected.\n",
      "\n",
      "No more connections are available.\n",
      "Adding new connection in the pool.\n",
      "A new connection is added in the pool.\n",
      "\n",
      "[Hiroki] is connected.\n",
      "\n"
     ]
    }
   ],
   "source": [
    "# Assign connection to each user\n",
    "# If the pool_size is less then needed We should add_connection.\n",
    "\n",
    "for guest in guests:\n",
    "    try:\n",
    "        guest_connected = pool.get_connection()\n",
    "        print(\"[{}] is connected.\\n\".format(guest))\n",
    "    except:\n",
    "        print(\"No more connections are available.\")\n",
    "        print(\"Adding new connection in the pool.\")\n",
    "        \n",
    "        # Create a connection\n",
    "        connection=connector.connect(user=\"root\",password=\"******\")\n",
    "        # Add the connection into the pool\n",
    "        pool.add_connection(cnx=connection)\n",
    "        print(\"A new connection is added in the pool.\\n\")\n",
    "        \n",
    "        user_connected = pool.get_connection()\n",
    "        print(\"[{}] is connected.\\n\".format(guest))"
   ]
  }
 ],
 "metadata": {
  "kernelspec": {
   "display_name": "Python 3",
   "language": "python",
   "name": "python3"
  },
  "language_info": {
   "codemirror_mode": {
    "name": "ipython",
    "version": 3
   },
   "file_extension": ".py",
   "mimetype": "text/x-python",
   "name": "python",
   "nbconvert_exporter": "python",
   "pygments_lexer": "ipython3",
   "version": "3.10.4"
  },
  "orig_nbformat": 4,
  "vscode": {
   "interpreter": {
    "hash": "c172f04bf2abf09c84be7d053ce294f511e0ab0bd5a6805bf62779ab90bd0801"
   }
  }
 },
 "nbformat": 4,
 "nbformat_minor": 2
}
