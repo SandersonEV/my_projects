{
 "cells": [
  {
   "attachments": {},
   "cell_type": "markdown",
   "metadata": {},
   "source": [
    "Exercise 2: Implement and query stored procedures"
   ]
  },
  {
   "cell_type": "code",
   "execution_count": 1,
   "metadata": {},
   "outputs": [],
   "source": [
    "from mysql.connector.pooling import MySQLConnectionPool\n",
    "from mysql.connector import Error\n",
    "import pandas as pd"
   ]
  },
  {
   "attachments": {},
   "cell_type": "markdown",
   "metadata": {},
   "source": [
    "Task 1: Establish a connection "
   ]
  },
  {
   "cell_type": "code",
   "execution_count": 2,
   "metadata": {},
   "outputs": [
    {
     "name": "stdout",
     "output_type": "stream",
     "text": [
      "The connection pool is created with a name:  pool_a\n",
      "The pool size is:  2\n"
     ]
    }
   ],
   "source": [
    "# Task 1:\n",
    "\n",
    "dbconfig = {\n",
    "    'user': 'root',\n",
    "    'password': '******',\n",
    "    'database' :'meta_pytomysql_test'\n",
    "    }\n",
    "\n",
    "try:\n",
    "    pool = MySQLConnectionPool(\n",
    "        pool_name= 'pool_a',\n",
    "        pool_size= 2,\n",
    "        **dbconfig\n",
    "        )\n",
    "    print('The connection pool is created with a name: ', pool.pool_name)\n",
    "    print('The pool size is: ', pool.pool_size)\n",
    "    \n",
    "except Error as err:\n",
    "    print('Error code: ', err.errno)\n",
    "    print('Error message: ', err.msg)"
   ]
  },
  {
   "cell_type": "code",
   "execution_count": 3,
   "metadata": {},
   "outputs": [
    {
     "name": "stdout",
     "output_type": "stream",
     "text": [
      "Connection estabilished. 156 is the user ID of the connection.\n"
     ]
    }
   ],
   "source": [
    "# Task 1.1: Insert a new user and establish a new connection:\n",
    "\n",
    "connection1 = pool.get_connection()\n",
    "print(f'Connection estabilished. {connection1.connection_id} is the user ID of the connection.')"
   ]
  },
  {
   "cell_type": "code",
   "execution_count": 4,
   "metadata": {},
   "outputs": [
    {
     "name": "stdout",
     "output_type": "stream",
     "text": [
      "Cursor created.\n"
     ]
    }
   ],
   "source": [
    "# Task 1.2: Create cursor using the new connection:\n",
    "\n",
    "try:\n",
    "    cursor1 = connection1.cursor()\n",
    "    print('Cursor created.')\n",
    "except:\n",
    "    print('Not possible to create tehe cursor')"
   ]
  },
  {
   "attachments": {},
   "cell_type": "markdown",
   "metadata": {},
   "source": [
    "Task 2: Implement a stored procedure called PeakHours"
   ]
  },
  {
   "cell_type": "code",
   "execution_count": 5,
   "metadata": {},
   "outputs": [
    {
     "name": "stdout",
     "output_type": "stream",
     "text": [
      "Procedure created.\n"
     ]
    }
   ],
   "source": [
    "# Task 2: Create and call a stored procedure named PeakHours that identifies the peak, or busiest hour, for the restaurant based on the number of bookings.\n",
    "\n",
    "cursor1.execute(\"DROP PROCEDURE IF EXISTS peakhours\")\n",
    "\n",
    "query_peakhours = \"\"\"\n",
    "CREATE PROCEDURE peakhours()\n",
    "BEGIN\n",
    "SELECT COUNT(*)  AS 'Quantity', HOUR(bookingSlot) AS 'Hour' \n",
    "FROM bookings \n",
    "GROUP BY Hour \n",
    "ORDER BY Quantity DESC;\n",
    "END\n",
    "\"\"\"\n",
    "cursor1.execute(query_peakhours)\n",
    "print('Procedure created.')"
   ]
  },
  {
   "cell_type": "code",
   "execution_count": 6,
   "metadata": {},
   "outputs": [
    {
     "data": {
      "text/html": [
       "<style type=\"text/css\">\n",
       "</style>\n",
       "<table id=\"T_9cd7f\">\n",
       "  <thead>\n",
       "    <tr>\n",
       "      <th id=\"T_9cd7f_level0_col0\" class=\"col_heading level0 col0\" >Quantity</th>\n",
       "      <th id=\"T_9cd7f_level0_col1\" class=\"col_heading level0 col1\" >Hour</th>\n",
       "    </tr>\n",
       "  </thead>\n",
       "  <tbody>\n",
       "    <tr>\n",
       "      <td id=\"T_9cd7f_row0_col0\" class=\"data row0 col0\" >2</td>\n",
       "      <td id=\"T_9cd7f_row0_col1\" class=\"data row0 col1\" >19</td>\n",
       "    </tr>\n",
       "    <tr>\n",
       "      <td id=\"T_9cd7f_row1_col0\" class=\"data row1 col0\" >1</td>\n",
       "      <td id=\"T_9cd7f_row1_col1\" class=\"data row1 col1\" >15</td>\n",
       "    </tr>\n",
       "    <tr>\n",
       "      <td id=\"T_9cd7f_row2_col0\" class=\"data row2 col0\" >1</td>\n",
       "      <td id=\"T_9cd7f_row2_col1\" class=\"data row2 col1\" >17</td>\n",
       "    </tr>\n",
       "    <tr>\n",
       "      <td id=\"T_9cd7f_row3_col0\" class=\"data row3 col0\" >1</td>\n",
       "      <td id=\"T_9cd7f_row3_col1\" class=\"data row3 col1\" >18</td>\n",
       "    </tr>\n",
       "    <tr>\n",
       "      <td id=\"T_9cd7f_row4_col0\" class=\"data row4 col0\" >1</td>\n",
       "      <td id=\"T_9cd7f_row4_col1\" class=\"data row4 col1\" >20</td>\n",
       "    </tr>\n",
       "  </tbody>\n",
       "</table>\n"
      ],
      "text/plain": [
       "<pandas.io.formats.style.Styler at 0x20c0e0ffa30>"
      ]
     },
     "execution_count": 6,
     "metadata": {},
     "output_type": "execute_result"
    }
   ],
   "source": [
    "# Task 2.1: Call and create a dataframe for the created procedure:\n",
    "\n",
    "cursor1.callproc('peakhours')\n",
    "results1 = next(cursor1.stored_results())\n",
    "dataset1 = results1.fetchall()\n",
    "columns1 = results1.column_names\n",
    "\n",
    "df1 = pd.DataFrame(data=dataset1, columns=columns1)\n",
    "df1.style.hide(axis='index')"
   ]
  },
  {
   "attachments": {},
   "cell_type": "markdown",
   "metadata": {},
   "source": [
    "Task 3: Implement a stored procedure GuestStatus"
   ]
  },
  {
   "cell_type": "code",
   "execution_count": 7,
   "metadata": {},
   "outputs": [
    {
     "name": "stdout",
     "output_type": "stream",
     "text": [
      "Procedure created.\n"
     ]
    }
   ],
   "source": [
    "# Task 3: Create and call a stored procedure named GuestStatus that outputs status of each guest’s order based on which employee is assigned to the order.\n",
    "\"\"\"\n",
    "If the Role in the Employee table is Manager or Assistant Manager then the guest's order status is Ready to pay\n",
    "\n",
    "If the Role in the Employee table is Head Chef then the status is Ready to serve\n",
    "\n",
    "If the Role in the Employee table is Assistant Chef then the status is Preparing Order\n",
    "\n",
    "If the Role in the Employee table is Head Waiter then the status is Order served\n",
    "\"\"\"\n",
    "\n",
    "cursor1.execute(\"DROP PROCEDURE IF EXISTS GuestStatus\")\n",
    "\n",
    "query_GuestStatus  = \"\"\"\n",
    "CREATE PROCEDURE GuestStatus()\n",
    "BEGIN\n",
    "\n",
    "SELECT b.tableNo, CONCAT(b.guestFirstName, ' ',b.guestLastName) 'Name',\n",
    "CASE\n",
    "    WHEN e.role = 'Manager' OR e.role = 'Assistant Manager' THEN 'Ready to pay'\n",
    "    WHEN e.role = 'Head Chef' THEN 'Ready to serve'\n",
    "    WHEN e.role = 'Assistant Chef' THEN 'Preparing Order'\n",
    "    WHEN e.role = 'Head Waiter' THEN 'Order served'\n",
    "END AS Status    \n",
    "FROM bookings b LEFT JOIN employees e \n",
    "ON b.employeeID = e.employeeID;\n",
    "END\n",
    "\"\"\"\n",
    "cursor1.execute(query_GuestStatus)\n",
    "print('Procedure created.')"
   ]
  },
  {
   "cell_type": "code",
   "execution_count": 8,
   "metadata": {},
   "outputs": [
    {
     "data": {
      "text/html": [
       "<style type=\"text/css\">\n",
       "</style>\n",
       "<table id=\"T_d6003\">\n",
       "  <thead>\n",
       "    <tr>\n",
       "      <th id=\"T_d6003_level0_col0\" class=\"col_heading level0 col0\" >tableNo</th>\n",
       "      <th id=\"T_d6003_level0_col1\" class=\"col_heading level0 col1\" >Name</th>\n",
       "      <th id=\"T_d6003_level0_col2\" class=\"col_heading level0 col2\" >Status</th>\n",
       "    </tr>\n",
       "  </thead>\n",
       "  <tbody>\n",
       "    <tr>\n",
       "      <td id=\"T_d6003_row0_col0\" class=\"data row0 col0\" >12</td>\n",
       "      <td id=\"T_d6003_row0_col1\" class=\"data row0 col1\" >Anna Iversen</td>\n",
       "      <td id=\"T_d6003_row0_col2\" class=\"data row0 col2\" >Ready to pay</td>\n",
       "    </tr>\n",
       "    <tr>\n",
       "      <td id=\"T_d6003_row1_col0\" class=\"data row1 col0\" >12</td>\n",
       "      <td id=\"T_d6003_row1_col1\" class=\"data row1 col1\" >Joakim Iversen</td>\n",
       "      <td id=\"T_d6003_row1_col2\" class=\"data row1 col2\" >Ready to pay</td>\n",
       "    </tr>\n",
       "    <tr>\n",
       "      <td id=\"T_d6003_row2_col0\" class=\"data row2 col0\" >19</td>\n",
       "      <td id=\"T_d6003_row2_col1\" class=\"data row2 col1\" >Vanessa McCarthy</td>\n",
       "      <td id=\"T_d6003_row2_col2\" class=\"data row2 col2\" >Ready to serve</td>\n",
       "    </tr>\n",
       "    <tr>\n",
       "      <td id=\"T_d6003_row3_col0\" class=\"data row3 col0\" >15</td>\n",
       "      <td id=\"T_d6003_row3_col1\" class=\"data row3 col1\" >Marcos Romero</td>\n",
       "      <td id=\"T_d6003_row3_col2\" class=\"data row3 col2\" >Preparing Order</td>\n",
       "    </tr>\n",
       "    <tr>\n",
       "      <td id=\"T_d6003_row4_col0\" class=\"data row4 col0\" >5</td>\n",
       "      <td id=\"T_d6003_row4_col1\" class=\"data row4 col1\" >Hiroki Yamane</td>\n",
       "      <td id=\"T_d6003_row4_col2\" class=\"data row4 col2\" >Ready to pay</td>\n",
       "    </tr>\n",
       "    <tr>\n",
       "      <td id=\"T_d6003_row5_col0\" class=\"data row5 col0\" >8</td>\n",
       "      <td id=\"T_d6003_row5_col1\" class=\"data row5 col1\" >Diana Pinto</td>\n",
       "      <td id=\"T_d6003_row5_col2\" class=\"data row5 col2\" >Order served</td>\n",
       "    </tr>\n",
       "  </tbody>\n",
       "</table>\n"
      ],
      "text/plain": [
       "<pandas.io.formats.style.Styler at 0x20c05e30340>"
      ]
     },
     "execution_count": 8,
     "metadata": {},
     "output_type": "execute_result"
    }
   ],
   "source": [
    "# 2.1 Call and create a dataframe for the created procedure:\n",
    "\n",
    "cursor1.callproc('GuestStatus')\n",
    "results2 = next(cursor1.stored_results())\n",
    "dataset2 = results2.fetchall()\n",
    "columns2 = results2.column_names\n",
    "\n",
    "df2 = pd.DataFrame(data=dataset2, columns=columns2)\n",
    "df2.style.hide(axis='index')"
   ]
  }
 ],
 "metadata": {
  "kernelspec": {
   "display_name": "Python 3",
   "language": "python",
   "name": "python3"
  },
  "language_info": {
   "codemirror_mode": {
    "name": "ipython",
    "version": 3
   },
   "file_extension": ".py",
   "mimetype": "text/x-python",
   "name": "python",
   "nbconvert_exporter": "python",
   "pygments_lexer": "ipython3",
   "version": "3.10.4"
  },
  "orig_nbformat": 4,
  "vscode": {
   "interpreter": {
    "hash": "c172f04bf2abf09c84be7d053ce294f511e0ab0bd5a6805bf62779ab90bd0801"
   }
  }
 },
 "nbformat": 4,
 "nbformat_minor": 2
}
