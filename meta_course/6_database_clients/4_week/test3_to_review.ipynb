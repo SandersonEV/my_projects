{
 "cells": [
  {
   "attachments": {},
   "cell_type": "markdown",
   "metadata": {},
   "source": [
    "Task 1:\n",
    "Complete the following steps to establish a connection pool:\n",
    "\n",
    "To create a connection pool, import MySQLConnectionPool class from MySQL Connector/Python.\n",
    "\n",
    "To find the information on the error, import the Error class from MySQL Connector/Python.\n",
    "\n",
    "Define your database configurations as a Python dictionary object called dbconfig.\n",
    "\n",
    "Establish a connection pool [pool_name = pool_b] with two connections. \n",
    "\n",
    "Implement error handling using a try-except block in case the connection fails."
   ]
  },
  {
   "cell_type": "code",
   "execution_count": 1,
   "metadata": {},
   "outputs": [],
   "source": [
    "\"\"\"\n",
    "To create a connection pool, import MySQLConnectionPool class from MySQL Connector/Python.\n",
    "To find the information on the error, import the Error class from MySQL Connector/Python.\n",
    "\"\"\"\n",
    "\n",
    "from mysql.connector.pooling import MySQLConnectionPool\n",
    "from mysql.connector import Error\n",
    "import mysql.connector as connector\n",
    "import pandas as pd"
   ]
  },
  {
   "cell_type": "code",
   "execution_count": 2,
   "metadata": {},
   "outputs": [],
   "source": [
    "\"\"\"\n",
    "Define your database configurations as a Python dictionary object called dbconfig.\n",
    "\"\"\"\n",
    "\n",
    "dbconfig = {\n",
    "    'user' : 'root',\n",
    "    'password' : '******',\n",
    "    'database' : 'meta_pytomysql_test'\n",
    "}"
   ]
  },
  {
   "cell_type": "code",
   "execution_count": 3,
   "metadata": {},
   "outputs": [
    {
     "name": "stdout",
     "output_type": "stream",
     "text": [
      "The connection pool is created with a name:  pool_b\n",
      "The pool size is:  2\n"
     ]
    }
   ],
   "source": [
    "\"\"\"\n",
    "Establish a connection pool [pool_name = pool_b] with two connections. \n",
    "Implement error handling using a try-except block in case the connection fails.\n",
    "\"\"\"\n",
    "\n",
    "try:\n",
    "    pool = MySQLConnectionPool(\n",
    "        pool_name = 'pool_b',\n",
    "        pool_size =  2,\n",
    "        **dbconfig\n",
    "    )\n",
    "    print('The connection pool is created with a name: ', pool.pool_name)\n",
    "    print('The pool size is: ', pool.pool_size)\n",
    "\n",
    "except Error as err:\n",
    "    print('Error code: ', err.errno)\n",
    "    print('Error message: ', err.msg)"
   ]
  },
  {
   "attachments": {},
   "cell_type": "markdown",
   "metadata": {},
   "source": [
    "Task 2:\n",
    "Three guests are trying to book dinner slots simultaneously. Get the connections from pool_b and insert the following data in the Bookings table:\n",
    "\n",
    "TIP: You need to add a connection to connect the third guest.\n",
    "\n",
    "Guest 1:\n",
    "Table Number: 8\n",
    "First Name: Anees\n",
    "Last Name: Java\n",
    "Booking Time: 18:00\n",
    "EmployeeID: 6\n",
    "\n",
    "Guest 2:\n",
    "Table Number: 5\n",
    "First Name: Bald\n",
    "Last Name: Vin\n",
    "Booking Time: 19:00\n",
    "EmployeeID: 6\n",
    "\n",
    "Guest 3:\n",
    "Table Number: 12\n",
    "First Name: Jay\n",
    "Last Name: Kon\n",
    "Booking Time: 19:30 \n",
    "EmployeeID: 6\n",
    "\n",
    "Return all the connections back to the pool. \n",
    "\n",
    "TIP: The pool size is two. However, you have three connected users. You can only return two connections. Returning a third connection will raise a PoolError. Use try-except to print the error message.  "
   ]
  },
  {
   "cell_type": "code",
   "execution_count": 4,
   "metadata": {},
   "outputs": [],
   "source": [
    "guests = ['guest1', 'guest2', 'guest3']"
   ]
  },
  {
   "cell_type": "code",
   "execution_count": 5,
   "metadata": {},
   "outputs": [
    {
     "name": "stdout",
     "output_type": "stream",
     "text": [
      "The user guest1 is connected using the id 93\n",
      "The user guest2 is connected using the id 94\n",
      "It's not possible to establish a connection because the pool pool_b has used 2 connections.\n",
      "Trying to make a connection manually...\n",
      "A connection with the database was established.\n",
      "guest3 was edded in the pool using the id 95\n"
     ]
    }
   ],
   "source": [
    "for guest in guests:\n",
    "\n",
    "    try:\n",
    "        connection = pool.get_connection()\n",
    "        print(f'The user {guest} is connected using the id {connection.connection_id}')\n",
    "    except:\n",
    "        print(f\"It's not possible to establish a connection because the pool {pool.pool_name} has used {pool.pool_size} connections.\")\n",
    "        print(f\"Trying to make a connection manually...\")\n",
    "\n",
    "        connection = connector.connect(**dbconfig)\n",
    "        print('A connection with the database was established.')\n",
    "        pool.add_connection(cnx=connection)\n",
    "\n",
    "        print(f\"{guest} was edded in the pool using the id {connection.connection_id}\")"
   ]
  },
  {
   "attachments": {},
   "cell_type": "markdown",
   "metadata": {},
   "source": [
    "Task 3:\n",
    "Create a report containing the following information:\n",
    "\n",
    "The name and EmployeeID of the Little Lemon manager.\n",
    "\n",
    "The name and role of the employee who receives the highest salary.\n",
    "\n",
    "The number of guests booked between 18:00 and 20:00.\n",
    "\n",
    "The full name and BookingID of all guests waiting to be seated with the receptionist in sorted order with respect to their BookingSlot."
   ]
  },
  {
   "cell_type": "code",
   "execution_count": 6,
   "metadata": {},
   "outputs": [
    {
     "name": "stdout",
     "output_type": "stream",
     "text": [
      "cursor created.\n"
     ]
    }
   ],
   "source": [
    "# Task 3:\n",
    "try:\n",
    "    cursor1 = connection.cursor()\n",
    "    print('cursor created.')\n",
    "except:\n",
    "    print(\"Can't create the cursor\")"
   ]
  },
  {
   "cell_type": "code",
   "execution_count": 7,
   "metadata": {},
   "outputs": [
    {
     "data": {
      "text/html": [
       "<style type=\"text/css\">\n",
       "</style>\n",
       "<table id=\"T_3af06\">\n",
       "  <thead>\n",
       "    <tr>\n",
       "      <th id=\"T_3af06_level0_col0\" class=\"col_heading level0 col0\" >Name</th>\n",
       "      <th id=\"T_3af06_level0_col1\" class=\"col_heading level0 col1\" >EmployeeID</th>\n",
       "    </tr>\n",
       "  </thead>\n",
       "  <tbody>\n",
       "    <tr>\n",
       "      <td id=\"T_3af06_row0_col0\" class=\"data row0 col0\" >Mario Gollini</td>\n",
       "      <td id=\"T_3af06_row0_col1\" class=\"data row0 col1\" >1</td>\n",
       "    </tr>\n",
       "  </tbody>\n",
       "</table>\n"
      ],
      "text/plain": [
       "<pandas.io.formats.style.Styler at 0x222b564cf10>"
      ]
     },
     "execution_count": 7,
     "metadata": {},
     "output_type": "execute_result"
    }
   ],
   "source": [
    "# Task 3.1: The name and EmployeeID of the Little Lemon manager.\n",
    "\n",
    "query_report1 = \"\"\"SELECT name AS 'Name', EmployeeID FROM employees WHERE role = 'Manager';\"\"\"\n",
    "cursor1.execute(query_report1)\n",
    "\n",
    "results1 = cursor1.fetchall()\n",
    "columns1 = cursor1.column_names\n",
    "\n",
    "df1 = pd.DataFrame(data=results1, columns=columns1)\n",
    "df1.style.hide(axis='index')"
   ]
  },
  {
   "cell_type": "code",
   "execution_count": 8,
   "metadata": {},
   "outputs": [
    {
     "data": {
      "text/html": [
       "<style type=\"text/css\">\n",
       "</style>\n",
       "<table id=\"T_7b00b\">\n",
       "  <thead>\n",
       "    <tr>\n",
       "      <th id=\"T_7b00b_level0_col0\" class=\"col_heading level0 col0\" >Name</th>\n",
       "      <th id=\"T_7b00b_level0_col1\" class=\"col_heading level0 col1\" >Role</th>\n",
       "    </tr>\n",
       "  </thead>\n",
       "  <tbody>\n",
       "    <tr>\n",
       "      <td id=\"T_7b00b_row0_col0\" class=\"data row0 col0\" >Mario Gollini</td>\n",
       "      <td id=\"T_7b00b_row0_col1\" class=\"data row0 col1\" >Manager</td>\n",
       "    </tr>\n",
       "  </tbody>\n",
       "</table>\n"
      ],
      "text/plain": [
       "<pandas.io.formats.style.Styler at 0x222ad623070>"
      ]
     },
     "execution_count": 8,
     "metadata": {},
     "output_type": "execute_result"
    }
   ],
   "source": [
    "# Task 3.2: The name and role of the employee who receives the highest salary.\n",
    "\n",
    "query_report2 = \"\"\"SELECT name AS 'Name', role AS 'Role' FROM employees WHERE annual_salary = (SELECT MAX(annual_salary) FROM employees);\"\"\"\n",
    "cursor1.execute(query_report2)\n",
    "\n",
    "results2 = cursor1.fetchall()\n",
    "columns2 = cursor1.column_names\n",
    "\n",
    "df2 = pd.DataFrame(data=results2, columns=columns2)\n",
    "df2.style.hide(axis='index')"
   ]
  },
  {
   "cell_type": "code",
   "execution_count": 9,
   "metadata": {},
   "outputs": [
    {
     "data": {
      "text/html": [
       "<style type=\"text/css\">\n",
       "</style>\n",
       "<table id=\"T_53005\">\n",
       "  <thead>\n",
       "    <tr>\n",
       "      <th id=\"T_53005_level0_col0\" class=\"col_heading level0 col0\" >Bookings: 18:00 - 20:00</th>\n",
       "    </tr>\n",
       "  </thead>\n",
       "  <tbody>\n",
       "    <tr>\n",
       "      <td id=\"T_53005_row0_col0\" class=\"data row0 col0\" >4</td>\n",
       "    </tr>\n",
       "  </tbody>\n",
       "</table>\n"
      ],
      "text/plain": [
       "<pandas.io.formats.style.Styler at 0x222b57cfbb0>"
      ]
     },
     "execution_count": 9,
     "metadata": {},
     "output_type": "execute_result"
    }
   ],
   "source": [
    "# Task 3.3: The number of guests booked between 18:00 and 20:00.\n",
    "\n",
    "query_report3 = \"\"\"SELECT COUNT(*) AS 'Bookings: 18:00 - 20:00' FROM bookings WHERE bookingSlot BETWEEN '18:00' AND '20:00';\"\"\"\n",
    "cursor1.execute(query_report3)\n",
    "\n",
    "results3 = cursor1.fetchall()\n",
    "columns3 = cursor1.column_names\n",
    "\n",
    "df3 = pd.DataFrame(data=results3, columns=columns3)\n",
    "df3.style.hide(axis='index')"
   ]
  },
  {
   "cell_type": "code",
   "execution_count": 10,
   "metadata": {},
   "outputs": [
    {
     "data": {
      "text/html": [
       "<style type=\"text/css\">\n",
       "</style>\n",
       "<table id=\"T_8a737\">\n",
       "  <thead>\n",
       "    <tr>\n",
       "      <th id=\"T_8a737_level0_col0\" class=\"col_heading level0 col0\" >name</th>\n",
       "      <th id=\"T_8a737_level0_col1\" class=\"col_heading level0 col1\" >bookingSlot</th>\n",
       "      <th id=\"T_8a737_level0_col2\" class=\"col_heading level0 col2\" >bookingID</th>\n",
       "    </tr>\n",
       "  </thead>\n",
       "  <tbody>\n",
       "    <tr>\n",
       "      <td id=\"T_8a737_row0_col0\" class=\"data row0 col0\" >Vanessa McCarthy</td>\n",
       "      <td id=\"T_8a737_row0_col1\" class=\"data row0 col1\" >0 days 15:00:00</td>\n",
       "      <td id=\"T_8a737_row0_col2\" class=\"data row0 col2\" >3</td>\n",
       "    </tr>\n",
       "    <tr>\n",
       "      <td id=\"T_8a737_row1_col0\" class=\"data row1 col0\" >Marcos Romero</td>\n",
       "      <td id=\"T_8a737_row1_col1\" class=\"data row1 col1\" >0 days 17:30:00</td>\n",
       "      <td id=\"T_8a737_row1_col2\" class=\"data row1 col2\" >4</td>\n",
       "    </tr>\n",
       "    <tr>\n",
       "      <td id=\"T_8a737_row2_col0\" class=\"data row2 col0\" >Hiroki Yamane</td>\n",
       "      <td id=\"T_8a737_row2_col1\" class=\"data row2 col1\" >0 days 18:30:00</td>\n",
       "      <td id=\"T_8a737_row2_col2\" class=\"data row2 col2\" >5</td>\n",
       "    </tr>\n",
       "    <tr>\n",
       "      <td id=\"T_8a737_row3_col0\" class=\"data row3 col0\" >Anna Iversen</td>\n",
       "      <td id=\"T_8a737_row3_col1\" class=\"data row3 col1\" >0 days 19:00:00</td>\n",
       "      <td id=\"T_8a737_row3_col2\" class=\"data row3 col2\" >1</td>\n",
       "    </tr>\n",
       "    <tr>\n",
       "      <td id=\"T_8a737_row4_col0\" class=\"data row4 col0\" >Joakim Iversen</td>\n",
       "      <td id=\"T_8a737_row4_col1\" class=\"data row4 col1\" >0 days 19:00:00</td>\n",
       "      <td id=\"T_8a737_row4_col2\" class=\"data row4 col2\" >2</td>\n",
       "    </tr>\n",
       "    <tr>\n",
       "      <td id=\"T_8a737_row5_col0\" class=\"data row5 col0\" >Diana Pinto</td>\n",
       "      <td id=\"T_8a737_row5_col1\" class=\"data row5 col1\" >0 days 20:00:00</td>\n",
       "      <td id=\"T_8a737_row5_col2\" class=\"data row5 col2\" >6</td>\n",
       "    </tr>\n",
       "  </tbody>\n",
       "</table>\n"
      ],
      "text/plain": [
       "<pandas.io.formats.style.Styler at 0x222ad51d720>"
      ]
     },
     "execution_count": 10,
     "metadata": {},
     "output_type": "execute_result"
    }
   ],
   "source": [
    "# Task 3.4: The full name and BookingID of all guests waiting to be seated with the receptionist in sorted order with respect to their BookingSlot.\n",
    "\n",
    "query_report4 = \"\"\"SELECT CONCAT(guestFirstName, ' ',guestLastName) name,bookingSlot ,bookingID FROM bookings ORDER BY bookingSlot;\"\"\"\n",
    "cursor1.execute(query_report4)\n",
    "\n",
    "results4 = cursor1.fetchall()\n",
    "columns4 = cursor1.column_names\n",
    "\n",
    "df4 = pd.DataFrame(data=results4, columns=columns4)\n",
    "df4.style.hide(axis='index')"
   ]
  },
  {
   "attachments": {},
   "cell_type": "markdown",
   "metadata": {},
   "source": [
    "Task 4:\n",
    "Create a stored procedure named BasicSalesReport that returns the following statistics: \n",
    "\n",
    "Total sales\n",
    "Average sale\n",
    "Minimum bill paid\n",
    "Maximum bill paid"
   ]
  },
  {
   "cell_type": "code",
   "execution_count": 11,
   "metadata": {},
   "outputs": [
    {
     "name": "stdout",
     "output_type": "stream",
     "text": [
      "Procedure created.\n"
     ]
    }
   ],
   "source": [
    "# Task 4: CREATE THE PROCEDURE\n",
    "cursor1.execute(\"\"\"DROP PROCEDURE IF EXISTS BasicSalesReport;\"\"\")\n",
    "\n",
    "procedure_BasicSalesReport = \"\"\"\n",
    "CREATE PROCEDURE BasicSalesReport()\n",
    "BEGIN\n",
    "\n",
    "SELECT SUM(billAmount) 'Total sales',\n",
    "AVG(billAmount) 'Average sale',\n",
    "MIN(billAmount) 'Minimum bill paid',\n",
    "MAX(billAmount) 'Maximum bill paid' \n",
    "FROM orders;\n",
    "\n",
    "END\n",
    "\"\"\"\n",
    "cursor1.execute(procedure_BasicSalesReport)\n",
    "print('Procedure created.')"
   ]
  },
  {
   "cell_type": "code",
   "execution_count": 12,
   "metadata": {},
   "outputs": [
    {
     "data": {
      "text/html": [
       "<style type=\"text/css\">\n",
       "</style>\n",
       "<table id=\"T_8d828\">\n",
       "  <thead>\n",
       "    <tr>\n",
       "      <th id=\"T_8d828_level0_col0\" class=\"col_heading level0 col0\" >Total sales</th>\n",
       "      <th id=\"T_8d828_level0_col1\" class=\"col_heading level0 col1\" >Average sale</th>\n",
       "      <th id=\"T_8d828_level0_col2\" class=\"col_heading level0 col2\" >Minimum bill paid</th>\n",
       "      <th id=\"T_8d828_level0_col3\" class=\"col_heading level0 col3\" >Maximum bill paid</th>\n",
       "    </tr>\n",
       "  </thead>\n",
       "  <tbody>\n",
       "    <tr>\n",
       "      <td id=\"T_8d828_row0_col0\" class=\"data row0 col0\" >243</td>\n",
       "      <td id=\"T_8d828_row0_col1\" class=\"data row0 col1\" >48.6000</td>\n",
       "      <td id=\"T_8d828_row0_col2\" class=\"data row0 col2\" >37</td>\n",
       "      <td id=\"T_8d828_row0_col3\" class=\"data row0 col3\" >86</td>\n",
       "    </tr>\n",
       "  </tbody>\n",
       "</table>\n"
      ],
      "text/plain": [
       "<pandas.io.formats.style.Styler at 0x222ad51d9f0>"
      ]
     },
     "execution_count": 12,
     "metadata": {},
     "output_type": "execute_result"
    }
   ],
   "source": [
    "# Task 4: Call the procedure BasicSalesReport.\n",
    "\n",
    "cursor1.callproc('BasicSalesReport')\n",
    "results5 = next(cursor1.stored_results())\n",
    "dataset5 = results5.fetchall()\n",
    "columns5 = results5.column_names\n",
    "\n",
    "df5 = pd.DataFrame(data=dataset5, columns=columns5)\n",
    "df5.style.hide(axis='index')"
   ]
  },
  {
   "attachments": {},
   "cell_type": "markdown",
   "metadata": {},
   "source": [
    "Task 5:\n",
    "Little Lemon needs to display the next three upcoming bookings from the Bookings table on the kitchen screen to notify their chefs which orders are due next. To complete this task, carry out the following steps:\n",
    "\n",
    "Get a connection from the pool.\n",
    "\n",
    "Create a buffered cursor.\n",
    "\n",
    "Combine the data from the Bookings and the Employee tables. Sort the retrieved records in ascending order. Then display the information of the first three guests. \n",
    "\n",
    "Returned the connection back to the pool.\n",
    "\n",
    "The output should be as follows:\n",
    "\n",
    "[BookingSlot]\n",
    "\n",
    "[Guest_name]\n",
    "\n",
    "[Assigned to: Employee Name [Employee Role]]"
   ]
  },
  {
   "cell_type": "code",
   "execution_count": 13,
   "metadata": {},
   "outputs": [
    {
     "name": "stdout",
     "output_type": "stream",
     "text": [
      "Connected...\n"
     ]
    }
   ],
   "source": [
    "# Task 5.1: Get a connection from the pool.\n",
    "try:\n",
    "    connection2 = pool.get_connection()\n",
    "    print('Connected...')\n",
    "except:\n",
    "    print('Not possible to create a connection')"
   ]
  },
  {
   "cell_type": "code",
   "execution_count": 18,
   "metadata": {},
   "outputs": [
    {
     "name": "stdout",
     "output_type": "stream",
     "text": [
      "Connection estabilshed with the pool pool_b, with ID: 96\n"
     ]
    }
   ],
   "source": [
    "# confirm the connection with the pool:\n",
    "\n",
    "print(f\"Connection established with the pool {connection2.pool_name}, with ID: {connection2.connection_id}\")"
   ]
  },
  {
   "cell_type": "code",
   "execution_count": 20,
   "metadata": {},
   "outputs": [
    {
     "name": "stdout",
     "output_type": "stream",
     "text": [
      "Cursor created.\n"
     ]
    }
   ],
   "source": [
    "# Task 5.2: Create a buffered cursor.\n",
    "\n",
    "if connection2.is_connected():\n",
    "    cursor2 = connection2.cursor(buffered=True)\n",
    "    print('Cursor created.')\n",
    "else:\n",
    "    print('The connection is not established')"
   ]
  },
  {
   "cell_type": "code",
   "execution_count": 26,
   "metadata": {},
   "outputs": [
    {
     "data": {
      "text/html": [
       "<style type=\"text/css\">\n",
       "</style>\n",
       "<table id=\"T_19c07\">\n",
       "  <thead>\n",
       "    <tr>\n",
       "      <th id=\"T_19c07_level0_col0\" class=\"col_heading level0 col0\" >bookingID</th>\n",
       "      <th id=\"T_19c07_level0_col1\" class=\"col_heading level0 col1\" >tableNo</th>\n",
       "      <th id=\"T_19c07_level0_col2\" class=\"col_heading level0 col2\" >guestFirstName</th>\n",
       "      <th id=\"T_19c07_level0_col3\" class=\"col_heading level0 col3\" >guestLastName</th>\n",
       "      <th id=\"T_19c07_level0_col4\" class=\"col_heading level0 col4\" >bookingSlot</th>\n",
       "      <th id=\"T_19c07_level0_col5\" class=\"col_heading level0 col5\" >employeeID</th>\n",
       "      <th id=\"T_19c07_level0_col6\" class=\"col_heading level0 col6\" >employeeID</th>\n",
       "      <th id=\"T_19c07_level0_col7\" class=\"col_heading level0 col7\" >name</th>\n",
       "      <th id=\"T_19c07_level0_col8\" class=\"col_heading level0 col8\" >role</th>\n",
       "      <th id=\"T_19c07_level0_col9\" class=\"col_heading level0 col9\" >address</th>\n",
       "      <th id=\"T_19c07_level0_col10\" class=\"col_heading level0 col10\" >contact_number</th>\n",
       "      <th id=\"T_19c07_level0_col11\" class=\"col_heading level0 col11\" >email</th>\n",
       "      <th id=\"T_19c07_level0_col12\" class=\"col_heading level0 col12\" >annual_salary</th>\n",
       "    </tr>\n",
       "  </thead>\n",
       "  <tbody>\n",
       "    <tr>\n",
       "      <td id=\"T_19c07_row0_col0\" class=\"data row0 col0\" >1</td>\n",
       "      <td id=\"T_19c07_row0_col1\" class=\"data row0 col1\" >12</td>\n",
       "      <td id=\"T_19c07_row0_col2\" class=\"data row0 col2\" >Anna</td>\n",
       "      <td id=\"T_19c07_row0_col3\" class=\"data row0 col3\" >Iversen</td>\n",
       "      <td id=\"T_19c07_row0_col4\" class=\"data row0 col4\" >0 days 19:00:00</td>\n",
       "      <td id=\"T_19c07_row0_col5\" class=\"data row0 col5\" >1</td>\n",
       "      <td id=\"T_19c07_row0_col6\" class=\"data row0 col6\" >1</td>\n",
       "      <td id=\"T_19c07_row0_col7\" class=\"data row0 col7\" >Mario Gollini</td>\n",
       "      <td id=\"T_19c07_row0_col8\" class=\"data row0 col8\" >Manager</td>\n",
       "      <td id=\"T_19c07_row0_col9\" class=\"data row0 col9\" >724, Parsley Lane, Old Town, Chicago, IL</td>\n",
       "      <td id=\"T_19c07_row0_col10\" class=\"data row0 col10\" >351258074</td>\n",
       "      <td id=\"T_19c07_row0_col11\" class=\"data row0 col11\" >Mario.g@littlelemon.com</td>\n",
       "      <td id=\"T_19c07_row0_col12\" class=\"data row0 col12\" >70</td>\n",
       "    </tr>\n",
       "    <tr>\n",
       "      <td id=\"T_19c07_row1_col0\" class=\"data row1 col0\" >2</td>\n",
       "      <td id=\"T_19c07_row1_col1\" class=\"data row1 col1\" >12</td>\n",
       "      <td id=\"T_19c07_row1_col2\" class=\"data row1 col2\" >Joakim</td>\n",
       "      <td id=\"T_19c07_row1_col3\" class=\"data row1 col3\" >Iversen</td>\n",
       "      <td id=\"T_19c07_row1_col4\" class=\"data row1 col4\" >0 days 19:00:00</td>\n",
       "      <td id=\"T_19c07_row1_col5\" class=\"data row1 col5\" >1</td>\n",
       "      <td id=\"T_19c07_row1_col6\" class=\"data row1 col6\" >1</td>\n",
       "      <td id=\"T_19c07_row1_col7\" class=\"data row1 col7\" >Mario Gollini</td>\n",
       "      <td id=\"T_19c07_row1_col8\" class=\"data row1 col8\" >Manager</td>\n",
       "      <td id=\"T_19c07_row1_col9\" class=\"data row1 col9\" >724, Parsley Lane, Old Town, Chicago, IL</td>\n",
       "      <td id=\"T_19c07_row1_col10\" class=\"data row1 col10\" >351258074</td>\n",
       "      <td id=\"T_19c07_row1_col11\" class=\"data row1 col11\" >Mario.g@littlelemon.com</td>\n",
       "      <td id=\"T_19c07_row1_col12\" class=\"data row1 col12\" >70</td>\n",
       "    </tr>\n",
       "    <tr>\n",
       "      <td id=\"T_19c07_row2_col0\" class=\"data row2 col0\" >3</td>\n",
       "      <td id=\"T_19c07_row2_col1\" class=\"data row2 col1\" >19</td>\n",
       "      <td id=\"T_19c07_row2_col2\" class=\"data row2 col2\" >Vanessa</td>\n",
       "      <td id=\"T_19c07_row2_col3\" class=\"data row2 col3\" >McCarthy</td>\n",
       "      <td id=\"T_19c07_row2_col4\" class=\"data row2 col4\" >0 days 15:00:00</td>\n",
       "      <td id=\"T_19c07_row2_col5\" class=\"data row2 col5\" >3</td>\n",
       "      <td id=\"T_19c07_row2_col6\" class=\"data row2 col6\" >3</td>\n",
       "      <td id=\"T_19c07_row2_col7\" class=\"data row2 col7\" >Giorgos Dioudis</td>\n",
       "      <td id=\"T_19c07_row2_col8\" class=\"data row2 col8\" >Head Chef</td>\n",
       "      <td id=\"T_19c07_row2_col9\" class=\"data row2 col9\" >879 Sage Street, West Loop, Chicago, IL</td>\n",
       "      <td id=\"T_19c07_row2_col10\" class=\"data row2 col10\" >351970582</td>\n",
       "      <td id=\"T_19c07_row2_col11\" class=\"data row2 col11\" >Giorgos.d@littlelemon.com</td>\n",
       "      <td id=\"T_19c07_row2_col12\" class=\"data row2 col12\" >50</td>\n",
       "    </tr>\n",
       "  </tbody>\n",
       "</table>\n"
      ],
      "text/plain": [
       "<pandas.io.formats.style.Styler at 0x222ad51d270>"
      ]
     },
     "execution_count": 26,
     "metadata": {},
     "output_type": "execute_result"
    }
   ],
   "source": [
    "# Task 5.3: Combine the data from the Bookings and the Employee tables. Sort the retrieved records in ascending order. Then display the information of the first three guests. \n",
    "\n",
    "query_combine = \"\"\"\n",
    "select b.*, e.* \n",
    "FROM employees e  \n",
    "INNER JOIN bookings b\n",
    "ON b.employeeID = e.employeeID\n",
    "ORDER BY b.bookingID ASC\n",
    "LIMIT 3;\n",
    "\"\"\"\n",
    "cursor2.execute(query_combine)\n",
    "\n",
    "results6 = cursor2.fetchall()\n",
    "columns6 = cursor2.column_names\n",
    "\n",
    "df6 = pd.DataFrame(data=results6, columns=columns6)\n",
    "df6.style.hide(axis='index')"
   ]
  },
  {
   "cell_type": "code",
   "execution_count": 27,
   "metadata": {},
   "outputs": [
    {
     "name": "stdout",
     "output_type": "stream",
     "text": [
      "Connection closed.\n"
     ]
    }
   ],
   "source": [
    "# Task 5.4: Return the connection.\n",
    "\n",
    "if connection2.is_connected():\n",
    "    connection2.close()\n",
    "    print('Connection closed.')\n",
    "else:\n",
    "    print('The connection do not exist.')"
   ]
  }
 ],
 "metadata": {
  "kernelspec": {
   "display_name": "Python 3",
   "language": "python",
   "name": "python3"
  },
  "language_info": {
   "codemirror_mode": {
    "name": "ipython",
    "version": 3
   },
   "file_extension": ".py",
   "mimetype": "text/x-python",
   "name": "python",
   "nbconvert_exporter": "python",
   "pygments_lexer": "ipython3",
   "version": "3.10.4"
  },
  "orig_nbformat": 4,
  "vscode": {
   "interpreter": {
    "hash": "c172f04bf2abf09c84be7d053ce294f511e0ab0bd5a6805bf62779ab90bd0801"
   }
  }
 },
 "nbformat": 4,
 "nbformat_minor": 2
}
