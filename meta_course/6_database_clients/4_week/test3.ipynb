{
 "cells": [
  {
   "attachments": {},
   "cell_type": "markdown",
   "metadata": {},
   "source": [
    "Exercise 3: Little Lemon analysis and sales report"
   ]
  },
  {
   "cell_type": "code",
   "execution_count": 1,
   "metadata": {},
   "outputs": [],
   "source": [
    "\"\"\"\n",
    "To create a connection pool, import MySQLConnectionPool class from MySQL Connector/Python.\n",
    "To find the information on the error, import the Error class from MySQL Connector/Python.\n",
    "\"\"\"\n",
    "\n",
    "from mysql.connector.pooling import MySQLConnectionPool\n",
    "from mysql.connector import Error\n",
    "import mysql.connector as connector\n",
    "import pandas as pd"
   ]
  },
  {
   "attachments": {},
   "cell_type": "markdown",
   "metadata": {},
   "source": [
    "Task 1:\n",
    "Complete the following steps to establish a connection pool:\n",
    "\n",
    "To create a connection pool, import MySQLConnectionPool class from MySQL Connector/Python.\n",
    "\n",
    "To find the information on the error, import the Error class from MySQL Connector/Python.\n",
    "\n",
    "Define your database configurations as a Python dictionary object called dbconfig.\n",
    "\n",
    "Establish a connection pool [pool_name = pool_b] with two connections. \n",
    "\n",
    "Implement error handling using a try-except block in case the connection fails."
   ]
  },
  {
   "cell_type": "code",
   "execution_count": 2,
   "metadata": {},
   "outputs": [],
   "source": [
    "\"\"\"\n",
    "Define your database configurations as a Python dictionary object called dbconfig.\n",
    "\"\"\"\n",
    "\n",
    "dbconfig = {\n",
    "    'user' : 'root',\n",
    "    'password' : '******',\n",
    "    'database' : 'meta_pytomysql_test'\n",
    "}"
   ]
  },
  {
   "cell_type": "code",
   "execution_count": 3,
   "metadata": {},
   "outputs": [
    {
     "name": "stdout",
     "output_type": "stream",
     "text": [
      "The connection pool is created with a name:  pool_b\n",
      "The pool size is:  2\n"
     ]
    }
   ],
   "source": [
    "\"\"\"\n",
    "Establish a connection pool [pool_name = pool_b] with two connections. \n",
    "Implement error handling using a try-except block in case the connection fails.\n",
    "\"\"\"\n",
    "\n",
    "try:\n",
    "    pool = MySQLConnectionPool(\n",
    "        pool_name = 'pool_b',\n",
    "        pool_size =  2,\n",
    "        **dbconfig\n",
    "    )\n",
    "    print('The connection pool is created with a name: ', pool.pool_name)\n",
    "    print('The pool size is: ', pool.pool_size)\n",
    "\n",
    "except Error as err:\n",
    "    print('Error code: ', err.errno)\n",
    "    print('Error message: ', err.msg)"
   ]
  },
  {
   "attachments": {},
   "cell_type": "markdown",
   "metadata": {},
   "source": [
    "Task 2:\n",
    "Three guests are trying to book dinner slots simultaneously. Get the connections from pool_b and insert the following data in the Bookings table:\n",
    "\n",
    "TIP: You need to add a connection to connect the third guest.\n",
    "\n",
    "Guest 1:\n",
    "Table Number: 8\n",
    "First Name: Anees\n",
    "Last Name: Java\n",
    "Booking Time: 18:00\n",
    "EmployeeID: 6\n",
    "\n",
    "Guest 2:\n",
    "Table Number: 5\n",
    "First Name: Bald\n",
    "Last Name: Vin\n",
    "Booking Time: 19:00\n",
    "EmployeeID: 6\n",
    "\n",
    "Guest 3:\n",
    "Table Number: 12\n",
    "First Name: Jay\n",
    "Last Name: Kon\n",
    "Booking Time: 19:30 \n",
    "EmployeeID: 6\n",
    "\n",
    "Return all the connections back to the pool. \n",
    "\n",
    "TIP: The pool size is two. However, you have three connected users. You can only return two connections. Returning a third connection will raise a PoolError. Use try-except to print the error message.  "
   ]
  },
  {
   "cell_type": "code",
   "execution_count": 4,
   "metadata": {},
   "outputs": [
    {
     "name": "stdout",
     "output_type": "stream",
     "text": [
      "The booking relative to the guest 1 is added into the table\n",
      "The booking relative to the guest 2 is added into the table\n",
      "Adding a new connection to the pool...\n",
      "A new connection is added in the pool.\n",
      "\n",
      "'connection3' is added in the pool.\n",
      "The booking relative to the guest 3 is added into the table\n"
     ]
    }
   ],
   "source": [
    "# Task 2:\n",
    "\n",
    "# Connect the guest 1.\n",
    "connection1 = pool.get_connection()\n",
    "cursor1=connection1.cursor()\n",
    "query_booking1=\"\"\"INSERT INTO bookings \n",
    "(tableNo, guestFirstName, guestLastName, bookingSlot, employeeID)\n",
    "VALUES (8,'Anees','Java','18:00:00',6);\"\"\"\n",
    "cursor1.execute(query_booking1)\n",
    "connection1.commit()\n",
    "print(\"The booking relative to the guest 1 is added into the table\")\n",
    "\n",
    "# Connect the guest 2.\n",
    "connection2 = pool.get_connection()\n",
    "cursor2=connection2.cursor()\n",
    "query_booking2=\"\"\"INSERT INTO bookings \n",
    "(tableNo, guestFirstName, guestLastName, bookingSlot, employeeID)\n",
    "VALUES (5, 'Bald','Vin','19:00:00',6);\"\"\"\n",
    "cursor2.execute(query_booking2)\n",
    "connection2.commit()\n",
    "print(\"The booking relative to the guest 2 is added into the table\")\n",
    "\n",
    "# Adding a new connection to connect the guest 3.\n",
    "\n",
    "try:\n",
    "    connection3 = pool.get_connection()\n",
    "    print(\"The guest 3 is in the pool\")\n",
    "except:\n",
    "    print(\"Adding a new connection to the pool...\")\n",
    "        \n",
    "    # Create a connection\n",
    "    connection=connector.connect(**dbconfig)\n",
    "    # Add the connection into the pool\n",
    "    pool.add_connection(cnx=connection)\n",
    "    print(\"A new connection is added in the pool.\\n\")\n",
    "        \n",
    "    connection3 = pool.get_connection()\n",
    "    print(\"'connection3' is added in the pool.\")\n",
    "\n",
    "# Create the cursor and insert query of the guest 3: \n",
    "cursor3 = connection3.cursor()\n",
    "query_booking3=\"\"\"INSERT INTO bookings \n",
    "(tableNo, guestFirstName, guestLastName, bookingSlot, employeeID)\n",
    "VALUES (12, 'Jay','Kon','19:30:00',6);\"\"\"\n",
    "cursor3.execute(query_booking3)\n",
    "connection3.commit()\n",
    "print(\"The booking relative to the guest 3 is added into the table\")"
   ]
  },
  {
   "cell_type": "code",
   "execution_count": 6,
   "metadata": {},
   "outputs": [
    {
     "name": "stdout",
     "output_type": "stream",
     "text": [
      "Connection is returned to the pool\n",
      "Connection is returned to the pool\n",
      "\n",
      "Connection can't be returned to the pool\n",
      "Error message: Failed adding connection; queue is full\n"
     ]
    }
   ],
   "source": [
    "# Return all the connections back to the pool. \n",
    "\n",
    "for connection in [connection1,connection2, connection3]:\n",
    "    try:\n",
    "        connection.close()\n",
    "        print(\"Connection is returned to the pool\")\n",
    "    except Error as er:\n",
    "        print(\"\\nConnection can't be returned to the pool\" )\n",
    "        print(\"Error message:\", er.msg)"
   ]
  },
  {
   "attachments": {},
   "cell_type": "markdown",
   "metadata": {},
   "source": [
    "Task 3:\n",
    "Create a report containing the following information:\n",
    "\n",
    "The name and EmployeeID of the Little Lemon manager.\n",
    "\n",
    "The name and role of the employee who receives the highest salary.\n",
    "\n",
    "The number of guests booked between 18:00 and 20:00.\n",
    "\n",
    "The full name and BookingID of all guests waiting to be seated with the receptionist in sorted order with respect to their BookingSlot."
   ]
  },
  {
   "cell_type": "code",
   "execution_count": 7,
   "metadata": {},
   "outputs": [
    {
     "name": "stdout",
     "output_type": "stream",
     "text": [
      "The object 'connection' is created with a connection link from the pool_b\n",
      "cursor created.\n"
     ]
    }
   ],
   "source": [
    "# Task 3:\n",
    "connection = pool.get_connection()\n",
    "print(\"The object 'connection' is created with a connection link from the pool_b\")\n",
    "\n",
    "try:\n",
    "    cursor = connection.cursor()\n",
    "    print('cursor created.')\n",
    "except:\n",
    "    print(\"Can't create the cursor\")"
   ]
  },
  {
   "cell_type": "code",
   "execution_count": 8,
   "metadata": {},
   "outputs": [
    {
     "data": {
      "text/html": [
       "<style type=\"text/css\">\n",
       "</style>\n",
       "<table id=\"T_ee9d5\">\n",
       "  <thead>\n",
       "    <tr>\n",
       "      <th id=\"T_ee9d5_level0_col0\" class=\"col_heading level0 col0\" >Name</th>\n",
       "      <th id=\"T_ee9d5_level0_col1\" class=\"col_heading level0 col1\" >EmployeeID</th>\n",
       "    </tr>\n",
       "  </thead>\n",
       "  <tbody>\n",
       "    <tr>\n",
       "      <td id=\"T_ee9d5_row0_col0\" class=\"data row0 col0\" >Mario Gollini</td>\n",
       "      <td id=\"T_ee9d5_row0_col1\" class=\"data row0 col1\" >1</td>\n",
       "    </tr>\n",
       "  </tbody>\n",
       "</table>\n"
      ],
      "text/plain": [
       "<pandas.io.formats.style.Styler at 0x20ebf7f7100>"
      ]
     },
     "execution_count": 8,
     "metadata": {},
     "output_type": "execute_result"
    }
   ],
   "source": [
    "# Task 3.1: The name and EmployeeID of the Little Lemon manager.\n",
    "\n",
    "query_report1 = \"\"\"SELECT name AS 'Name', EmployeeID FROM employees WHERE role = 'Manager';\"\"\"\n",
    "cursor.execute(query_report1)\n",
    "\n",
    "results1 = cursor.fetchall()\n",
    "columns1 = cursor.column_names\n",
    "\n",
    "df1 = pd.DataFrame(data=results1, columns=columns1)\n",
    "df1.style.hide(axis='index')"
   ]
  },
  {
   "cell_type": "code",
   "execution_count": 9,
   "metadata": {},
   "outputs": [
    {
     "data": {
      "text/html": [
       "<style type=\"text/css\">\n",
       "</style>\n",
       "<table id=\"T_04792\">\n",
       "  <thead>\n",
       "    <tr>\n",
       "      <th id=\"T_04792_level0_col0\" class=\"col_heading level0 col0\" >Name</th>\n",
       "      <th id=\"T_04792_level0_col1\" class=\"col_heading level0 col1\" >Role</th>\n",
       "    </tr>\n",
       "  </thead>\n",
       "  <tbody>\n",
       "    <tr>\n",
       "      <td id=\"T_04792_row0_col0\" class=\"data row0 col0\" >Mario Gollini</td>\n",
       "      <td id=\"T_04792_row0_col1\" class=\"data row0 col1\" >Manager</td>\n",
       "    </tr>\n",
       "  </tbody>\n",
       "</table>\n"
      ],
      "text/plain": [
       "<pandas.io.formats.style.Styler at 0x20ec7850f10>"
      ]
     },
     "execution_count": 9,
     "metadata": {},
     "output_type": "execute_result"
    }
   ],
   "source": [
    "# Task 3.2: The name and role of the employee who receives the highest salary.\n",
    "\n",
    "query_report2 = \"\"\"SELECT name AS 'Name', role AS 'Role' FROM employees ORDER BY annual_salary DESC LIMIT 1;\"\"\"\n",
    "cursor.execute(query_report2)\n",
    "\n",
    "results2 = cursor.fetchall()\n",
    "columns2 = cursor.column_names\n",
    "\n",
    "df2 = pd.DataFrame(data=results2, columns=columns2)\n",
    "df2.style.hide(axis='index')"
   ]
  },
  {
   "cell_type": "code",
   "execution_count": 10,
   "metadata": {},
   "outputs": [
    {
     "data": {
      "text/html": [
       "<style type=\"text/css\">\n",
       "</style>\n",
       "<table id=\"T_526f4\">\n",
       "  <thead>\n",
       "    <tr>\n",
       "      <th id=\"T_526f4_level0_col0\" class=\"col_heading level0 col0\" >Bookings: 18:00 - 20:00</th>\n",
       "    </tr>\n",
       "  </thead>\n",
       "  <tbody>\n",
       "    <tr>\n",
       "      <td id=\"T_526f4_row0_col0\" class=\"data row0 col0\" >7</td>\n",
       "    </tr>\n",
       "  </tbody>\n",
       "</table>\n"
      ],
      "text/plain": [
       "<pandas.io.formats.style.Styler at 0x20ec8e2d150>"
      ]
     },
     "execution_count": 10,
     "metadata": {},
     "output_type": "execute_result"
    }
   ],
   "source": [
    "# Task 3.3: The number of guests booked between 18:00 and 20:00.\n",
    "\n",
    "query_report3 = \"\"\"SELECT COUNT(*) AS 'Bookings: 18:00 - 20:00' FROM bookings WHERE bookingSlot BETWEEN '18:00' AND '20:00';\"\"\"\n",
    "cursor.execute(query_report3)\n",
    "\n",
    "results3 = cursor.fetchall()\n",
    "columns3 = cursor.column_names\n",
    "\n",
    "df3 = pd.DataFrame(data=results3, columns=columns3)\n",
    "df3.style.hide(axis='index')"
   ]
  },
  {
   "cell_type": "code",
   "execution_count": 11,
   "metadata": {},
   "outputs": [
    {
     "data": {
      "text/html": [
       "<style type=\"text/css\">\n",
       "</style>\n",
       "<table id=\"T_91e26\">\n",
       "  <thead>\n",
       "    <tr>\n",
       "      <th id=\"T_91e26_level0_col0\" class=\"col_heading level0 col0\" >bookingID</th>\n",
       "      <th id=\"T_91e26_level0_col1\" class=\"col_heading level0 col1\" >Guest Name</th>\n",
       "      <th id=\"T_91e26_level0_col2\" class=\"col_heading level0 col2\" >bookingSlot</th>\n",
       "      <th id=\"T_91e26_level0_col3\" class=\"col_heading level0 col3\" >To Employee</th>\n",
       "    </tr>\n",
       "  </thead>\n",
       "  <tbody>\n",
       "    <tr>\n",
       "      <td id=\"T_91e26_row0_col0\" class=\"data row0 col0\" >7</td>\n",
       "      <td id=\"T_91e26_row0_col1\" class=\"data row0 col1\" >Anees Java</td>\n",
       "      <td id=\"T_91e26_row0_col2\" class=\"data row0 col2\" >0 days 18:00:00</td>\n",
       "      <td id=\"T_91e26_row0_col3\" class=\"data row0 col3\" >Receptionist</td>\n",
       "    </tr>\n",
       "    <tr>\n",
       "      <td id=\"T_91e26_row1_col0\" class=\"data row1 col0\" >8</td>\n",
       "      <td id=\"T_91e26_row1_col1\" class=\"data row1 col1\" >Bald Vin</td>\n",
       "      <td id=\"T_91e26_row1_col2\" class=\"data row1 col2\" >0 days 19:00:00</td>\n",
       "      <td id=\"T_91e26_row1_col3\" class=\"data row1 col3\" >Receptionist</td>\n",
       "    </tr>\n",
       "    <tr>\n",
       "      <td id=\"T_91e26_row2_col0\" class=\"data row2 col0\" >9</td>\n",
       "      <td id=\"T_91e26_row2_col1\" class=\"data row2 col1\" >Jay Kon</td>\n",
       "      <td id=\"T_91e26_row2_col2\" class=\"data row2 col2\" >0 days 19:30:00</td>\n",
       "      <td id=\"T_91e26_row2_col3\" class=\"data row2 col3\" >Receptionist</td>\n",
       "    </tr>\n",
       "  </tbody>\n",
       "</table>\n"
      ],
      "text/plain": [
       "<pandas.io.formats.style.Styler at 0x20ec79d38b0>"
      ]
     },
     "execution_count": 11,
     "metadata": {},
     "output_type": "execute_result"
    }
   ],
   "source": [
    "# Task 3.4: The full name and BookingID of all guests waiting to be seated with the receptionist in sorted order with respect to their BookingSlot.\n",
    "\n",
    "query_report4 = \"\"\"SELECT \n",
    "bookingID, \n",
    "CONCAT(guestFirstName, ' ',guestLastName) AS 'Guest Name',\n",
    "bookingSlot,\n",
    "'Receptionist' AS 'To Employee'\n",
    "FROM bookings WHERE employeeID = (SELECT employeeID FROM employees WHERE role = 'Receptionist')\n",
    "ORDER BY bookingSlot;\"\"\"\n",
    "cursor.execute(query_report4)\n",
    "\n",
    "results4 = cursor.fetchall()\n",
    "columns4 = cursor.column_names\n",
    "\n",
    "df4 = pd.DataFrame(data=results4, columns=columns4)\n",
    "df4.style.hide(axis='index')"
   ]
  },
  {
   "attachments": {},
   "cell_type": "markdown",
   "metadata": {},
   "source": [
    "Task 4:\n",
    "Create a stored procedure named BasicSalesReport that returns the following statistics: \n",
    "\n",
    "Total sales\n",
    "Average sale\n",
    "Minimum bill paid\n",
    "Maximum bill paid"
   ]
  },
  {
   "cell_type": "code",
   "execution_count": 12,
   "metadata": {},
   "outputs": [
    {
     "name": "stdout",
     "output_type": "stream",
     "text": [
      "Procedure created.\n"
     ]
    }
   ],
   "source": [
    "# Task 4: CREATE THE PROCEDURE\n",
    "cursor1.execute(\"\"\"DROP PROCEDURE IF EXISTS BasicSalesReport;\"\"\")\n",
    "\n",
    "procedure_BasicSalesReport = \"\"\"\n",
    "CREATE PROCEDURE BasicSalesReport()\n",
    "BEGIN\n",
    "\n",
    "SELECT SUM(billAmount) 'Total sales',\n",
    "AVG(billAmount) 'Average sale',\n",
    "MIN(billAmount) 'Minimum bill paid',\n",
    "MAX(billAmount) 'Maximum bill paid' \n",
    "FROM orders;\n",
    "\n",
    "END\n",
    "\"\"\"\n",
    "cursor1.execute(procedure_BasicSalesReport)\n",
    "print('Procedure created.')"
   ]
  },
  {
   "cell_type": "code",
   "execution_count": 13,
   "metadata": {},
   "outputs": [
    {
     "data": {
      "text/html": [
       "<style type=\"text/css\">\n",
       "</style>\n",
       "<table id=\"T_c5625\">\n",
       "  <thead>\n",
       "    <tr>\n",
       "      <th id=\"T_c5625_level0_col0\" class=\"col_heading level0 col0\" >Total sales</th>\n",
       "      <th id=\"T_c5625_level0_col1\" class=\"col_heading level0 col1\" >Average sale</th>\n",
       "      <th id=\"T_c5625_level0_col2\" class=\"col_heading level0 col2\" >Minimum bill paid</th>\n",
       "      <th id=\"T_c5625_level0_col3\" class=\"col_heading level0 col3\" >Maximum bill paid</th>\n",
       "    </tr>\n",
       "  </thead>\n",
       "  <tbody>\n",
       "    <tr>\n",
       "      <td id=\"T_c5625_row0_col0\" class=\"data row0 col0\" >243</td>\n",
       "      <td id=\"T_c5625_row0_col1\" class=\"data row0 col1\" >48.6000</td>\n",
       "      <td id=\"T_c5625_row0_col2\" class=\"data row0 col2\" >37</td>\n",
       "      <td id=\"T_c5625_row0_col3\" class=\"data row0 col3\" >86</td>\n",
       "    </tr>\n",
       "  </tbody>\n",
       "</table>\n"
      ],
      "text/plain": [
       "<pandas.io.formats.style.Styler at 0x20ec7d012d0>"
      ]
     },
     "execution_count": 13,
     "metadata": {},
     "output_type": "execute_result"
    }
   ],
   "source": [
    "# Task 4.1: Call the procedure BasicSalesReport.\n",
    "\n",
    "cursor1.callproc('BasicSalesReport')\n",
    "results5 = next(cursor1.stored_results())\n",
    "dataset5 = results5.fetchall()\n",
    "columns5 = results5.column_names\n",
    "\n",
    "df5 = pd.DataFrame(data=dataset5, columns=columns5)\n",
    "df5.style.hide(axis='index')"
   ]
  },
  {
   "attachments": {},
   "cell_type": "markdown",
   "metadata": {},
   "source": [
    "Task 5:\n",
    "Little Lemon needs to display the next three upcoming bookings from the Bookings table on the kitchen screen to notify their chefs which orders are due next. To complete this task, carry out the following steps:\n",
    "\n",
    "Get a connection from the pool.\n",
    "\n",
    "Create a buffered cursor.\n",
    "\n",
    "Combine the data from the Bookings and the Employee tables. Sort the retrieved records in ascending order. Then display the information of the first three guests. \n",
    "\n",
    "Returned the connection back to the pool.\n",
    "\n",
    "The output should be as follows:\n",
    "\n",
    "[BookingSlot]\n",
    "\n",
    "[Guest_name]\n",
    "\n",
    "[Assigned to: Employee Name [Employee Role]]"
   ]
  },
  {
   "cell_type": "code",
   "execution_count": 14,
   "metadata": {},
   "outputs": [
    {
     "name": "stdout",
     "output_type": "stream",
     "text": [
      "Connected...\n"
     ]
    }
   ],
   "source": [
    "# Task 5.1: Get a connection from the pool.\n",
    "try:\n",
    "    connection2 = pool.get_connection()\n",
    "    print('Connected...')\n",
    "except:\n",
    "    print('Not possible to create a connection')"
   ]
  },
  {
   "cell_type": "code",
   "execution_count": 15,
   "metadata": {},
   "outputs": [
    {
     "name": "stdout",
     "output_type": "stream",
     "text": [
      "Connection established with the pool pool_b, with ID: 159\n"
     ]
    }
   ],
   "source": [
    "# confirm the connection with the pool:\n",
    "\n",
    "print(f\"Connection established with the pool {connection2.pool_name}, with ID: {connection2.connection_id}\")"
   ]
  },
  {
   "cell_type": "code",
   "execution_count": 16,
   "metadata": {},
   "outputs": [
    {
     "name": "stdout",
     "output_type": "stream",
     "text": [
      "Cursor created.\n"
     ]
    }
   ],
   "source": [
    "# Task 5.2: Create a buffered cursor.\n",
    "\n",
    "if connection2.is_connected():\n",
    "    cursor2 = connection2.cursor(buffered=True)\n",
    "    print('Cursor created.')\n",
    "else:\n",
    "    print('The connection is not established')"
   ]
  },
  {
   "cell_type": "code",
   "execution_count": 17,
   "metadata": {},
   "outputs": [
    {
     "data": {
      "text/html": [
       "<style type=\"text/css\">\n",
       "</style>\n",
       "<table id=\"T_a8faf\">\n",
       "  <thead>\n",
       "    <tr>\n",
       "      <th id=\"T_a8faf_level0_col0\" class=\"col_heading level0 col0\" >bookingSlot</th>\n",
       "      <th id=\"T_a8faf_level0_col1\" class=\"col_heading level0 col1\" >Guest Name</th>\n",
       "      <th id=\"T_a8faf_level0_col2\" class=\"col_heading level0 col2\" >Employee Name</th>\n",
       "      <th id=\"T_a8faf_level0_col3\" class=\"col_heading level0 col3\" >Employee Role</th>\n",
       "    </tr>\n",
       "  </thead>\n",
       "  <tbody>\n",
       "    <tr>\n",
       "      <td id=\"T_a8faf_row0_col0\" class=\"data row0 col0\" >0 days 15:00:00</td>\n",
       "      <td id=\"T_a8faf_row0_col1\" class=\"data row0 col1\" >Vanessa McCarthy</td>\n",
       "      <td id=\"T_a8faf_row0_col2\" class=\"data row0 col2\" >Giorgos Dioudis</td>\n",
       "      <td id=\"T_a8faf_row0_col3\" class=\"data row0 col3\" >Head Chef</td>\n",
       "    </tr>\n",
       "    <tr>\n",
       "      <td id=\"T_a8faf_row1_col0\" class=\"data row1 col0\" >0 days 17:30:00</td>\n",
       "      <td id=\"T_a8faf_row1_col1\" class=\"data row1 col1\" >Marcos Romero</td>\n",
       "      <td id=\"T_a8faf_row1_col2\" class=\"data row1 col2\" >Fatma Kaya</td>\n",
       "      <td id=\"T_a8faf_row1_col3\" class=\"data row1 col3\" >Assistant Chef</td>\n",
       "    </tr>\n",
       "    <tr>\n",
       "      <td id=\"T_a8faf_row2_col0\" class=\"data row2 col0\" >0 days 18:00:00</td>\n",
       "      <td id=\"T_a8faf_row2_col1\" class=\"data row2 col1\" >Anees Java</td>\n",
       "      <td id=\"T_a8faf_row2_col2\" class=\"data row2 col2\" >John Millar</td>\n",
       "      <td id=\"T_a8faf_row2_col3\" class=\"data row2 col3\" >Receptionist</td>\n",
       "    </tr>\n",
       "  </tbody>\n",
       "</table>\n"
      ],
      "text/plain": [
       "<pandas.io.formats.style.Styler at 0x20ec94b9cf0>"
      ]
     },
     "execution_count": 17,
     "metadata": {},
     "output_type": "execute_result"
    }
   ],
   "source": [
    "# Task 5.3: Combine the data from the Bookings and the Employee tables. Sort the retrieved records in ascending order. Then display the information of the first three guests. \n",
    "\n",
    "query_combine = \"\"\"\n",
    "SELECT b.bookingSlot,\n",
    "CONCAT(b.guestFirstName, ' ', b.guestLastName) AS 'Guest Name',\n",
    "e.name AS 'Employee Name',\n",
    "e.role AS 'Employee Role'\n",
    "FROM employees e  \n",
    "INNER JOIN bookings b\n",
    "ON b.employeeID = e.employeeID\n",
    "ORDER BY b.bookingSlot ASC;\n",
    "\"\"\"\n",
    "cursor2.execute(query_combine)\n",
    "\n",
    "results6 = cursor2.fetchmany(size=3)\n",
    "columns6 = cursor2.column_names\n",
    "\n",
    "df6 = pd.DataFrame(data=results6, columns=columns6)\n",
    "df6.style.hide(axis='index')"
   ]
  },
  {
   "cell_type": "code",
   "execution_count": 18,
   "metadata": {},
   "outputs": [
    {
     "name": "stdout",
     "output_type": "stream",
     "text": [
      "Connection closed.\n"
     ]
    }
   ],
   "source": [
    "# Task 5.4: Return the connection.\n",
    "\n",
    "if connection2.is_connected():\n",
    "    connection2.close()\n",
    "    print('Connection closed.')\n",
    "else:\n",
    "    print('The connection do not exist.')"
   ]
  }
 ],
 "metadata": {
  "kernelspec": {
   "display_name": "Python 3",
   "language": "python",
   "name": "python3"
  },
  "language_info": {
   "codemirror_mode": {
    "name": "ipython",
    "version": 3
   },
   "file_extension": ".py",
   "mimetype": "text/x-python",
   "name": "python",
   "nbconvert_exporter": "python",
   "pygments_lexer": "ipython3",
   "version": "3.10.4"
  },
  "orig_nbformat": 4,
  "vscode": {
   "interpreter": {
    "hash": "c172f04bf2abf09c84be7d053ce294f511e0ab0bd5a6805bf62779ab90bd0801"
   }
  }
 },
 "nbformat": 4,
 "nbformat_minor": 2
}
