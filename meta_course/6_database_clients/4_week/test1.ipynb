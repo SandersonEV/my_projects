{
 "cells": [
  {
   "attachments": {},
   "cell_type": "markdown",
   "metadata": {},
   "source": [
    "Exercise 1: Set up the database "
   ]
  },
  {
   "cell_type": "code",
   "execution_count": 1,
   "metadata": {},
   "outputs": [],
   "source": [
    "import mysql.connector as connector\n",
    "from mysql.connector import Error\n",
    "import pandas as pd"
   ]
  },
  {
   "cell_type": "code",
   "execution_count": 3,
   "metadata": {},
   "outputs": [
    {
     "name": "stdout",
     "output_type": "stream",
     "text": [
      "Connection established...\n",
      "Cursor created...\n"
     ]
    }
   ],
   "source": [
    "# Step 1: Establish a connection and create a cursor:\n",
    "\n",
    "try:\n",
    "    connection = connector.connect(\n",
    "        user = 'root',\n",
    "        password = '******'\n",
    "    )\n",
    "    print('Connection established...')\n",
    "\n",
    "    cursor = connection.cursor(buffered=True)\n",
    "    print('Cursor created...')\n",
    "\n",
    "except Error as err:\n",
    "\n",
    "    print('Error code: ', err.errno)\n",
    "    print('Error message: ',err.msg)"
   ]
  },
  {
   "cell_type": "code",
   "execution_count": 6,
   "metadata": {},
   "outputs": [
    {
     "name": "stdout",
     "output_type": "stream",
     "text": [
      "Database 'meta_pyToMySQL_test' created\n",
      "\n",
      "Database in use:  meta_pytomysql_test\n"
     ]
    }
   ],
   "source": [
    "# Step 2: Create the database and set it for use:\n",
    "\n",
    "cursor.execute(\"\"\"DROP DATABASE IF EXISTS meta_pyToMySQL_test;\"\"\")\n",
    "\n",
    "cursor.execute(\"\"\"CREATE DATABASE meta_pyToMySQL_test;\"\"\")\n",
    "print(\"Database 'meta_pyToMySQL_test' created\")\n",
    "\n",
    "cursor.execute(\"\"\"USE meta_pyToMySQL_test;\"\"\")\n",
    "\n",
    "print('\\nDatabase in use: ', connection.database)"
   ]
  },
  {
   "cell_type": "code",
   "execution_count": 7,
   "metadata": {},
   "outputs": [
    {
     "name": "stdout",
     "output_type": "stream",
     "text": [
      "Table menu_items created.\n",
      "\n",
      "Table menus created.\n",
      "\n",
      "Table bookings created.\n",
      "\n",
      "Table orders created.\n",
      "\n",
      "Table employees created.\n"
     ]
    }
   ],
   "source": [
    "# Step 3: Create tables:\n",
    "\n",
    "create_menuitem_table = \"\"\"CREATE TABLE menu_items (\n",
    "itemID INT AUTO_INCREMENT,\n",
    "name VARCHAR(200),\n",
    "type VARCHAR(100),\n",
    "price INT,\n",
    "PRIMARY KEY (ItemID)\n",
    ");\"\"\"\n",
    "\n",
    "create_menu_table = \"\"\"CREATE TABLE menus (\n",
    "menuID INT,\n",
    "itemID INT,\n",
    "cuisine VARCHAR(100),\n",
    "PRIMARY KEY (MenuID,ItemID)\n",
    ");\"\"\"\n",
    "\n",
    "create_booking_table = \"\"\"CREATE TABLE bookings (\n",
    "bookingID INT AUTO_INCREMENT,\n",
    "tableNo INT,\n",
    "guestFirstName VARCHAR(100) NOT NULL,\n",
    "guestLastName VARCHAR(100) NOT NULL,\n",
    "bookingSlot TIME NOT NULL,\n",
    "employeeID INT,\n",
    "PRIMARY KEY (BookingID)\n",
    ");\"\"\"\n",
    "\n",
    "create_orders_table = \"\"\"CREATE TABLE orders (\n",
    "orderID INT,\n",
    "tableNo INT,\n",
    "menuID INT,\n",
    "bookingID INT,\n",
    "billAmount INT,\n",
    "quantity INT,\n",
    "PRIMARY KEY (OrderID,TableNo)\n",
    ");\"\"\"\n",
    "\n",
    "create_employees_table = \"\"\"\n",
    "CREATE TABLE employees (\n",
    "employeeID INT AUTO_INCREMENT PRIMARY KEY,\n",
    "name VARCHAR(200),\n",
    "role VARCHAR(100),\n",
    "address VARCHAR(200),\n",
    "contact_number INT,\n",
    "email VARCHAR (100),\n",
    "annual_salary INT\n",
    ");\"\"\"\n",
    "\n",
    "# Create MenuItems table\n",
    "cursor.execute(\"DROP TABLE IF EXISTS menu_items \")\n",
    "cursor.execute(create_menuitem_table)\n",
    "print('Table menu_items created.')\n",
    "\n",
    "# Create Menu table\n",
    "cursor.execute(\"DROP TABLE IF EXISTS menus \")\n",
    "cursor.execute(create_menu_table)\n",
    "print('\\nTable menus created.')\n",
    "\n",
    "# Create Bookings table\n",
    "cursor.execute(\"DROP TABLE IF EXISTS bookings \")\n",
    "cursor.execute(create_booking_table)\n",
    "print('\\nTable bookings created.')\n",
    "\n",
    "# Create Orders table\n",
    "cursor.execute(\"DROP TABLE IF EXISTS orders \")\n",
    "cursor.execute(create_orders_table)\n",
    "print('\\nTable orders created.')\n",
    "\n",
    "# Create Employees table\n",
    "cursor.execute(\"DROP TABLE IF EXISTS employees \")\n",
    "cursor.execute(create_employees_table)\n",
    "print('\\nTable employees created.')"
   ]
  },
  {
   "cell_type": "code",
   "execution_count": 8,
   "metadata": {},
   "outputs": [
    {
     "name": "stdout",
     "output_type": "stream",
     "text": [
      "Data inserted into 'menu_items' table\n",
      "\n",
      "Data inserted into 'menus' table\n",
      "\n",
      "Data inserted into 'bookings' table\n",
      "\n",
      "Data inserted into 'orders' table\n",
      "\n",
      "Data inserted into 'employees' table\n"
     ]
    }
   ],
   "source": [
    "\n",
    "#*******************************************************#\n",
    "# Insert query to populate \"menu_items\" table:\n",
    "#*******************************************************#\n",
    "insert_menu_items=\"\"\"\n",
    "INSERT INTO menu_items (itemID, name, type, price)\n",
    "VALUES\n",
    "(1, 'Olives','Starters',5),\n",
    "(2, 'Flatbread','Starters', 5),\n",
    "(3, 'Minestrone', 'Starters', 8),\n",
    "(4, 'Tomato bread','Starters', 8),\n",
    "(5, 'Falafel', 'Starters', 7),\n",
    "(6, 'Hummus', 'Starters', 5),\n",
    "(7, 'Greek salad', 'Main Courses', 15),\n",
    "(8, 'Bean soup', 'Main Courses', 12),\n",
    "(9, 'Pizza', 'Main Courses', 15),\n",
    "(10, 'Greek yoghurt','Desserts', 7),\n",
    "(11, 'Ice cream', 'Desserts', 6),\n",
    "(12, 'Cheesecake', 'Desserts', 4),\n",
    "(13, 'Athens White wine', 'Drinks', 25),\n",
    "(14, 'Corfu Red Wine', 'Drinks', 30),\n",
    "(15, 'Turkish Coffee', 'Drinks', 10),\n",
    "(16, 'Turkish Coffee', 'Drinks', 10),\n",
    "(17, 'Kabasa', 'Main Courses', 17);\"\"\"\n",
    "\n",
    "#*******************************************************#\n",
    "# Insert query to populate \"menu\" table:\n",
    "#*******************************************************#\n",
    "insert_menus=\"\"\"\n",
    "INSERT INTO menus (menuID,itemID,cuisine)\n",
    "VALUES\n",
    "(1, 1, 'Greek'),\n",
    "(1, 7, 'Greek'),\n",
    "(1, 10, 'Greek'),\n",
    "(1, 13, 'Greek'),\n",
    "(2, 3, 'Italian'),\n",
    "(2, 9, 'Italian'),\n",
    "(2, 12, 'Italian'),\n",
    "(2, 15, 'Italian'),\n",
    "(3, 5, 'Turkish'),\n",
    "(3, 17, 'Turkish'),\n",
    "(3, 11, 'Turkish'),\n",
    "(3, 16, 'Turkish');\"\"\"\n",
    "\n",
    "#*******************************************************#\n",
    "# Insert query to populate \"bookings\" table:\n",
    "#*******************************************************#\n",
    "insert_bookings=\"\"\"\n",
    "INSERT INTO bookings (bookingID, tableNo, guestFirstName, \n",
    "guestLastName, bookingSlot, employeeID)\n",
    "VALUES\n",
    "(1, 12, 'Anna','Iversen','19:00:00',1),\n",
    "(2, 12, 'Joakim', 'Iversen', '19:00:00', 1),\n",
    "(3, 19, 'Vanessa', 'McCarthy', '15:00:00', 3),\n",
    "(4, 15, 'Marcos', 'Romero', '17:30:00', 4),\n",
    "(5, 5, 'Hiroki', 'Yamane', '18:30:00', 2),\n",
    "(6, 8, 'Diana', 'Pinto', '20:00:00', 5);\"\"\"\n",
    "\n",
    "#*******************************************************#\n",
    "# Insert query to populate \"orders\" table:\n",
    "#*******************************************************#\n",
    "insert_orders=\"\"\"\n",
    "INSERT INTO orders (orderID, tableNo, menuID, bookingID, quantity, billAmount)\n",
    "VALUES\n",
    "(1, 12, 1, 1, 2, 86),\n",
    "(2, 19, 2, 2, 1, 37),\n",
    "(3, 15, 2, 3, 1, 37),\n",
    "(4, 5, 3, 4, 1, 40),\n",
    "(5, 8, 1, 5, 1, 43);\"\"\"\n",
    "\n",
    "#*******************************************************#\n",
    "# Insert query to populate \"employees\" table:\n",
    "#*******************************************************#\n",
    "insert_employees = \"\"\"\n",
    "INSERT INTO employees (employeeID,name, role, address, contact_number, email, annual_salary)\n",
    "VALUES\n",
    "(01,'Mario Gollini','Manager','724, Parsley Lane, Old Town, Chicago, IL',351258074,'Mario.g@littlelemon.com',70.000),\n",
    "(02,'Adrian Gollini','Assistant Manager','334, Dill Square, Lincoln Park, Chicago, IL',351474048,'Adrian.g@littlelemon.com',65.000),\n",
    "(03,'Giorgos Dioudis','Head Chef','879 Sage Street, West Loop, Chicago, IL',351970582,'Giorgos.d@littlelemon.com',50.000),\n",
    "(04,'Fatma Kaya','Assistant Chef','132  Bay Lane, Chicago, IL',351963569,'Fatma.k@littlelemon.com',45.000),\n",
    "(05,'Elena Salvai','Head Waiter','989 Thyme Square, EdgeWater, Chicago, IL',351074198,'Elena.s@littlelemon.com',40.000),\n",
    "(06,'John Millar','Receptionist','245 Dill Square, Lincoln Park, Chicago, IL',351584508,'John.m@littlelemon.com',35.000);\"\"\"\n",
    "\n",
    "# Populate menu_items table\n",
    "cursor.execute(insert_menu_items)\n",
    "connection.commit()\n",
    "print(\"Data inserted into 'menu_items' table\")\n",
    "\n",
    "# Populate MenuItems table\n",
    "cursor.execute(insert_menus)\n",
    "connection.commit()\n",
    "print(\"\\nData inserted into 'menus' table\")\n",
    "\n",
    "# Populate Bookings table\n",
    "cursor.execute(insert_bookings)\n",
    "connection.commit()\n",
    "print(\"\\nData inserted into 'bookings' table\")\n",
    "\n",
    "# Populate Orders table\n",
    "cursor.execute(insert_orders)\n",
    "connection.commit()\n",
    "print(\"\\nData inserted into 'orders' table\")\n",
    "\n",
    "# Populate Employees table\n",
    "cursor.execute(insert_employees)\n",
    "connection.commit()\n",
    "print(\"\\nData inserted into 'employees' table\")"
   ]
  },
  {
   "cell_type": "code",
   "execution_count": 9,
   "metadata": {},
   "outputs": [
    {
     "name": "stdout",
     "output_type": "stream",
     "text": [
      "Connection closed\n"
     ]
    }
   ],
   "source": [
    "# close connction:\n",
    "\n",
    "if connection.is_connected():\n",
    "    cursor.close()\n",
    "    connection.close()\n",
    "    print('Connection closed')\n",
    "else:\n",
    "    print('Connection do not exists')"
   ]
  }
 ],
 "metadata": {
  "kernelspec": {
   "display_name": "Python 3",
   "language": "python",
   "name": "python3"
  },
  "language_info": {
   "codemirror_mode": {
    "name": "ipython",
    "version": 3
   },
   "file_extension": ".py",
   "mimetype": "text/x-python",
   "name": "python",
   "nbconvert_exporter": "python",
   "pygments_lexer": "ipython3",
   "version": "3.10.4"
  },
  "orig_nbformat": 4,
  "vscode": {
   "interpreter": {
    "hash": "c172f04bf2abf09c84be7d053ce294f511e0ab0bd5a6805bf62779ab90bd0801"
   }
  }
 },
 "nbformat": 4,
 "nbformat_minor": 2
}
