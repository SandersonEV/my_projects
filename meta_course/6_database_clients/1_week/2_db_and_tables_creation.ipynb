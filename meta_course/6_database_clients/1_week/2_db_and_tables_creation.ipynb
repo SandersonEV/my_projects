{
 "cells": [
  {
   "cell_type": "code",
   "execution_count": 1,
   "metadata": {},
   "outputs": [],
   "source": [
    "import mysql.connector as connector"
   ]
  },
  {
   "cell_type": "code",
   "execution_count": 2,
   "metadata": {},
   "outputs": [
    {
     "name": "stdout",
     "output_type": "stream",
     "text": [
      "Connected...\n"
     ]
    }
   ],
   "source": [
    "# 1 - Make a connection with MySQL:\n",
    "\n",
    "try:\n",
    "\n",
    "    connection = connector.connect(\n",
    "        user = 'root',\n",
    "        password = '******')\n",
    "\n",
    "    print('Connected...')\n",
    "\n",
    "except connector.Error as err: # If any error occurs, print the error code and the message\n",
    "\n",
    "    print('Error code: ', err.errno)\n",
    "    print('Error message: ', err.msg)"
   ]
  },
  {
   "cell_type": "code",
   "execution_count": 3,
   "metadata": {},
   "outputs": [
    {
     "name": "stdout",
     "output_type": "stream",
     "text": [
      "Cursor ready...\n"
     ]
    }
   ],
   "source": [
    "# 2 - Create a Cursor:\n",
    "\n",
    "if connection.is_connected():\n",
    "    cursor = connection.cursor()\n",
    "    print('Cursor ready...')\n",
    "else:\n",
    "    print('It was not possible to create cursor as connection was not previously established...')"
   ]
  },
  {
   "cell_type": "code",
   "execution_count": 4,
   "metadata": {},
   "outputs": [
    {
     "name": "stdout",
     "output_type": "stream",
     "text": [
      "('brin',)\n",
      "('comercio',)\n",
      "('information_schema',)\n",
      "('lucky_shrub_my2',)\n",
      "('meta_automobile',)\n",
      "('meta_jewelrystore_db1',)\n",
      "('meta_little_lemon',)\n",
      "('meta_littlelemon_db2',)\n",
      "('meta_lucky_shrub',)\n",
      "('meta_lucky_shrub_my',)\n",
      "('meta_lucky_shrub_my2',)\n",
      "('meta_lucky_shrub_my3',)\n",
      "('meta_lucky_shrub_my4',)\n",
      "('meta_luckyshrub_db2',)\n",
      "('meta_luckyshrub_db3',)\n",
      "('meta_luckyshrub_db4',)\n",
      "('meta_mangata_gallo',)\n",
      "('meta_normalization',)\n",
      "('meta_py_to_mysql',)\n",
      "('meta_restaurant',)\n",
      "('mydb',)\n",
      "('mysql',)\n",
      "('performance_schema',)\n",
      "('puc_projeto',)\n",
      "('sakila',)\n",
      "('sys',)\n",
      "('teste',)\n",
      "('teste2',)\n",
      "('world',)\n"
     ]
    }
   ],
   "source": [
    "# 3 - Create database meta_py_to_mysql:\n",
    "\n",
    "cursor.execute(\"\"\"DROP DATABASE IF EXISTS meta_py_to_mysql\"\"\")\n",
    "\n",
    "create_database_query = \"\"\"CREATE DATABASE meta_py_to_mysql\"\"\" # Make a query to create a new database.\n",
    "cursor.execute(create_database_query) # execute the create database query using the cursor to pass the 'create_database_query'\n",
    "\n",
    "cursor.execute(\"SHOW DATABASES\") # list all databases\n",
    "for database in cursor:\n",
    "    print(database)"
   ]
  },
  {
   "cell_type": "code",
   "execution_count": 5,
   "metadata": {},
   "outputs": [
    {
     "data": {
      "text/plain": [
       "'meta_py_to_mysql'"
      ]
     },
     "execution_count": 5,
     "metadata": {},
     "output_type": "execute_result"
    }
   ],
   "source": [
    "# 4 - Use the created database:\n",
    "\n",
    "use_database_query = \"USE meta_py_to_mysql\"\n",
    "cursor.execute(use_database_query)\n",
    "\n",
    "connection.database # confirm the name of the database in use"
   ]
  },
  {
   "cell_type": "code",
   "execution_count": 6,
   "metadata": {},
   "outputs": [
    {
     "name": "stdout",
     "output_type": "stream",
     "text": [
      "('menu_items',)\n"
     ]
    }
   ],
   "source": [
    "# 5.1 - Create table menu_items:\n",
    "\n",
    "cursor.execute(\"\"\"DROP TABLE IF EXISTS menu_items\"\"\")\n",
    "\n",
    "create_menuitem_table=\"\"\"\n",
    "CREATE TABLE menu_items(\n",
    "itemID INT AUTO_INCREMENT,\n",
    "name VARCHAR(200),\n",
    "type VARCHAR(100),\n",
    "price INT,\n",
    "PRIMARY KEY(itemID)\n",
    ")\n",
    "\"\"\"\n",
    "\n",
    "cursor.execute(create_menuitem_table)\n",
    "\n",
    "cursor.execute('SHOW TABLES') # check all tables in database\n",
    "for table in cursor:\n",
    "    print(table)"
   ]
  },
  {
   "cell_type": "code",
   "execution_count": 7,
   "metadata": {},
   "outputs": [
    {
     "name": "stdout",
     "output_type": "stream",
     "text": [
      "('menu_items',)\n",
      "('menus',)\n"
     ]
    }
   ],
   "source": [
    "# 5.2 - Create table menus:\n",
    "\n",
    "cursor.execute(\"\"\"DROP TABLE IF EXISTS menus\"\"\")\n",
    "\n",
    "create_menu_table = \"\"\"\n",
    "CREATE TABLE menus (\n",
    "menuID INT,\n",
    "itemID INT,\n",
    "cuisine VARCHAR(100),\n",
    "PRIMARY KEY (menuID),\n",
    "FOREIGN KEY (itemID) REFERENCES menu_items(itemID)\n",
    ");\"\"\"\n",
    "\n",
    "cursor.execute(create_menu_table)\n",
    "\n",
    "cursor.execute(\"SHOW TABLES\")\n",
    "for table in cursor:\n",
    "    print(table)"
   ]
  },
  {
   "cell_type": "code",
   "execution_count": 8,
   "metadata": {},
   "outputs": [
    {
     "name": "stdout",
     "output_type": "stream",
     "text": [
      "('bookings',)\n",
      "('menu_items',)\n",
      "('menus',)\n"
     ]
    }
   ],
   "source": [
    "# 5.3 - Create table bookings:\n",
    "\n",
    "cursor.execute(\"\"\"DROP TABLE IF EXISTS bookings\"\"\")\n",
    "\n",
    "create_booking_table = \"\"\"\n",
    "CREATE TABLE bookings (\n",
    "bookingID INT AUTO_INCREMENT,\n",
    "tableNo INT,\n",
    "guestFirstName VARCHAR(100) NOT NULL,\n",
    "guestLastName VARCHAR(100) NOT NULL,\n",
    "bookingSlot TIME NOT NULL,\n",
    "employeeID INT,\n",
    "PRIMARY KEY (bookingID)\n",
    ");\"\"\"\n",
    "\n",
    "cursor.execute(create_booking_table)\n",
    "\n",
    "cursor.execute(\"SHOW TABLES\")\n",
    "for table in cursor:\n",
    "    print(table)"
   ]
  },
  {
   "cell_type": "code",
   "execution_count": 9,
   "metadata": {},
   "outputs": [
    {
     "name": "stdout",
     "output_type": "stream",
     "text": [
      "('bookings',)\n",
      "('menu_items',)\n",
      "('menus',)\n",
      "('orders',)\n"
     ]
    }
   ],
   "source": [
    "# 5.4 - Create table orders:\n",
    "\n",
    "cursor.execute(\"\"\"DROP TABLE IF EXISTS orders\"\"\")\n",
    "\n",
    "create_orders_table = \"\"\"\n",
    "CREATE TABLE orders (\n",
    "orderID INT,\n",
    "tableNo INT,\n",
    "menuID INT,\n",
    "bookingID INT,\n",
    "billAmount INT,\n",
    "quantity INT,\n",
    "PRIMARY KEY (orderID),\n",
    "FOREIGN KEY (menuID) REFERENCES menus(menuID)\n",
    ");\"\"\"\n",
    "\n",
    "cursor.execute(create_orders_table)\n",
    "\n",
    "cursor.execute(\"SHOW TABLES\")\n",
    "for table in cursor:\n",
    "    print(table)"
   ]
  },
  {
   "cell_type": "code",
   "execution_count": 10,
   "metadata": {},
   "outputs": [
    {
     "name": "stdout",
     "output_type": "stream",
     "text": [
      "connection closed.\n"
     ]
    }
   ],
   "source": [
    "# 5.5 close the connection:\n",
    "\n",
    "if connection.is_connected():\n",
    "    cursor.close()\n",
    "    connection.close()\n",
    "    print('connection closed.')\n",
    "else:\n",
    "    print('connection is already closed.')"
   ]
  }
 ],
 "metadata": {
  "kernelspec": {
   "display_name": "Python 3",
   "language": "python",
   "name": "python3"
  },
  "language_info": {
   "codemirror_mode": {
    "name": "ipython",
    "version": 3
   },
   "file_extension": ".py",
   "mimetype": "text/x-python",
   "name": "python",
   "nbconvert_exporter": "python",
   "pygments_lexer": "ipython3",
   "version": "3.10.4"
  },
  "orig_nbformat": 4,
  "vscode": {
   "interpreter": {
    "hash": "c172f04bf2abf09c84be7d053ce294f511e0ab0bd5a6805bf62779ab90bd0801"
   }
  }
 },
 "nbformat": 4,
 "nbformat_minor": 2
}
