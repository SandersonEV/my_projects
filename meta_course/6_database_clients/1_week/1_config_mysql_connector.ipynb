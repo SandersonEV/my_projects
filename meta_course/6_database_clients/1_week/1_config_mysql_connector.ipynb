{
 "cells": [
  {
   "cell_type": "code",
   "execution_count": 7,
   "metadata": {},
   "outputs": [
    {
     "name": "stdout",
     "output_type": "stream",
     "text": [
      "Requirement already satisfied: mysql-connector-python in c:\\users\\sanderson\\appdata\\local\\programs\\python\\python310\\lib\\site-packages (8.0.28)\n",
      "Collecting protobuf>=3.0.0\n",
      "  Downloading protobuf-4.21.12-cp310-abi3-win_amd64.whl (527 kB)\n",
      "     -------------------------------------- 527.0/527.0 kB 2.5 MB/s eta 0:00:00\n",
      "Installing collected packages: protobuf\n",
      "Successfully installed protobuf-4.21.12\n",
      "Note: you may need to restart the kernel to use updated packages.\n"
     ]
    }
   ],
   "source": [
    "%pip install mysql-connector-python\n"
   ]
  },
  {
   "cell_type": "code",
   "execution_count": null,
   "metadata": {},
   "outputs": [],
   "source": [
    "!pip list # search if the connector is in the list"
   ]
  },
  {
   "cell_type": "code",
   "execution_count": 2,
   "metadata": {},
   "outputs": [],
   "source": [
    "import mysql.connector as connector # access the subfolder 'connector' inside of the folder mysql and rename it (API)"
   ]
  },
  {
   "cell_type": "code",
   "execution_count": 7,
   "metadata": {},
   "outputs": [
    {
     "name": "stdout",
     "output_type": "stream",
     "text": [
      "OK\n"
     ]
    }
   ],
   "source": [
    "# basic try-except bult-in Python error handling code block:\n",
    "\n",
    "try:\n",
    "    connection = connector.connect(\n",
    "        user= 'root',\n",
    "        password= '******',\n",
    "        port= 3306,\n",
    "        host = '127.0.0.1',\n",
    "        database= 'meta_lucky_shrub'\n",
    "        ) # the host can be your any domain name but in this case we'll use the localhost '127.0.0.1'\n",
    "    print('connected.')\n",
    "except:\n",
    "    print('Ocorreu um problema ao tentar efetuar a conecção')"
   ]
  },
  {
   "cell_type": "code",
   "execution_count": 14,
   "metadata": {},
   "outputs": [
    {
     "name": "stdout",
     "output_type": "stream",
     "text": [
      "Código do Erro: 1045\n",
      "Mensagem do Erro: Access denied for user 'roodt'@'localhost' (using password: YES)\n"
     ]
    }
   ],
   "source": [
    "# try to connect but if it's not possible show the error code and the error message:\n",
    "\n",
    "try:\n",
    "    connection = connector.connect(\n",
    "        user= 'root',\n",
    "        password= '******',\n",
    "        port= 3306,\n",
    "        host = '127.0.0.1',\n",
    "        database= 'meta_lucky_shrub'\n",
    "    )\n",
    "    print('connected.')\n",
    "except connector.Error as er:\n",
    "    print('Código do Erro:', er.errno)\n",
    "    print('Mensagem do Erro:', er.msg)"
   ]
  },
  {
   "attachments": {},
   "cell_type": "markdown",
   "metadata": {},
   "source": [
    "Mysql-connector has a library called 'errorcode' specifically designed for handling these exceptions better: "
   ]
  },
  {
   "cell_type": "code",
   "execution_count": 12,
   "metadata": {},
   "outputs": [
    {
     "name": "stdout",
     "output_type": "stream",
     "text": [
      "OK\n"
     ]
    }
   ],
   "source": [
    "# import and use mysql-connector errorcode to print a specific message:\n",
    "\n",
    "from mysql.connector import errorcode \n",
    "\n",
    "try:\n",
    "    connection = connector.connect(\n",
    "        user= 'root',\n",
    "        password= '******',\n",
    "        port= 3306,\n",
    "        host = '127.0.0.1',\n",
    "        database= 'meta_lucky_shrub'\n",
    "        ) # the host can be your any domain name but in this case we'll use the localhost '127.0.0.1'\n",
    "    print('OK')\n",
    "except connector.Error as err:\n",
    "    if err.errno == errorcode.ER_ACCESS_DENIED_ERROR: # 'err.errno' = error number. \n",
    "        print('Usuário e/ou senha incorreto/s.')\n",
    "    elif err.errno == errorcode.ER_BAD_DB_ERROR: # when the current error number is equal to the errorcode.xxx (in this case is database error)\n",
    "        print('Base de dados não existe')\n",
    "    else:\n",
    "        print(err)"
   ]
  },
  {
   "cell_type": "code",
   "execution_count": 16,
   "metadata": {},
   "outputs": [
    {
     "name": "stdout",
     "output_type": "stream",
     "text": [
      "A conexão já estava encerrada.\n"
     ]
    }
   ],
   "source": [
    "# Close the cursor and the connection:\n",
    "\n",
    "if connection.is_connected():\n",
    "    connection.close()\n",
    "    print('Conexão encerrada.')\n",
    "else:\n",
    "    print('A conexão já estava encerrada.')"
   ]
  }
 ],
 "metadata": {
  "kernelspec": {
   "display_name": "Python 3",
   "language": "python",
   "name": "python3"
  },
  "language_info": {
   "codemirror_mode": {
    "name": "ipython",
    "version": 3
   },
   "file_extension": ".py",
   "mimetype": "text/x-python",
   "name": "python",
   "nbconvert_exporter": "python",
   "pygments_lexer": "ipython3",
   "version": "3.10.4 (tags/v3.10.4:9d38120, Mar 23 2022, 23:13:41) [MSC v.1929 64 bit (AMD64)]"
  },
  "orig_nbformat": 4,
  "vscode": {
   "interpreter": {
    "hash": "c172f04bf2abf09c84be7d053ce294f511e0ab0bd5a6805bf62779ab90bd0801"
   }
  }
 },
 "nbformat": 4,
 "nbformat_minor": 2
}
